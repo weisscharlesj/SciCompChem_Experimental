{
 "cells": [
  {
   "cell_type": "markdown",
   "id": "ac97ce8d-5fe8-481d-a661-062fa46a57aa",
   "metadata": {},
   "source": [
    "(4)=\n",
    "# Chapter 4: NumPy"
   ]
  },
  {
   "cell_type": "markdown",
   "id": "d9d8abf8-127d-4351-99cf-39b18caece02",
   "metadata": {},
   "source": [
    "NumPy is a popular library in the Python ecosystem and a critical component of the SciPy stack. So much so that NumPy is even included in Apple's default installation of Python and in other Python-powered applications such as [Blender](https://www.blender.org/). While it may be tempting to work with NumPy's objects as lists or to circumnavigate the NumPy library altogether, the time it takes to learn NumPy's powerful features is well worth it! It will often allow you to solve problems with less effort and time and with shorter and faster-executing code. This is due to:\n",
    "\n",
    "- NumPy automatically propagating operations to all values in an array instead of requiring for loops\n",
    "\n",
    "- A massive collection of functions for working with numerical data\n",
    "\n",
    "- Many of NumPy's functions are Python-wrapped C code making them run faster\n",
    "    \n",
    "The NumPy package can be imported by `import numpy`, but the scientific Python community has developed an unofficial, but strong, convention of importing NumPy using the `np` alias. It is a matter of personal preference whether to use the alias or not, but it is strongly encouraged for consistency with the rest of the community. Instead of `numpy.function()`, the function is then called by the shorter `np.function()`. All of the NumPy code in this and subsequent chapters assumes the following import."
   ]
  },
  {
   "cell_type": "code",
   "execution_count": 39,
   "id": "8a966cfa-71a4-4e7e-bb8c-4a4a6343650b",
   "metadata": {},
   "outputs": [],
   "source": [
    "import numpy as np"
   ]
  },
  {
   "cell_type": "markdown",
   "id": "673de40d-1e88-4f12-a4a9-6a02343fbe3a",
   "metadata": {},
   "source": [
    "(4.1)=\n",
    "## 4.1 NumPy Arrays\n",
    "\n",
    "One of the main contributions of NumPy is the *ndarray* (i.e., \"n-dimensional array\"), *NumPy array*, or just *array* for short. This is an object similar to a list or nested list of lists except that mathematical operations and NumPy functions automatically propagate to each element instead of requiring a `for` loop to iterate over it. Because of their power and convenience, arrays are the default object type for any operation performed with NumPy and many scientific libraries that are built on NumPy (e.g., [SciPy](https://www.scipy.org/), [pandas](5), [scikit-learn](12), etc...).\n",
    "\n",
    "(4.1.1)=\n",
    "### 4.1.1 Basic Arrays\n",
    "\n",
    "The NumPy array looks like a Python list wrapped in `array()`. It is an iterable object, so you *could* iterate over it using a `for` loop if you really want to. However, because NumPy automatically propagates operations through the array, `for` loops are typically unnecessary. For example, let us say you want to multiply a list of numbers by 2. Doing this with a list would likely look like the following."
   ]
  },
  {
   "cell_type": "code",
   "execution_count": 40,
   "id": "8ac80d8f-1690-42c6-a8dd-dc82e1ea1e9d",
   "metadata": {},
   "outputs": [
    {
     "name": "stdout",
     "output_type": "stream",
     "text": [
      "0\n",
      "2\n",
      "4\n",
      "6\n",
      "8\n",
      "10\n",
      "12\n",
      "14\n",
      "16\n",
      "18\n"
     ]
    }
   ],
   "source": [
    "nums = [0, 1, 2, 3, 4, 5, 6, 7, 8, 9]\n",
    "for value in nums:\n",
    "    print(2 * value)"
   ]
  },
  {
   "cell_type": "markdown",
   "id": "62bf1db1-84b8-4fc6-84d4-f3fa8e9778d5",
   "metadata": {},
   "source": [
    "In contrast, performing this same operation using a NumPy array only requires multiplying the array by 2."
   ]
  },
  {
   "cell_type": "code",
   "execution_count": 41,
   "id": "0d4d3362-bda3-41fb-a101-b7ab8580878f",
   "metadata": {},
   "outputs": [
    {
     "name": "stdout",
     "output_type": "stream",
     "text": [
      "[ 0  2  4  6  8 10 12 14 16 18]\n"
     ]
    }
   ],
   "source": [
    "arr = np.array([0, 1, 2, 3, 4, 5, 6, 7, 8, 9])\n",
    "print(2 * arr)"
   ]
  },
  {
   "cell_type": "markdown",
   "id": "8428746a-62dd-42e1-ad0a-fdbab848218b",
   "metadata": {},
   "source": [
    "(4.1.2)=\n",
    "### 4.1.2 Type Conversion to Arrays\n",
    "\n",
    "There are three common ways to generate a NumPy array that we will cover in the beginning of this chapter. The first is simply to convert a list or tuple to an array using the `np.array()` function."
   ]
  },
  {
   "cell_type": "code",
   "execution_count": 42,
   "id": "f2b31b6c-e8ae-49fc-84ae-4d4d953bd784",
   "metadata": {},
   "outputs": [
    {
     "data": {
      "text/plain": [
       "array([0, 1, 2, 3, 4, 5, 6, 7, 8, 9])"
      ]
     },
     "execution_count": 42,
     "metadata": {},
     "output_type": "execute_result"
    }
   ],
   "source": [
    "a = [0, 1, 2, 3, 4, 5, 6, 7, 8, 9]  # list\n",
    "arr = np.array(a)\n",
    "arr"
   ]
  },
  {
   "cell_type": "markdown",
   "id": "27a33c01-7665-4d37-8ff9-f4765722cffb",
   "metadata": {},
   "source": [
    "The fact that the object is an ndarray is denoted by the `array()`."
   ]
  },
  {
   "cell_type": "markdown",
   "id": "e83dec1b-cbf3-46ee-838c-2136df60de3b",
   "metadata": {},
   "source": [
    "(4.1.3)=\n",
    "### 4.1.3 Array from Sequence\n",
    "\n",
    "We can also create an array using NumPy sequence-generating functions. There are two common functions in NumPy for this task: `np.arange()` and `np.linspace()`. The `np.arange()` function behaves similarly to the native Python `range()` function with the key difference that it outputs an array. Another minor difference is that while `range()` generates a range object, `np.arange()` generates a sequences of values immediately. The arguments for `np.arange()` are similar to that of Python's `range()` function where start is inclusive and stop is exclusive, but unlike `range()`, the step size for `np.arange()` does not need to be an integer value.\n",
    "\n",
    "~~~python\n",
    "np.arange(start, stop, step)\n",
    "~~~\n",
    "\n",
    "The `np.linspace()` function is related to `np.arange()` except that instead of defining the sequence based on step size, it generates a sequence based on how many evenly distributed points to generate in the given span of numbers. Additionally, `np.arange()` excludes the stop values while `np.linspace()` includes it. The difference between these two functions is somewhat subtle, and the use of one over the other often comes down to user preference or convenience. \n",
    "\n",
    "~~~python\n",
    "np.linspace(start, stop, number of points)\n",
    "~~~"
   ]
  },
  {
   "cell_type": "code",
   "execution_count": 43,
   "id": "3dd70ed6-2a88-40a1-ac90-b7d354799fcd",
   "metadata": {},
   "outputs": [
    {
     "data": {
      "text/plain": [
       "array([0. , 0.5, 1. , 1.5, 2. , 2.5, 3. , 3.5, 4. , 4.5, 5. , 5.5, 6. ,\n",
       "       6.5, 7. , 7.5, 8. , 8.5, 9. , 9.5])"
      ]
     },
     "execution_count": 43,
     "metadata": {},
     "output_type": "execute_result"
    }
   ],
   "source": [
    "arr = np.arange(0, 10, 0.5)\n",
    "arr"
   ]
  },
  {
   "cell_type": "code",
   "execution_count": 44,
   "id": "53c95b92-3e52-4be1-91b6-8d9c95d67cb1",
   "metadata": {},
   "outputs": [
    {
     "data": {
      "text/plain": [
       "array([ 0.        ,  0.52631579,  1.05263158,  1.57894737,  2.10526316,\n",
       "        2.63157895,  3.15789474,  3.68421053,  4.21052632,  4.73684211,\n",
       "        5.26315789,  5.78947368,  6.31578947,  6.84210526,  7.36842105,\n",
       "        7.89473684,  8.42105263,  8.94736842,  9.47368421, 10.        ])"
      ]
     },
     "execution_count": 44,
     "metadata": {},
     "output_type": "execute_result"
    }
   ],
   "source": [
    "arr = np.linspace(0,10, 20)\n",
    "arr"
   ]
  },
  {
   "cell_type": "markdown",
   "id": "d4cd6e20-1e21-4250-b53d-000dafab1739",
   "metadata": {},
   "source": [
    "Two other useful functions for generating arrays are `np.zeros()` and `np.ones()` which generate arrays populated with exclusively zeros and ones, respectively. The functions accept the shape argument as a tuple of the array dimensions in the form `(rows, columns)`."
   ]
  },
  {
   "cell_type": "code",
   "execution_count": 45,
   "id": "d49c922b-feeb-43e0-8684-0aee82852a08",
   "metadata": {},
   "outputs": [
    {
     "data": {
      "text/plain": [
       "array([[0., 0., 0., 0.],\n",
       "       [0., 0., 0., 0.]])"
      ]
     },
     "execution_count": 45,
     "metadata": {},
     "output_type": "execute_result"
    }
   ],
   "source": [
    "np.zeros((2,4))"
   ]
  },
  {
   "cell_type": "code",
   "execution_count": 46,
   "id": "380d38bb-5243-4a98-8fa3-140032781b7f",
   "metadata": {},
   "outputs": [
    {
     "data": {
      "text/plain": [
       "array([1., 1., 1., 1., 1., 1., 1., 1., 1., 1.])"
      ]
     },
     "execution_count": 46,
     "metadata": {},
     "output_type": "execute_result"
    }
   ],
   "source": [
    "np.ones(10)"
   ]
  },
  {
   "cell_type": "markdown",
   "id": "5709495e-8fd2-4083-9c94-9fe5c6d0f292",
   "metadata": {},
   "source": [
    "You should commit to remembering `np.arange()` and `np.linspace()`, as these are used often. The `np.zeros()` and `np.ones()` functions are not as common but are useful in particular applications. They can also be used to generate arrays filled with other values. For example, to generate an array of threes, an array of zeros can be generated and then incremented by 3."
   ]
  },
  {
   "cell_type": "code",
   "execution_count": 47,
   "id": "d2777b65-9525-4e8a-a03c-5d87798e4b75",
   "metadata": {},
   "outputs": [
    {
     "name": "stdout",
     "output_type": "stream",
     "text": [
      "[[3. 3. 3. 3.]\n",
      " [3. 3. 3. 3.]]\n"
     ]
    }
   ],
   "source": [
    "arr = np.zeros((2,4))\n",
    "arr += 3\n",
    "print(arr)"
   ]
  },
  {
   "cell_type": "markdown",
   "id": "cc3ceb9c-a6e8-4fb4-8ebb-e0180125b940",
   "metadata": {},
   "source": [
    "(4.1.4)=\n",
    "### 4.1.4 Arrays from Functions\n",
    "\n",
    "A third approach is to generate an array from a function using `np.fromfunction()` which generates an array of values using the array indices as inputs. This function requires a function as an argument.\n",
    "\n",
    "~~~python\n",
    "np.fromfunction(function, shape)\n",
    "~~~\n",
    "\n",
    "Let us make an array of the dimensions (3,3) where each element is the product of the row and column indices."
   ]
  },
  {
   "cell_type": "code",
   "execution_count": 48,
   "id": "3c46d5ec-d09e-4690-90ac-cde81973fea7",
   "metadata": {},
   "outputs": [],
   "source": [
    "def prod(x, y):\n",
    "    return x * y"
   ]
  },
  {
   "cell_type": "code",
   "execution_count": 49,
   "id": "63e3a263-7504-416a-9537-fc158607c7de",
   "metadata": {},
   "outputs": [
    {
     "data": {
      "text/plain": [
       "array([[0., 0., 0.],\n",
       "       [0., 1., 2.],\n",
       "       [0., 2., 4.]])"
      ]
     },
     "execution_count": 49,
     "metadata": {},
     "output_type": "execute_result"
    }
   ],
   "source": [
    "np.fromfunction(prod, (3,3))"
   ]
  },
  {
   "cell_type": "markdown",
   "id": "4ff4f8a9-7e6c-4782-9fe9-ac2d14fc43f9",
   "metadata": {},
   "source": [
    "(4.2)=\n",
    "## 4.2 Reshaping & Merging Arrays\n",
    "\n",
    "Modifying the dimensions of one or more arrays is a common task in NumPy. This may involve changing the number of columns and rows or merging multiple arrays into a larger array. The *size* and *shape* or an array are the number of elements and dimensions, respectively. These can be determined using the `size` and `shape` NumPy methods."
   ]
  },
  {
   "cell_type": "code",
   "execution_count": 50,
   "id": "35489127-2c59-439d-ac4b-609e72ed3583",
   "metadata": {},
   "outputs": [],
   "source": [
    "counting = np.array([[1, 2, 3], [4, 5, 6]])"
   ]
  },
  {
   "cell_type": "code",
   "execution_count": 51,
   "id": "acbe1aea-7393-47fd-a44b-ca3e80fd8b3e",
   "metadata": {},
   "outputs": [
    {
     "data": {
      "text/plain": [
       "6"
      ]
     },
     "execution_count": 51,
     "metadata": {},
     "output_type": "execute_result"
    }
   ],
   "source": [
    "counting.size"
   ]
  },
  {
   "cell_type": "code",
   "execution_count": 52,
   "id": "2d464cb2-326a-4de3-b7a1-beb20c2d9d2d",
   "metadata": {},
   "outputs": [
    {
     "data": {
      "text/plain": [
       "(2, 3)"
      ]
     },
     "execution_count": 52,
     "metadata": {},
     "output_type": "execute_result"
    }
   ],
   "source": [
    "counting.shape"
   ]
  },
  {
   "cell_type": "markdown",
   "id": "bb57521c-d6ba-4fc2-ad4a-96905454449b",
   "metadata": {},
   "source": [
    "The NumPy convension is to provide the dimensions of a two-dimensional array as **(row, columns)**."
   ]
  },
  {
   "cell_type": "markdown",
   "id": "f3bf4e61-4afa-4788-9140-2d056562dce7",
   "metadata": {},
   "source": [
    "(4.2.1)=\n",
    "### 4.2.1 Reshaping Arrays\n",
    "\n",
    "The dimensions of arrays can be modified using the `np.reshape()` method. This method maintains the number of elements and order of elements in the array but repacks them into a different number of row and columns. Because the number of elements is maintained, the new size array needs to contain the same number of elements as the original.\n",
    "\n",
    "~~~python\n",
    "np.reshape(array, dimensions)\n",
    "~~~\n",
    "\n",
    "In this function, `array` is the NumPy array being reshaped and `dimensions` is a tuple containing the desired number of rows and columns in that order. The original array must fit exactly into the new dimensions or else NumPy will refuse to change it. This method does not change the original array in place but rather returns a modified copy. This is a good time to note that because this and other NumPy functions are methods for NumPy arrays, they can also be called by listing the array up front like list and string methods presented in [chapter 1](1.3.3). For example, the `reshape()` function can be called with `array.reshape(dimensions)`."
   ]
  },
  {
   "cell_type": "code",
   "execution_count": 53,
   "id": "02a720f7-c168-4601-9f6e-1f3db0a04538",
   "metadata": {},
   "outputs": [
    {
     "data": {
      "text/plain": [
       "array([0. , 0.5, 1. , 1.5, 2. , 2.5, 3. , 3.5, 4. , 4.5, 5. , 5.5, 6. ,\n",
       "       6.5, 7. , 7.5, 8. , 8.5, 9. , 9.5])"
      ]
     },
     "execution_count": 53,
     "metadata": {},
     "output_type": "execute_result"
    }
   ],
   "source": [
    "array_1D = np.linspace(0, 9.5, 20)\n",
    "array_1D"
   ]
  },
  {
   "cell_type": "markdown",
   "id": "c43e7380-50e1-406a-8731-6398c51e52cb",
   "metadata": {},
   "source": [
    "The following code reshapes the array into a 4 $\\times$ 5 array."
   ]
  },
  {
   "cell_type": "code",
   "execution_count": 54,
   "id": "4c6d0f43-2a96-4006-adfa-abb397a2f6c8",
   "metadata": {},
   "outputs": [
    {
     "data": {
      "text/plain": [
       "array([[0. , 0.5, 1. , 1.5, 2. ],\n",
       "       [2.5, 3. , 3.5, 4. , 4.5],\n",
       "       [5. , 5.5, 6. , 6.5, 7. ],\n",
       "       [7.5, 8. , 8.5, 9. , 9.5]])"
      ]
     },
     "execution_count": 54,
     "metadata": {},
     "output_type": "execute_result"
    }
   ],
   "source": [
    "array_2D = np.reshape(array_1D, (4, 5))\n",
    "array_2D"
   ]
  },
  {
   "cell_type": "markdown",
   "id": "6cae3e0f-88ac-4fd5-87f4-9f09d9f288d2",
   "metadata": {},
   "source": [
    "If you need to reshape an array with only one new dimension known, place a `-1` in the other. This signals to NumPy that it should choose the second dimension to make the data fit."
   ]
  },
  {
   "cell_type": "markdown",
   "id": "75c26a54-13ee-473b-bd6b-d70b9fc4088f",
   "metadata": {},
   "source": [
    "(4.2.2)=\n",
    "### 4.2.2 Flatten Arrays\n",
    "\n",
    "Flattening an array takes a higher-dimensional array and squishes it into a one-dimensional array. To flatten out an array, the `np.flatten()` method is often the most convenient way."
   ]
  },
  {
   "cell_type": "code",
   "execution_count": 55,
   "id": "e76074f9-41e1-4cba-bab0-4a6a2f6ed590",
   "metadata": {},
   "outputs": [
    {
     "data": {
      "text/plain": [
       "array([0. , 0.5, 1. , 1.5, 2. , 2.5, 3. , 3.5, 4. , 4.5, 5. , 5.5, 6. ,\n",
       "       6.5, 7. , 7.5, 8. , 8.5, 9. , 9.5])"
      ]
     },
     "execution_count": 55,
     "metadata": {},
     "output_type": "execute_result"
    }
   ],
   "source": [
    "array_2D.flatten()"
   ]
  },
  {
   "cell_type": "markdown",
   "id": "71b0091b-4ad2-4f38-93ab-4399cc94cda5",
   "metadata": {},
   "source": [
    "The format of the output makes it look like it is still a 2D array, but notice that there is a comma instead of a square bracket at the end of the first row. The dimensions of this array are 1 $\\times$ 20."
   ]
  },
  {
   "cell_type": "markdown",
   "id": "9ca7dcb1-5e9a-4131-bb01-36650d242e90",
   "metadata": {},
   "source": [
    "(4.2.3)=\n",
    "### 4.2.3 Transpose Arrays\n",
    "\n",
    "Transposing an array rotates the array around the diagonal (Figure 1).\n",
    "\n",
    "![](img/transpose.png)\n",
    "\n",
    "**Figure 1** The `np.transpose()` or `array.T` method transposes the NumPy array effectively flipping the rows and columns.\n",
    "\n",
    "The `np.transpose()` method flips the rows and columns. NumPy also provides an alias/shortcut of `array.T` to accomplish the same outcome. The latter is far more common, so it is the method used here."
   ]
  },
  {
   "cell_type": "code",
   "execution_count": 56,
   "id": "da4ba7b9-b18e-4a3b-af51-8cd3619ae2e8",
   "metadata": {},
   "outputs": [
    {
     "data": {
      "text/plain": [
       "array([[0. , 0.5, 1. , 1.5, 2. ],\n",
       "       [2.5, 3. , 3.5, 4. , 4.5],\n",
       "       [5. , 5.5, 6. , 6.5, 7. ],\n",
       "       [7.5, 8. , 8.5, 9. , 9.5]])"
      ]
     },
     "execution_count": 56,
     "metadata": {},
     "output_type": "execute_result"
    }
   ],
   "source": [
    "array_2D"
   ]
  },
  {
   "cell_type": "code",
   "execution_count": 57,
   "id": "d92bf051-d519-42a1-beed-a81dd1f58fc9",
   "metadata": {},
   "outputs": [
    {
     "data": {
      "text/plain": [
       "array([[0. , 2.5, 5. , 7.5],\n",
       "       [0.5, 3. , 5.5, 8. ],\n",
       "       [1. , 3.5, 6. , 8.5],\n",
       "       [1.5, 4. , 6.5, 9. ],\n",
       "       [2. , 4.5, 7. , 9.5]])"
      ]
     },
     "execution_count": 57,
     "metadata": {},
     "output_type": "execute_result"
    }
   ],
   "source": [
    "array_2D.T"
   ]
  },
  {
   "cell_type": "markdown",
   "id": "74aaaf67-5f91-4ab1-bd2c-87b79483db01",
   "metadata": {},
   "source": [
    "(4.2.4)=\n",
    "### 4.2.4 Merge Arrays\n",
    "\n",
    "Merging arrays can be done in multiple ways. NumPy provides convenient methods for merging arrays using `np.vstack`, `np.hstack`, and `np.dstack` which merge arrays along the vertically, horizontally, and depth-wise axes, respectively (Figure 2).\n",
    "\n",
    "![](img/stack.png)\n",
    "\n",
    "**Figure 2** NumPy arrays can be stacked vertically (top left), depth-wise (top right), or horizontally (bottom) using the `np.vstack()`, `np.dstack()`, and `np.hstack()` functions, respectively."
   ]
  },
  {
   "cell_type": "code",
   "execution_count": 58,
   "id": "934910be-3060-4847-957f-efd4c82786de",
   "metadata": {},
   "outputs": [],
   "source": [
    "a = np.arange(0, 5)"
   ]
  },
  {
   "cell_type": "code",
   "execution_count": 59,
   "id": "5df260e7-4dc0-4fe4-988f-263cc73b08f7",
   "metadata": {},
   "outputs": [],
   "source": [
    "b = np.arange(5, 10)"
   ]
  },
  {
   "cell_type": "code",
   "execution_count": 60,
   "id": "a535576d-b137-486f-a733-49e13acaa572",
   "metadata": {},
   "outputs": [
    {
     "data": {
      "text/plain": [
       "array([[0, 1, 2, 3, 4],\n",
       "       [5, 6, 7, 8, 9]])"
      ]
     },
     "execution_count": 60,
     "metadata": {},
     "output_type": "execute_result"
    }
   ],
   "source": [
    "np.vstack((a, b))"
   ]
  },
  {
   "cell_type": "code",
   "execution_count": 61,
   "id": "67c354ff-4db1-40d9-a9bc-907d74808354",
   "metadata": {},
   "outputs": [
    {
     "data": {
      "text/plain": [
       "array([0, 1, 2, 3, 4, 5, 6, 7, 8, 9])"
      ]
     },
     "execution_count": 61,
     "metadata": {},
     "output_type": "execute_result"
    }
   ],
   "source": [
    "np.hstack((a, b))"
   ]
  },
  {
   "cell_type": "code",
   "execution_count": 62,
   "id": "5499c728-5418-4f2b-a8fd-d0ba63624152",
   "metadata": {},
   "outputs": [
    {
     "data": {
      "text/plain": [
       "array([[[0, 5],\n",
       "        [1, 6],\n",
       "        [2, 7],\n",
       "        [3, 8],\n",
       "        [4, 9]]])"
      ]
     },
     "execution_count": 62,
     "metadata": {},
     "output_type": "execute_result"
    }
   ],
   "source": [
    "np.dstack((a, b))"
   ]
  },
  {
   "cell_type": "markdown",
   "id": "08d1cb07-9e1c-40d1-a4eb-bf46d57ff9c1",
   "metadata": {},
   "source": [
    "(4.3)=\n",
    "## 4.3 Indexing Arrays\n",
    "\n",
    "Similar to lists, it is often useful to be able to index and slice ndarrays. Because arrays are often higher dimensional, there are some differences in indexing that provide extra convenience. \n",
    "\n",
    "(4.3.1)=\n",
    "### 4.3.1 One-Dimensional Arrays\n",
    "\n",
    "Indexing one-dimensional arrays is done in an identical fashion to lists. Simply include the index value(s) or range in square brackets behind the array name."
   ]
  },
  {
   "cell_type": "code",
   "execution_count": 63,
   "id": "615d581f-8188-4188-bc84-412718f5d53d",
   "metadata": {},
   "outputs": [
    {
     "data": {
      "text/plain": [
       "array([0. , 0.5, 1. , 1.5, 2. , 2.5, 3. , 3.5, 4. , 4.5, 5. , 5.5, 6. ,\n",
       "       6.5, 7. , 7.5, 8. , 8.5, 9. , 9.5])"
      ]
     },
     "execution_count": 63,
     "metadata": {},
     "output_type": "execute_result"
    }
   ],
   "source": [
    "array_1D"
   ]
  },
  {
   "cell_type": "code",
   "execution_count": 64,
   "id": "f1c68786-8f2f-424d-bf22-9df57d082c32",
   "metadata": {},
   "outputs": [
    {
     "data": {
      "text/plain": [
       "2.5"
      ]
     },
     "execution_count": 64,
     "metadata": {},
     "output_type": "execute_result"
    }
   ],
   "source": [
    "array_1D[5]"
   ]
  },
  {
   "cell_type": "markdown",
   "id": "cbb013bd-0f18-4fd7-a992-5892702b1dd8",
   "metadata": {},
   "source": [
    "(4.3.2)=\n",
    "### 4.3.2 Two-Dimensional Arrays\n",
    "\n",
    "Two-dimensional arrays can be also indexed in a similar fashion to nested lists, but because arrays are often multidimensional, there is also a shortcut below to make work with arrays more convenient. To access the entire second row of an array, provide the row index in square brackets behind the array name just like indexing in lists."
   ]
  },
  {
   "cell_type": "code",
   "execution_count": 65,
   "id": "61805bd5-4e94-4a3f-a02a-2419615eebfc",
   "metadata": {},
   "outputs": [
    {
     "data": {
      "text/plain": [
       "array([[0. , 0.5, 1. , 1.5, 2. ],\n",
       "       [2.5, 3. , 3.5, 4. , 4.5],\n",
       "       [5. , 5.5, 6. , 6.5, 7. ],\n",
       "       [7.5, 8. , 8.5, 9. , 9.5]])"
      ]
     },
     "execution_count": 65,
     "metadata": {},
     "output_type": "execute_result"
    }
   ],
   "source": [
    "array_2D"
   ]
  },
  {
   "cell_type": "code",
   "execution_count": 66,
   "id": "b53bfd76-a9e1-4c31-8cd7-434c5b29380b",
   "metadata": {},
   "outputs": [
    {
     "data": {
      "text/plain": [
       "array([2.5, 3. , 3.5, 4. , 4.5])"
      ]
     },
     "execution_count": 66,
     "metadata": {},
     "output_type": "execute_result"
    }
   ],
   "source": [
    "array_2D[1]"
   ]
  },
  {
   "cell_type": "markdown",
   "id": "8737e360-b01d-40d7-b96e-2420a9ee556c",
   "metadata": {},
   "source": [
    "To access the first element in the second row, it is perfectly valid to use two adjacent square brackets just as one would use in a nested list of lists. However, to make work more convenient, these square brackets are often combined with the row and column indices separated by commas.\n",
    "\n",
    "~~~python\n",
    "array_name[rows, columns]\n",
    "~~~"
   ]
  },
  {
   "cell_type": "code",
   "execution_count": 67,
   "id": "a8d7ac18-f102-4d37-a69e-e77d31bfc832",
   "metadata": {},
   "outputs": [
    {
     "data": {
      "text/plain": [
       "2.5"
      ]
     },
     "execution_count": 67,
     "metadata": {},
     "output_type": "execute_result"
    }
   ],
   "source": [
    "array_2D[1][0]"
   ]
  },
  {
   "cell_type": "code",
   "execution_count": 68,
   "id": "0f450f7d-abfe-4f84-b056-2e6619dbb808",
   "metadata": {},
   "outputs": [
    {
     "data": {
      "text/plain": [
       "2.5"
      ]
     },
     "execution_count": 68,
     "metadata": {},
     "output_type": "execute_result"
    }
   ],
   "source": [
    "array_2D[1, 0]"
   ]
  },
  {
   "cell_type": "markdown",
   "id": "c2b40115-fa11-4c47-b6a7-91011d78071e",
   "metadata": {},
   "source": [
    "Ranges of values can also be accessed in arrays by using slicing. The following array input generates a slice of the second row of the array. "
   ]
  },
  {
   "cell_type": "code",
   "execution_count": 69,
   "id": "bd606820-5d72-42b5-a717-6830e8a08dc0",
   "metadata": {},
   "outputs": [
    {
     "data": {
      "text/plain": [
       "array([3. , 3.5, 4. , 4.5])"
      ]
     },
     "execution_count": 69,
     "metadata": {},
     "output_type": "execute_result"
    }
   ],
   "source": [
    "array_2D[1, 1:]"
   ]
  },
  {
   "cell_type": "markdown",
   "id": "bf434fd1-0d72-4371-81b1-56756cdd77d3",
   "metadata": {},
   "source": [
    "As seen above, if you want to access an entire row, it is not necessary to indicate the columns. It is implicitly understood that all columns are requested. However, if you want to access the first column, something needs to be placed before the column. The easiest solutions is the use a colon to explicitly indicate all rows."
   ]
  },
  {
   "cell_type": "code",
   "execution_count": 70,
   "id": "c768a895-9234-4a61-8411-98cb1fc7f426",
   "metadata": {},
   "outputs": [
    {
     "data": {
      "text/plain": [
       "array([0. , 0.5, 1. , 1.5, 2. ])"
      ]
     },
     "execution_count": 70,
     "metadata": {},
     "output_type": "execute_result"
    }
   ],
   "source": [
    "array_2D[0] # implicitly understood all columns"
   ]
  },
  {
   "cell_type": "code",
   "execution_count": 71,
   "id": "e4e0f132-f3af-488c-a041-e9b19990bb65",
   "metadata": {},
   "outputs": [
    {
     "data": {
      "text/plain": [
       "array([0. , 0.5, 1. , 1.5, 2. ])"
      ]
     },
     "execution_count": 71,
     "metadata": {},
     "output_type": "execute_result"
    }
   ],
   "source": [
    "array_2D[0, :] # explicit indicating all columns"
   ]
  },
  {
   "cell_type": "code",
   "execution_count": 72,
   "id": "8d14363a-11de-4454-863d-1c4081347b64",
   "metadata": {},
   "outputs": [
    {
     "data": {
      "text/plain": [
       "array([0. , 2.5, 5. , 7.5])"
      ]
     },
     "execution_count": 72,
     "metadata": {},
     "output_type": "execute_result"
    }
   ],
   "source": [
    "array_2D[:, 0]     # all rows"
   ]
  },
  {
   "cell_type": "markdown",
   "id": "b2c8453a-a8c0-423d-8092-ec41f0148617",
   "metadata": {},
   "source": [
    "(4.4)=\n",
    "## 4.4 Vectorization & Broadcasting\n",
    "\n",
    "One of the major advantages of NumPy arrays over lists is that operations automatically *vectorize* across the arrays. That is, mathematical operations propagate through the array(s) instead of requiring `for` loops. This both speeds up the calculations and makes the code easier to read and write. \n",
    "\n",
    "(4.4.1)=\n",
    "### 4.4.1 NumPy Functions\n",
    "\n",
    "Let us take the square root of squares using NumPy's `np.sqrt()` function. The square root is taken of each elements automatically."
   ]
  },
  {
   "cell_type": "code",
   "execution_count": 73,
   "id": "0086aaa7-6fab-4fa8-b470-440874a73eb0",
   "metadata": {},
   "outputs": [],
   "source": [
    "squares = np.array([1, 4, 9, 16, 25])"
   ]
  },
  {
   "cell_type": "code",
   "execution_count": 74,
   "id": "ee2443f1-836c-42d7-8d2c-ae28f01a30f2",
   "metadata": {},
   "outputs": [
    {
     "data": {
      "text/plain": [
       "array([1., 2., 3., 4., 5.])"
      ]
     },
     "execution_count": 74,
     "metadata": {},
     "output_type": "execute_result"
    }
   ],
   "source": [
    "np.sqrt(squares)"
   ]
  },
  {
   "cell_type": "markdown",
   "id": "5385125d-de36-4f67-9d85-1d734db7b6af",
   "metadata": {},
   "source": [
    "Performing this operation requires NumPy's `sqrt()` function. If this is attempted with the math module's `sqrt()` function, an error is returned because this function cannot take the square root of a multi-element object."
   ]
  },
  {
   "cell_type": "code",
   "execution_count": 75,
   "id": "74a6e5a0-f95b-4feb-989f-959afee8d948",
   "metadata": {},
   "outputs": [
    {
     "ename": "TypeError",
     "evalue": "only size-1 arrays can be converted to Python scalars",
     "output_type": "error",
     "traceback": [
      "\u001b[0;31m---------------------------------------------------------------------------\u001b[0m",
      "\u001b[0;31mTypeError\u001b[0m                                 Traceback (most recent call last)",
      "\u001b[0;32m/var/folders/cw/g8p9ghtd3_7b10t_kws_b86h0000gp/T/ipykernel_18026/206549509.py\u001b[0m in \u001b[0;36m<module>\u001b[0;34m\u001b[0m\n\u001b[1;32m      1\u001b[0m \u001b[0;32mimport\u001b[0m \u001b[0mmath\u001b[0m\u001b[0;34m\u001b[0m\u001b[0;34m\u001b[0m\u001b[0m\n\u001b[0;32m----> 2\u001b[0;31m \u001b[0mmath\u001b[0m\u001b[0;34m.\u001b[0m\u001b[0msqrt\u001b[0m\u001b[0;34m(\u001b[0m\u001b[0msquares\u001b[0m\u001b[0;34m)\u001b[0m\u001b[0;34m\u001b[0m\u001b[0;34m\u001b[0m\u001b[0m\n\u001b[0m",
      "\u001b[0;31mTypeError\u001b[0m: only size-1 arrays can be converted to Python scalars"
     ]
    }
   ],
   "source": [
    "import math\n",
    "math.sqrt(squares)"
   ]
  },
  {
   "cell_type": "markdown",
   "id": "9d99f252-06aa-4b94-a5e7-d303c2ecacba",
   "metadata": {},
   "source": [
    "(4.4.2)=\n",
    "### 4.4.2 Scalars & Arrays\n",
    "\n",
    "When performing mathematical operations between a scalar and an array, the same operation is performed across each elements of the array returning an array of the same dimension as the starting array. Below, an array is multiplied by the scaler 3 which results in every element in the array being multiplied by this value.\n",
    "\n",
    "$$ 3 \\times \\left[ \\begin{array}{cc} 5 & 6 \\\\ 7 & 8 \\end{array} \\right] = \\left[ \\begin{array}{cc} 15 & 18 \\\\ 21 & 24 \\end{array} \\right] $$"
   ]
  },
  {
   "cell_type": "code",
   "execution_count": 76,
   "id": "0f82bae7-c032-473a-90c9-ea02452ecf88",
   "metadata": {},
   "outputs": [
    {
     "data": {
      "text/plain": [
       "array([[15, 18],\n",
       "       [21, 24]])"
      ]
     },
     "execution_count": 76,
     "metadata": {},
     "output_type": "execute_result"
    }
   ],
   "source": [
    "3 * np.array([[5, 6], [7, 8]])"
   ]
  },
  {
   "cell_type": "markdown",
   "id": "d41dd2db-f98a-4ee5-9638-39874e511c14",
   "metadata": {},
   "source": [
    "The same outcome arises when performing a similar operation between a 1 $\\times$1 array and a larger array.\n",
    "\n",
    "$$ \\left[ \\begin{array}{c} 2 \\end{array} \\right] + \\left[ \\begin{array}{cc} 10 & 20 \\end{array} \\right] = \\left[ \\begin{array}{cc} 12 & 22 \\end{array} \\right] $$"
   ]
  },
  {
   "cell_type": "code",
   "execution_count": 77,
   "id": "9fe54141-b7ed-4e75-a043-82071100b647",
   "metadata": {},
   "outputs": [
    {
     "data": {
      "text/plain": [
       "array([12, 22])"
      ]
     },
     "execution_count": 77,
     "metadata": {},
     "output_type": "execute_result"
    }
   ],
   "source": [
    "np.array([2]) + np.array([10, 20])"
   ]
  },
  {
   "cell_type": "markdown",
   "id": "93cb3588-842c-4f00-bfeb-f99bbfa203c3",
   "metadata": {},
   "source": [
    "(4.4.3)=\n",
    "### 4.4.3 Arrays of the Same Dimensions\n",
    "\n",
    "If a mathematical operation is performed between two arrays of the same dimensions, then the mathematical operation is performed between corresponding elements in the two arrays. For example, if a pair of 2 $\\times$ 2 arrays are added to one another, then the corresponding elements are added to one another. This means that the top left elements are added together and so on.\n",
    "\n",
    "$$ \\left[ \\begin{array}{cc} 1 & 2 \\\\ 3 & 4 \\end{array} \\right] + \\left[ \\begin{array}{cc} 5 & 6 \\\\ 7 & 8 \\end{array} \\right] = \\left[ \\begin{array}{cc} 6 & 8 \\\\ 10 & 12 \\end{array} \\right] $$"
   ]
  },
  {
   "cell_type": "code",
   "execution_count": 78,
   "id": "3f07352b-1da5-4150-847c-0e35ab1420ef",
   "metadata": {},
   "outputs": [
    {
     "data": {
      "text/plain": [
       "array([[ 6,  8],\n",
       "       [10, 12]])"
      ]
     },
     "execution_count": 78,
     "metadata": {},
     "output_type": "execute_result"
    }
   ],
   "source": [
    "a = np.array([[1,2], [3,4]]) \n",
    "b = np.array([[5,6], [7,8]]) \n",
    "a + b"
   ]
  },
  {
   "cell_type": "markdown",
   "id": "56479f76-9c53-4d80-bda8-d9078bffd38b",
   "metadata": {},
   "source": [
    "(4.4.4)=\n",
    "### 4.4.4 Arrays of Different Dimensions\n",
    "\n",
    "*Broadcasting* is another form of vectorization that is a series of rules for dealing with mathematical operations between two arrays of different dimensions. In broadcasting, the one of the dimensions of the two arrays must be either identical or one-dimensional, otherwise nothing happens except an error message. To deal with the different dimensions, NumPy clones the array with fewer dimensions out so that it has the same dimensions as the other array. It should be noted that NumPy does not really clone out the array in the background; it behavior acts as if it does. It is a convenient way of thinking about the behavior and results. For example, below is the addition between a 2$\\times$2 and a 1$\\times$2 array. \n",
    "\n",
    "$$  \\left[ \\begin{array}{cc} 1 & 2 \\\\ 3 & 4 \\end{array} \\right] +  \\left[ \\begin{array}{cc} 2 & 2 \\end{array} \\right]= ? $$\n",
    "\n",
    "To make the two arrays the same size, the smaller array is cloned along the smaller dimension until the two arrays are the same size as shown below. We are then left with simple corresponding element by corresponding element mathematical operations described in section 4.4.3.\n",
    "\n",
    "$$  \\left[ \\begin{array}{cc} 1 & 2 \\\\ 3 & 4 \\end{array} \\right] +  \\left[ \\begin{array}{cc} 2 & 2 \\\\ 2 & 2 \\end{array} \\right]= \\left[ \\begin{array}{cc} 3 & 4 \\\\ 5 & 6 \\end{array} \\right] $$"
   ]
  },
  {
   "cell_type": "code",
   "execution_count": 79,
   "id": "ba108a18-1a86-4e04-8504-e1cbcb513636",
   "metadata": {},
   "outputs": [
    {
     "data": {
      "text/plain": [
       "array([[3, 4],\n",
       "       [5, 6]])"
      ]
     },
     "execution_count": 79,
     "metadata": {},
     "output_type": "execute_result"
    }
   ],
   "source": [
    "a = np.array([[1,2], [3,4]])\n",
    "b = np.array([2,2])\n",
    "a + b"
   ]
  },
  {
   "cell_type": "markdown",
   "id": "f30a9e84-f3b8-41c2-a2d7-34c6e3a2b044",
   "metadata": {},
   "source": [
    "What happens if a mathematical operation is performed between an array of higher dimensions with a scalar or a 1$\\times$1 array as shown below? You already probably know the answer from [section 4.4.2](4.4.2), but here is how to rationalize the behavior. In this case, no dimensions are the same, but being that one of the arrays has dimensions of one where the two arrays differ, the arrays still broadcast. \n",
    "\n",
    "$$ \\left[ \\begin{array}{cc} 1 & 2 \\\\ 3 & 4 \\end{array} \\right] \\times \\left[ \\begin{array}{c} 2 \\end{array} \\right]= ?  $$\n",
    "\n",
    "Again, the smaller array is cloned until the two arrays are the same size.\n",
    "\n",
    "$$  \\left[ \\begin{array}{cc} 1 & 2 \\\\ 3 & 4 \\end{array} \\right] +  \\left[ \\begin{array}{cc} 2 & 2 \\\\ 2 & 2 \\end{array} \\right]= \\left[ \\begin{array}{cc} 2 & 4 \\\\ 6 & 8 \\end{array} \\right] $$"
   ]
  },
  {
   "cell_type": "code",
   "execution_count": 80,
   "id": "dee89482-1a9b-481d-9917-91b596d81042",
   "metadata": {},
   "outputs": [
    {
     "data": {
      "text/plain": [
       "array([[2, 4],\n",
       "       [6, 8]])"
      ]
     },
     "execution_count": 80,
     "metadata": {},
     "output_type": "execute_result"
    }
   ],
   "source": [
    "a = np.array([[1,2], [3,4]])\n",
    "b = np.array([2]) \n",
    "a * b"
   ]
  },
  {
   "cell_type": "markdown",
   "id": "fdf8a6e9-56f1-4f88-9a4e-ef418301d044",
   "metadata": {},
   "source": [
    "Finally, if we attempt to perform a mathematical operation between two arrays with different dimensions and none of the arrays have a dimension of one where the two arrays are different, an error is raised, and no operation is performed.\n",
    "\n",
    "$$  \\left[ \\begin{array}{cc} 1 & 2 \\\\ 3 & 4 \\end{array} \\right] +  \\left[ \\begin{array}{cCc} 1 & 1 & 1 \\\\ 2 & 2 & 2 \\\\ 3 & 3 & 3 \\end{array} \\right]= ? $$"
   ]
  },
  {
   "cell_type": "code",
   "execution_count": 81,
   "id": "de44753f-6001-4b31-be09-5b06234fa35a",
   "metadata": {},
   "outputs": [
    {
     "ename": "ValueError",
     "evalue": "operands could not be broadcast together with shapes (2,2) (3,3) ",
     "output_type": "error",
     "traceback": [
      "\u001b[0;31m---------------------------------------------------------------------------\u001b[0m",
      "\u001b[0;31mValueError\u001b[0m                                Traceback (most recent call last)",
      "\u001b[0;32m/var/folders/cw/g8p9ghtd3_7b10t_kws_b86h0000gp/T/ipykernel_18026/1370257832.py\u001b[0m in \u001b[0;36m<module>\u001b[0;34m\u001b[0m\n\u001b[1;32m      1\u001b[0m \u001b[0ma\u001b[0m \u001b[0;34m=\u001b[0m \u001b[0mnp\u001b[0m\u001b[0;34m.\u001b[0m\u001b[0marray\u001b[0m\u001b[0;34m(\u001b[0m\u001b[0;34m[\u001b[0m\u001b[0;34m[\u001b[0m\u001b[0;36m1\u001b[0m\u001b[0;34m,\u001b[0m\u001b[0;36m2\u001b[0m\u001b[0;34m]\u001b[0m\u001b[0;34m,\u001b[0m \u001b[0;34m[\u001b[0m\u001b[0;36m3\u001b[0m\u001b[0;34m,\u001b[0m\u001b[0;36m4\u001b[0m\u001b[0;34m]\u001b[0m\u001b[0;34m]\u001b[0m\u001b[0;34m)\u001b[0m\u001b[0;34m\u001b[0m\u001b[0;34m\u001b[0m\u001b[0m\n\u001b[1;32m      2\u001b[0m \u001b[0mb\u001b[0m \u001b[0;34m=\u001b[0m \u001b[0mnp\u001b[0m\u001b[0;34m.\u001b[0m\u001b[0marray\u001b[0m\u001b[0;34m(\u001b[0m\u001b[0;34m[\u001b[0m\u001b[0;34m[\u001b[0m\u001b[0;36m1\u001b[0m\u001b[0;34m,\u001b[0m\u001b[0;36m1\u001b[0m\u001b[0;34m,\u001b[0m\u001b[0;36m1\u001b[0m\u001b[0;34m]\u001b[0m\u001b[0;34m,\u001b[0m \u001b[0;34m[\u001b[0m\u001b[0;36m2\u001b[0m\u001b[0;34m,\u001b[0m\u001b[0;36m2\u001b[0m\u001b[0;34m,\u001b[0m\u001b[0;36m2\u001b[0m\u001b[0;34m]\u001b[0m\u001b[0;34m,\u001b[0m \u001b[0;34m[\u001b[0m\u001b[0;36m3\u001b[0m\u001b[0;34m,\u001b[0m\u001b[0;36m3\u001b[0m\u001b[0;34m,\u001b[0m\u001b[0;36m3\u001b[0m\u001b[0;34m]\u001b[0m\u001b[0;34m]\u001b[0m\u001b[0;34m)\u001b[0m\u001b[0;34m\u001b[0m\u001b[0;34m\u001b[0m\u001b[0m\n\u001b[0;32m----> 3\u001b[0;31m \u001b[0ma\u001b[0m \u001b[0;34m+\u001b[0m \u001b[0mb\u001b[0m\u001b[0;34m\u001b[0m\u001b[0;34m\u001b[0m\u001b[0m\n\u001b[0m",
      "\u001b[0;31mValueError\u001b[0m: operands could not be broadcast together with shapes (2,2) (3,3) "
     ]
    }
   ],
   "source": [
    "a = np.array([[1,2], [3,4]])\n",
    "b = np.array([[1,1,1], [2,2,2], [3,3,3]]) \n",
    "a + b"
   ]
  },
  {
   "cell_type": "markdown",
   "id": "80424825-2dd9-4358-bd06-1af54c514d52",
   "metadata": {},
   "source": [
    "(4.4.5)=\n",
    "### 4.4.5 Vectorizing Python Functions\n",
    "\n",
    "Standard Python functions are often designed to perform a calculation a single time and output Python objects and not NumPy arrays. As an example, the following function calculates the rate of a first-order reaction given the rate constant (`k`) and concentration of reactant (`conc`)."
   ]
  },
  {
   "cell_type": "code",
   "execution_count": 82,
   "id": "a77249c6-ede3-41bc-a7d5-fc00452ba727",
   "metadata": {},
   "outputs": [],
   "source": [
    "def rate(k, conc):\n",
    "    return k * conc"
   ]
  },
  {
   "cell_type": "code",
   "execution_count": 83,
   "id": "30a033d5-b9d4-47d0-8a80-dbb9aaa4765e",
   "metadata": {},
   "outputs": [
    {
     "data": {
      "text/plain": [
       "0.96"
      ]
     },
     "execution_count": 83,
     "metadata": {},
     "output_type": "execute_result"
    }
   ],
   "source": [
    "rate(1.2, 0.80)"
   ]
  },
  {
   "cell_type": "markdown",
   "id": "771c3d90-7ee0-43fa-aef0-a241095e4b71",
   "metadata": {},
   "source": [
    "What happens if we attempt the above calculation using a list of concentration values?"
   ]
  },
  {
   "cell_type": "code",
   "execution_count": 84,
   "id": "49e443a0-14da-4e4d-aa75-c7fa8486403e",
   "metadata": {},
   "outputs": [],
   "source": [
    "concs = [0.1, 0.5, 1.0, 1.5, 2.0]"
   ]
  },
  {
   "cell_type": "code",
   "execution_count": 85,
   "id": "a741397a-1caa-4e3f-868e-40342c423b67",
   "metadata": {},
   "outputs": [
    {
     "ename": "TypeError",
     "evalue": "can't multiply sequence by non-int of type 'float'",
     "output_type": "error",
     "traceback": [
      "\u001b[0;31m---------------------------------------------------------------------------\u001b[0m",
      "\u001b[0;31mTypeError\u001b[0m                                 Traceback (most recent call last)",
      "\u001b[0;32m/var/folders/cw/g8p9ghtd3_7b10t_kws_b86h0000gp/T/ipykernel_18026/93483950.py\u001b[0m in \u001b[0;36m<module>\u001b[0;34m\u001b[0m\n\u001b[0;32m----> 1\u001b[0;31m \u001b[0mrate\u001b[0m\u001b[0;34m(\u001b[0m\u001b[0;36m1.2\u001b[0m\u001b[0;34m,\u001b[0m \u001b[0mconcs\u001b[0m\u001b[0;34m)\u001b[0m\u001b[0;34m\u001b[0m\u001b[0;34m\u001b[0m\u001b[0m\n\u001b[0m",
      "\u001b[0;32m/var/folders/cw/g8p9ghtd3_7b10t_kws_b86h0000gp/T/ipykernel_18026/3081096767.py\u001b[0m in \u001b[0;36mrate\u001b[0;34m(k, conc)\u001b[0m\n\u001b[1;32m      1\u001b[0m \u001b[0;32mdef\u001b[0m \u001b[0mrate\u001b[0m\u001b[0;34m(\u001b[0m\u001b[0mk\u001b[0m\u001b[0;34m,\u001b[0m \u001b[0mconc\u001b[0m\u001b[0;34m)\u001b[0m\u001b[0;34m:\u001b[0m\u001b[0;34m\u001b[0m\u001b[0;34m\u001b[0m\u001b[0m\n\u001b[0;32m----> 2\u001b[0;31m     \u001b[0;32mreturn\u001b[0m \u001b[0mk\u001b[0m \u001b[0;34m*\u001b[0m \u001b[0mconc\u001b[0m\u001b[0;34m\u001b[0m\u001b[0;34m\u001b[0m\u001b[0m\n\u001b[0m",
      "\u001b[0;31mTypeError\u001b[0m: can't multiply sequence by non-int of type 'float'"
     ]
    }
   ],
   "source": [
    "rate(1.2, concs)"
   ]
  },
  {
   "cell_type": "markdown",
   "id": "84021915-afb4-4c66-b079-aff7c335e898",
   "metadata": {},
   "source": [
    "We get an error because Python cannot multiply a list by a value the way NumPy can. However, the above function can be converted to a NumPy function using `np.vectorize()` which will allows the function to perform the calculation on a series of values and returns a NumPy array."
   ]
  },
  {
   "cell_type": "code",
   "execution_count": 86,
   "id": "2991c730-c85b-40bf-9afd-afd2b744889c",
   "metadata": {},
   "outputs": [],
   "source": [
    "vrate = np.vectorize(rate)"
   ]
  },
  {
   "cell_type": "code",
   "execution_count": 87,
   "id": "00fe0b68-2a32-422a-a2fb-f9f7f602590f",
   "metadata": {},
   "outputs": [
    {
     "data": {
      "text/plain": [
       "array([0.12, 0.6 , 1.2 , 1.8 , 2.4 ])"
      ]
     },
     "execution_count": 87,
     "metadata": {},
     "output_type": "execute_result"
    }
   ],
   "source": [
    "vrate(1.2, concs)"
   ]
  },
  {
   "cell_type": "markdown",
   "id": "7e6569a2-5988-435a-a89c-73729d9898f3",
   "metadata": {},
   "source": [
    "(4.5)=\n",
    "## 4.5 Array Methods\n",
    "\n",
    "Technically, NumPy array methods have already been employed in this chapter. The functions above are NumPy methods specifically for working with NumPy arrays. If an array is fed to many non-NumPy functions, an error will result because they cannot handle multi-element objects or arrays specifically. Interestingly, if a float or integer is fed into a NumPy method, it will still work. As an example, the integer 4 can be fed into the `np.sqrt()` function as well as an array of values."
   ]
  },
  {
   "cell_type": "code",
   "execution_count": 88,
   "id": "8f2dc26d-03d9-4d18-b224-3e1808bdd7fa",
   "metadata": {},
   "outputs": [
    {
     "data": {
      "text/plain": [
       "2.0"
      ]
     },
     "execution_count": 88,
     "metadata": {},
     "output_type": "execute_result"
    }
   ],
   "source": [
    "np.sqrt(4)"
   ]
  },
  {
   "cell_type": "code",
   "execution_count": 89,
   "id": "08c67552-b3ba-4ee5-8497-ff3d8f461d6b",
   "metadata": {},
   "outputs": [
    {
     "data": {
      "text/plain": [
       "array([1., 2., 3.])"
      ]
     },
     "execution_count": 89,
     "metadata": {},
     "output_type": "execute_result"
    }
   ],
   "source": [
    "np.sqrt(np.array([1, 4, 9]))"
   ]
  },
  {
   "cell_type": "markdown",
   "id": "7fa9932f-0087-4b83-a389-b865287f2b50",
   "metadata": {},
   "source": [
    "NumPy contains an extensive listing of methods for working with arrays… so much so that it would be impractical to list them all here. However, below are tables of some common and useful methods. It is worth browsing and being aware of them; most are worth committing to memory. If you ever find yourself needing to manipulate an array in some complex fashion, it is worth doing a quick internet search and including “NumPy” in your search. You will likely either find additional NumPy methods that will help or advice on how others solved a similar problem.\n",
    "\n",
    "**Table 1** Common Methods for Generating Arrays\n",
    "\n",
    "| Method | Description |\n",
    "|:------ | :---------\n",
    "|`np.array()` |Generates an array from another object |\n",
    "|`np.arange()` | Creates an array from \\[start, stop) with a given step size |\n",
    "|`np.linspace()` | Creates an array from \\[start, stop\\] with given number of steps |\n",
    "|`np.empty() ` | Creates an “empty” array (actually filled with garbage) |\n",
    "|`np.zeros()`| Generates an array of a given dimensions filled with zeros |\n",
    "|`np.ones()`| Generates an array of a given dimensions filled with ones |\n",
    "|`np.fromfunction()` | Generates an array using a Python function |\n",
    "|`np.genfromtxt()` | Loads text file data into an array |\n",
    "\n",
    "\n",
    "**Table 2** Array Attribute Methods\n",
    "\n",
    "| Method | Description |\n",
    "|:------:| :--------   |\n",
    "|`np.shape(array)` | Returns the dimensions of an array |\n",
    "|`np.ndim(array)` | Returns the number of dimensions (e.g., a 2D array is 2) |\n",
    "|`np.size(array)` | Returns the number of elements in an array |\n",
    "\n",
    "\n",
    "**Table 3** Array Modification Methods\n",
    "\n",
    "| Method | Description |\n",
    "|:------:| :--------   |\n",
    "|`np.flatten()` | Flattens an array in place |\n",
    "|`np.ravel()`    | Returns a flattened view of the array without changing the array |\n",
    "|`np.reshape()`  | Reshapes an array in place |\n",
    "|`np.resize()`   | Returns a resized view of an array without modifying the original |\n",
    "|`np.transpose()` | Returns a view of transposed array |\n",
    "|`np.vstack()`   | Vertically stacks an arrays into a new array |\n",
    "|`np.hstack()`   | Horizontally stacks an arrays into a new array |\n",
    "|`np.dstack()`   | Depth-wise stacks an arrays into a new array |\n",
    "|`np.vsplit()`   | Splits an array vertically |\n",
    "|`np.hsplit()`   | Splits an array horizontally |\n",
    "|`np.dsplit()`   | Splits an array depth-wise |\n",
    "|`np.meshgrid()` | Creates a meshgrid (see chapter 3 for an example) |\n",
    "|`np.sort(`)     | Sorts elements in array; defaults along last axis |\n",
    "|`np.argsort()`  | Returns index values of sorted array |\n",
    "|`np.fill(x)`    | Sets all values in an array to `x` |\n",
    "\n",
    "**Table 4** Array Measurement Methods\n",
    "\n",
    "| Method | Description |\n",
    "|:-----: | :---------- | \n",
    "|`np.min()` |Returns the minimum value in the array |\n",
    "|`np.max()` |Returns the maximum value in the array|\n",
    "|`np.argmin()` |Returns argument (i.e., index) of min|\n",
    "|`np.argmax()` |Returns argument  (i.e., index) of max|\n",
    "|`np.argrelmax()` |Returns argument  (i.e., index) of the local max|\n",
    "|`np.fmin()` |Returns the min between two arrays of the same size|\n",
    "|`np.fmax()` |Returns the max between two arrays of the same size|\n",
    "|`np.percentile()` |Returns the specified percentile|\n",
    "|`np.mean()` |Returns the mean|\n",
    "|`np.median()` |Returns the median|\n",
    "|`np.std()` |Returns the standard deviation; be sure to include `ddof=1`|\n",
    "|`np.histogram()` |Returns counts and bins for a histogram|\n",
    "|`np.cumprod()` |Returns the cumulative product|\n",
    "|`np.cumsum()` |Returns the cumulative sum |\n",
    "|`np.sum()` |Returns the sum of all elements|\n",
    "|`np.prod()` |Returns the product of all elements|\n",
    "|`np.ptp()` |Returns the peak-to-peak separation of max and min values|\n",
    "|`np.floor()` |Returns the floor (i.e., rounds down) of all elements in an array|\n",
    "|`np.roll()`|Rolls the array along the given axis; elements that fall off one end of the array appear at the other|\n"
   ]
  },
  {
   "cell_type": "markdown",
   "id": "f2a75d89-b8e9-4558-8e94-7bfc23b865b0",
   "metadata": {},
   "source": [
    "(4.6)=\n",
    "## 4.6 Random Number Generation\n",
    "\n",
    "Stochastic simulations, addressed in chapter 9, are a common tool in the science and rely on a series of random numbers; it is worth addressing their generation using NumPy. Depending upon the requirements of the simulation, random numbers may be a series of floats or integers, and they may be generated from various ranges of values. The numbers may also be generated as a uniform distribution where all values are equally likely or biased a distribution where some values are more probable than others. Below are random number functions from the NumPy `random` module useful in generating random number distributions to suit the needs of your simulations.\n",
    "\n",
    "```{note}\n",
    "Software generated random numbers are really *pseudorandom* numbers. However, they are close enough to\n",
    "random for most chemical simulations and will be referred to as “random numbers” herein.\n",
    "```\n",
    "\n",
    "(4.6.1)=\n",
    "### 4.6.1 Uniform Distribution\n",
    "\n",
    "The simplest distribution is the *uniform distribution* of random numbers where every number in the range has an equal probability of occurring. The distribution may not always appear as even with small sample sizes due to the random nature of the number generation, but as a larger population of samples is generated, the relative distribution will appear more even. The histograms below (Figure 3) are of a hundred (left) and a hundred thousand (right) randomly generated floats from the \\[0,1) range in an even distribution. While the plot on the right appears more even, this is mostly an effect of the different scales."
   ]
  },
  {
   "cell_type": "code",
   "execution_count": 90,
   "id": "da7a2848-2725-4df4-a23d-384bec8d4ba2",
   "metadata": {
    "tags": [
     "remove-input"
    ]
   },
   "outputs": [
    {
     "data": {
      "image/png": "[encoded data removed]",
      "text/plain": [
       "<Figure size 864x288 with 2 Axes>"
      ]
     },
     "metadata": {
      "needs_background": "light"
     },
     "output_type": "display_data"
    }
   ],
   "source": [
    "import matplotlib.pyplot as plt\n",
    "%matplotlib inline\n",
    "\n",
    "np.random.seed(18)\n",
    "fig = plt.figure(figsize=(12,4))\n",
    "ax1 = fig.add_subplot(1,2,1)\n",
    "ax1.hist(np.random.rand(100), edgecolor='k')\n",
    "ax1.set_ylabel('Counts')\n",
    "ax1.set_xlabel('Values')\n",
    "ax1.set_title('Hundred Values')\n",
    "ax2 = fig.add_subplot(1,2,2)\n",
    "ax2.hist(np.random.rand(1000), edgecolor='k')\n",
    "ax2.set_xlabel('Values')\n",
    "ax2.set_title('Thousand Values')\n",
    "plt.show()"
   ]
  },
  {
   "cell_type": "markdown",
   "id": "0a6246da-9c33-4180-8f69-4847e8f0f0ae",
   "metadata": {},
   "source": [
    "**Figure 3** Histograms of a hundred (left) and a hundred thousand (right) randomly generated floats from the [0,1) range in an even distribution using the `np.random.rand()` function."
   ]
  },
  {
   "cell_type": "markdown",
   "id": "e349f8a6-a331-4e7d-9b32-3bf9fbad37ea",
   "metadata": {},
   "source": [
    "NumPy has multiple functions available for generating evenly-distributed random numbers including the following two functions where `n` is the number of random values to be generated. The `np.random.rand()` function generates random floats from the range \\[0,1) and can generate one or more values. The `np.random.randint()` function generates random integers in the range \\[low, high) and can generate multiple values using the size argument.\n",
    "~~~python\n",
    "np.random.rand(n)\n",
    "\n",
    "np.random.randint(low, high=None, size=n)\n",
    "~~~"
   ]
  },
  {
   "cell_type": "markdown",
   "id": "9c350190-a0f6-4afc-ae73-9a6e20949a7f",
   "metadata": {
    "tags": []
   },
   "source": [
    "(4.6.2)=\n",
    "### 4.6.2 Binomial Distribution\n",
    "\n",
    "A binomial distribution results when values are generated from two possible outcomes. This is useful for applications such as deciding if a simulated molecule reacts or whether a polymer chain terminates or propagates. The two outcomes are represented by a `0` or `1` with the probability, `p`, of a `1` being generated. Binomial distributions are generated by the NumPy random module using the `np.random.binomial()` function which has a default probability of `0.5`.\n",
    "\n",
    "~~~python\n",
    "np.random.binomial(t, p=0.5, size=n)\n",
    "~~~\n",
    "\n",
    "The `t` argument is the number of trials while the size argument is the number of generated binomial values. For example, if `t = 2`, two binomial values are generated and the sum is returned, which may be `0`, `1`, or `2`. Basic probability predicts that these sums will occur in a 1:2:1 ratio, respectively. If `t` is increased to `10`, a shape more closely representing a bell curve is obtained. A *Bernoulli distribution* is the specific instance of a binomial distribution where t = 1. The histograms below (Figure 4) are of a hundred randomly generated numbers in a binomial distribution with `p = 0.5` and where `t = 1` (top), `t = 2` (bottom left), and `t = 10` (bottom right)."
   ]
  },
  {
   "cell_type": "code",
   "execution_count": 91,
   "id": "dd13e5c9-1797-4b97-899e-8fb08b8bcff5",
   "metadata": {
    "tags": [
     "remove-input"
    ]
   },
   "outputs": [
    {
     "data": {
      "image/png": "[encoded data removed]",
      "text/plain": [
       "<Figure size 1008x288 with 3 Axes>"
      ]
     },
     "metadata": {
      "needs_background": "light"
     },
     "output_type": "display_data"
    }
   ],
   "source": [
    "np.random.seed(18)\n",
    "\n",
    "fig = plt.figure(figsize=(14,4))\n",
    "\n",
    "ax1 = fig.add_subplot(1,3,1)\n",
    "ax1.hist(np.random.binomial(1, p=0.5, size=10000), edgecolor='k')\n",
    "ax1.set_ylabel('Counts')\n",
    "ax1.set_xlabel('Values')\n",
    "ax1.set_title('t = 1')\n",
    "ax2 = fig.add_subplot(1,3,2)\n",
    "ax2.hist(np.random.binomial(2, p=0.5, size=10000), edgecolor='k')\n",
    "ax2.set_xlabel('Values')\n",
    "ax2.set_title('t = 2')\n",
    "ax3 = fig.add_subplot(1,3,3)\n",
    "ax3.hist(np.random.binomial(10, p=0.5, size=10000), edgecolor='k')\n",
    "ax3.set_xlabel('Values')\n",
    "ax3.set_title('t = 10')\n",
    "plt.show()"
   ]
  },
  {
   "cell_type": "markdown",
   "id": "1c9a7219-c3f7-4c6a-9ebf-3c9f6b5b7826",
   "metadata": {},
   "source": [
    "**Figure 4** Histograms of a hundred randomly generated numbers in a binomial distribution with `p = 0.5` and `t = 1` (top), `t = 2` (bottom left), and `t = 10` (bottom right)."
   ]
  },
  {
   "cell_type": "markdown",
   "id": "cae31c57-31b9-4c63-a8c9-f88208adc61e",
   "metadata": {},
   "source": [
    "(4.6.3)=\n",
    "### 4.6.3 Poisson Distribution\n",
    "\n",
    "A *Poisson distribution* is a probability distribution of how likely it is for independent events to occur in a given interval (time or space) with a known average frequency ($\\lambda$). Each sample in a poisson distribution is a count of how many events have occurred in the time interval, so they are always integers. NumPy can generate integers in a Poisson distribution using the `np.random.poisson()` function, which accepts two arguments. \n",
    "\n",
    "~~~python\n",
    "np.random.poisson(lam=1.0, size=n)\n",
    "~~~\n",
    "\n",
    "The first argument, $\\lambda$ (`lam`), is the statistical mean for the values generated, and the second argument, `size`, is the requested number of values. For example, a Geiger counter can be simulated detecting background radiation in a location that is known to have an average of 3.6 radiation counts per second with the following function call."
   ]
  },
  {
   "cell_type": "code",
   "execution_count": 92,
   "id": "fdce6259-6dc1-4748-a290-c6b8e9a95ca1",
   "metadata": {},
   "outputs": [
    {
     "data": {
      "text/plain": [
       "array([5, 3, 5, 4, 2, 2, 5, 2, 3, 3, 6, 2, 5, 2, 0, 1, 2, 0, 4, 4, 9, 5,\n",
       "       1, 7, 2, 3, 2, 3, 3, 4])"
      ]
     },
     "execution_count": 92,
     "metadata": {},
     "output_type": "execute_result"
    }
   ],
   "source": [
    "np.random.poisson(lam=3.6, size=30)"
   ]
  },
  {
   "cell_type": "markdown",
   "id": "c00e7981-3cda-4cde-a0c7-bee9916a5acc",
   "metadata": {},
   "source": [
    "The returned array of values are the total radiation detections for each second for thirty seconds, and the mean value is 3.8 counts. While not precisely the target of 3.6 counts, it is close and larger sample sizes are statistically more likely to generate results closer to the target value. A histogram of these values is shown in below (Figure 5, left). When this simulation was repeated with thirty thousand samples (Figure 5, right), a mean of 3.61 counts is obtained. In addition, the larger number of values results in a classic Poisson distribution curve which appears something like a bell curve with more tapering on the high end."
   ]
  },
  {
   "cell_type": "code",
   "execution_count": 93,
   "id": "d2171b6b-1f65-47a6-8ed6-db30bb7d3fcb",
   "metadata": {
    "tags": [
     "remove-input"
    ]
   },
   "outputs": [
    {
     "data": {
      "image/png": "[encoded data removed]",
      "text/plain": [
       "<Figure size 864x288 with 2 Axes>"
      ]
     },
     "metadata": {
      "needs_background": "light"
     },
     "output_type": "display_data"
    }
   ],
   "source": [
    "np.random.seed(18)\n",
    "fig = plt.figure(figsize=(12,4))\n",
    "ax1 = fig.add_subplot(1,2,1)\n",
    "ax1.hist(np.random.poisson(lam=3.6, size=30), bins=range(0,8), edgecolor='k')\n",
    "ax1.vlines(3.6, 0, 8, 'r', linestyle='dashed')\n",
    "ax1.set_ylabel('Counts')\n",
    "ax1.set_xlabel('Values')\n",
    "ax1.set_title('Thirty Values')\n",
    "ax2 = fig.add_subplot(1,2,2)\n",
    "ax2.hist(np.random.poisson(lam=3.6, size=30000), bins=range(0,13), edgecolor='k')\n",
    "ax2.vlines(3.6, 0, 6700, 'r', linestyle='dashed')\n",
    "ax2.set_xlabel('Values')\n",
    "ax2.set_title('Thirty Thousand Values')\n",
    "plt.show()"
   ]
  },
  {
   "cell_type": "markdown",
   "id": "ccb35fac-88a1-4283-ac70-fc209b354525",
   "metadata": {},
   "source": [
    "**Figure 5** Histograms of thirty (left) and thirty thousand (right) randomly generated integers in a Poisson distribution with a target mean ($\\lambda$) of 3.6 (dashed red line)."
   ]
  },
  {
   "cell_type": "markdown",
   "id": "1e89d475-ef0a-4640-b989-683330d7a93c",
   "metadata": {},
   "source": [
    "Alternative distributions of random number can be generated by manipulating the output of the above functions. For example, random numbers in a \\[-1, 1) distribution, which is useful in a 2D diffusion simulation, can be generated by subtracting 0.5 from values in the range \\[0, 1) and multiplying by two.\n",
    "\n",
    "~~~python\n",
    "rand_float = 2 * (np.random.rand() - 0.5)\n",
    "~~~"
   ]
  },
  {
   "cell_type": "markdown",
   "id": "ddf0e9ec-3eb1-4a34-8f2d-fb62eb6e226a",
   "metadata": {},
   "source": [
    "(4.6.4)=\n",
    "### 4.6.4 Other Functions\n",
    "\n",
    "The random module in NumPy also includes a large variety of other random number and sequence generators. This includes `np.random.randn()` which generates values centered around zero in a normal distribution. The `np.random.choice()` function selects a random value from a provided array of values, while the `np.random.shuffle()` function randomizes the order of values for a given array. Other random distribution functions can be found on the SciPy website (see [Further Reading](fr04)). A summary of common np.random functions are in Table 5.\n",
    "\n",
    "**Table 5** Summary of Common NumPy np.random Functions\n",
    "\n",
    "| Function | Description | \n",
    "|:-------: |:----------- |\n",
    "|`rand()`  | Generates random floats in the range \\[0,1) in an even distribution |\n",
    "|`randint()` | Generates random integers from a given range in an even distributionb |\n",
    "|`randn()` | Generates random floats in a normal distribution centered around zero |\n",
    "|`binomial()` | Generates random integers in a binomial distribution; takes a probability ,`p`, and `size` artuments |\n",
    "|`poisson()` | Generates random floats in a Poisson distribution; takes a target mean argument (`p`)  |\n",
    "|`choice()` | Selects random values taken from a 1-D array or range |\n",
    "|`shuffle()` | Randomizes the order of an array |\n"
   ]
  },
  {
   "cell_type": "code",
   "execution_count": 94,
   "id": "e73c18e8-23d0-4b50-a414-aaab788d66cc",
   "metadata": {},
   "outputs": [
    {
     "data": {
      "text/plain": [
       "array([0.02995709])"
      ]
     },
     "execution_count": 94,
     "metadata": {},
     "output_type": "execute_result"
    }
   ],
   "source": [
    "np.random.rand(1)"
   ]
  },
  {
   "cell_type": "code",
   "execution_count": 95,
   "id": "0bbe217e-34d2-4457-9a73-a07514057b1e",
   "metadata": {},
   "outputs": [
    {
     "data": {
      "text/plain": [
       "65"
      ]
     },
     "execution_count": 95,
     "metadata": {},
     "output_type": "execute_result"
    }
   ],
   "source": [
    "np.random.randint(0, high=100)"
   ]
  },
  {
   "cell_type": "code",
   "execution_count": 96,
   "id": "124c6140-4d4b-4d7c-8db1-3968a0a75a13",
   "metadata": {},
   "outputs": [
    {
     "data": {
      "text/plain": [
       "array([-1.14124989,  1.15506919, -0.53863963])"
      ]
     },
     "execution_count": 96,
     "metadata": {},
     "output_type": "execute_result"
    }
   ],
   "source": [
    "np.random.randn(3)"
   ]
  },
  {
   "cell_type": "code",
   "execution_count": 97,
   "id": "c4197886-ff8d-4f6d-a9ba-06c525414856",
   "metadata": {},
   "outputs": [
    {
     "data": {
      "text/plain": [
       "array([2, 1, 1])"
      ]
     },
     "execution_count": 97,
     "metadata": {},
     "output_type": "execute_result"
    }
   ],
   "source": [
    "np.random.binomial(2, p=0.5, size=3)"
   ]
  },
  {
   "cell_type": "code",
   "execution_count": 98,
   "id": "c3c33ac3-0574-4e04-9ae1-eabafd7350b6",
   "metadata": {},
   "outputs": [
    {
     "data": {
      "text/plain": [
       "array([5, 2, 1, 2, 4])"
      ]
     },
     "execution_count": 98,
     "metadata": {},
     "output_type": "execute_result"
    }
   ],
   "source": [
    "np.random.poisson(lam=2.0, size=5)"
   ]
  },
  {
   "cell_type": "code",
   "execution_count": 99,
   "id": "adc1af8d-c2ce-45e5-b423-db533b23621b",
   "metadata": {},
   "outputs": [
    {
     "data": {
      "text/plain": [
       "array([ 6,  0, 17])"
      ]
     },
     "execution_count": 99,
     "metadata": {},
     "output_type": "execute_result"
    }
   ],
   "source": [
    "np.random.choice(20, size=3)"
   ]
  },
  {
   "cell_type": "code",
   "execution_count": 100,
   "id": "12dfca01-dec8-4680-9792-a24a0bb57558",
   "metadata": {},
   "outputs": [
    {
     "data": {
      "text/plain": [
       "array([3, 4, 1, 0, 2])"
      ]
     },
     "execution_count": 100,
     "metadata": {},
     "output_type": "execute_result"
    }
   ],
   "source": [
    "arr = np.array([0, 1, 2, 3, 4])\n",
    "np.random.shuffle(arr)\n",
    "arr"
   ]
  },
  {
   "cell_type": "markdown",
   "id": "cdb42579-1c2a-4a16-8957-fcfaef375dda",
   "metadata": {},
   "source": [
    "(fr04)=\n",
    "## Further Reading\n",
    "\n",
    "The NumPy documentation is well written and a good resource. Because NumPy is the foundation of the SciPy ecosystem, if you find a Python book on scientific computing, odds are that it will discuss or use NumPy at some level.\n",
    "\n",
    "1. NumPy Website. [http://www.numpy.org/](http://www.numpy.org/) (free resource)\n",
    "\n",
    "2. NumPy User Guide. [https://numpy.org/doc/stable/user/index.html#user](https://numpy.org/doc/stable/user/index.html#user) (free resource)"
   ]
  },
  {
   "cell_type": "markdown",
   "id": "e8025cb1-b726-4bec-a2fa-adcdb8d420b3",
   "metadata": {},
   "source": [
    "## Exercises\n",
    "\n",
    "Complete the following using NumPy arrays and methods. Avoid using `for` loops whenever possible."
   ]
  },
  {
   "cell_type": "markdown",
   "id": "8b1fc023-f62b-4f27-bd42-1b3d97750109",
   "metadata": {},
   "source": [
    "1. Generate an array of atomic numbers for the first 26 elements.\n",
    "\n",
    "2. The following equation defines the relationship between energy (J) of a photo and its wavelength (m) where h is Plank's constant (6.626 $\\times \\, 10^{-34} J\\cdot s$) and c is the speed of light in a vacuum (2.998 $\\times \\, 10^8 m/s$).\n",
    "\n",
    "    $$ E = \\frac{hc}{\\lambda} $$\n",
    "\n",
    "3. Generate an array containing 101.325 a hundred times.\n",
    "\n",
    "4. The following array contains temperatures in Fahrenheit. Convert these values to $^\\circ$C without using a for loop.\n",
    "    ~~~python\n",
    "    F = array([0, 32, 100, 212, 451])\n",
    "    ~~~\n",
    "    \n",
    "5. Generate two arrays containing the following sine functionsfrom x = 0 $\\rightarrow 10 \\pi$ \n",
    "\n",
    "    $$ y = sin(x) $$\n",
    "    $$ y = sin(1.1x + 0.5) $$\n",
    "\n",
    "    a. Plot these two sine waves on the same plot.\n",
    "\n",
    "    b. Add the two sine functions together and plot the result.\n",
    "\n",
    "    c. Explain why the signal in part b is smaller in the center and larger on both ends. Hint: look at your plot       for part a to see how the two origonal sine waves related to each other.\n",
    "\n",
    "6. The numerical relationship between $\\Delta G_o$ and K (equilibrium constant) is shown below. Plot $\\Delta G_o$ versus K at standard temperature and pressure for K values of 0.001 $\\rightarrow$ 1000. Use NumPy arrays and do not use any for loops.\n",
    "\n",
    "    $$ \\Delta G = -RTln(k) $$\n",
    "\n",
    "7. The numerical relationship between k (rate constant) and Ea is shown below. Plot k versus Ea at standard temperature and pressure for activation energies of 1 $\\rightarrow$ 20 kJ/mol. Use NumPy arrays, do not use any for loops, and use A = 1. Watch your energy units carefully. \n",
    "\n",
    "    $$ k = Ae^{-E_a / RT} $$\n",
    "\n",
    "8. Generate an array containing integers 0 $\\rightarrow$ 14 (inclusive).\n",
    "\n",
    "    a. Reshape the array to be a 3 $\\times$ 5 array.\n",
    "\n",
    "    b. Transpose the array, so now it should be a 5 $\\times$ 3 array.\n",
    "\n",
    "    c. Make the array one-dimensional again without using the reshape() method.\n",
    "\n",
    "9. Generate an Combining arrays – Bohr hydrogen atom.\n",
    "\n",
    "    a. Create an array containing the principle quantum numbers (n) for the first eight orbits of a hydrogen atom             (e.i., 1 $\\rightarrow$ 8).\n",
    "\n",
    "    b. Generate a second array containing the energy (J) of each orbit in part A for a Bohr model of a hydrogen atom           using the equation below.\n",
    "\n",
    "    $$ E = -2.18 \\times 10^{-18}J \\frac{1}{n^2} $$\n",
    "\n",
    "    c. Combine the two arrays from parts A and B into a new 8 $\\times$ 2 array with the first column containing the           principle quantum numbers and the second containing the energies. It should look like the following when complete.\n",
    "    \n",
    "10. Generate a one-dimensional array with the following code and index the 5th element of the array.\n",
    "\n",
    "    ~~~python\n",
    "    arr = np.random.randint(0, high=10, size=10)\n",
    "    ~~~\n",
    "    \n",
    "11. Generate a two-dimensional array with the following code.\n",
    "    ~~~python\n",
    "    arr2 = np.random.randint(0, high=10, size=15).reshape(5, 3)\n",
    "    ~~~\n",
    "    \n",
    "    a. Index the second element of the third column.\n",
    "    \n",
    "    b. Slice the array to get the entire third row.\n",
    "    \n",
    "    c. Slice the array to access the entire first column.\n",
    "    \n",
    "    d. Slice the array to get the last two elements of the first row.\n",
    "    \n",
    "12. Predict the outcome of the following operation between two NumPy arrays. Test your your prediction.\n",
    "\n",
    "    $$ \\left[ \\begin{array}{cc} 1 & 1 \\\\ 2 & 2 \\end{array} \\right] + \\left[1 \\right] = \\,\\, ?$$\n",
    "\n",
    "13. Predict the outcome of the following operation between two NumPy arrays. Test your your prediction.\n",
    "\n",
    "    $$ \\left[ \\begin{array}{ccc} 1 & 8 & 9 \\\\ 8 & 1 & 9 \\\\ 1 & 8 & 1 \\end{array} \\right] + \\left[  \\begin{array}{cc} 1     & 1 \\\\ 1 & 1 \\end{array} \\right] = \\,\\, ? $$\n",
    "\n",
    "14. Predict the outcome of the following operation between two NumPy arrays. Test your your prediction.\n",
    "\n",
    "    $$ \\left[ \\begin{array}{cc} 1 & 8 \\\\ 3 & 2 \\end{array} \\right] + \n",
    "    \\left[ \\begin{array}{cc} 1 & 1 \\\\ 1 & 1 \\end{array} \\right] = \\,\\, ?$$\n",
    "\n",
    "15. For the following randomly-generated array:\n",
    "    ~~~python\n",
    "    arr = np.random.rand(20)\n",
    "    ~~~\n",
    "    \n",
    "    a. Find the *index* of the largest values in the following array.\n",
    "\n",
    "    b. Calculate the mean value of the array.\n",
    "    \n",
    "    c. Calculate the cumulative sum of the array.\n",
    "\n",
    "    d. Sort the array.\n",
    "\n",
    "16. Generate a random array of values from -1 $\\rightarrow$ 1 (exclusive) and calculate its median value. Hint: start with an array of values 0 $\\rightarrow$ 1 (exclusive) and manipulate it.\n",
    "\n",
    "17. Generate an array of integers from 0 $\\rightarrow$ 35 (inclusive) and then sort it.\n",
    "\n",
    "18. Hydrogen nuclei can have a spin of +1/2 and -1/2 and occur in approximately a 1:1 ratio. Simulate the number of +1/2 hydrogen nuclei in a molecule of six hydrogen atoms and plot it in a histogram. Hint: being that there are two possible outcomes, this is an example of a *binomial distribution*. See [section 4.6.2](4.6.2)."
   ]
  },
  {
   "cell_type": "code",
   "execution_count": null,
   "id": "6aff9b6b-26ec-4368-8f2f-4602f6100028",
   "metadata": {},
   "outputs": [],
   "source": []
  }
 ],
 "metadata": {
  "kernelspec": {
   "display_name": "Python 3 (ipykernel)",
   "language": "python",
   "name": "python3"
  },
  "language_info": {
   "codemirror_mode": {
    "name": "ipython",
    "version": 3
   },
   "file_extension": ".py",
   "mimetype": "text/x-python",
   "name": "python",
   "nbconvert_exporter": "python",
   "pygments_lexer": "ipython3",
   "version": "3.9.7"
  }
 },
 "nbformat": 4,
 "nbformat_minor": 5
}
