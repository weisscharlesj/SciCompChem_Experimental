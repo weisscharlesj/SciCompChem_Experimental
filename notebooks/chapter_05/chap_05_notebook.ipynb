{
 "cells": [
  {
   "cell_type": "markdown",
   "id": "388811b9-2c96-49cb-b4a1-4cd0da8d9d26",
   "metadata": {},
   "source": [
    "(5)=\n",
    "# Chapter 5: Pandas"
   ]
  },
  {
   "cell_type": "markdown",
   "id": "e5660c12-6591-49af-8f8f-2ce15c55c282",
   "metadata": {},
   "source": [
    "While NumPy is the foundation of much of the SciPy ecosystem and provides very capable ndarray objects, it has a few shortcomings. The first is that NumPy arrays cannot hold different types of objects in a single array. For example, if we attempt to convert the following list containing integers, floats, and strings into an array, NumPy coverts all elements into strings as a way of making the object types uniform."
   ]
  },
  {
   "cell_type": "code",
   "execution_count": 1,
   "id": "da1b7e80-b460-4ae1-9e7d-f72b3dd2ddb8",
   "metadata": {},
   "outputs": [],
   "source": [
    "nums = [1, 2, 3, 'four', 5, 'six', 7.0]"
   ]
  },
  {
   "cell_type": "code",
   "execution_count": 2,
   "id": "78102bc7-0d6f-4fa7-b5fe-48182ec5039e",
   "metadata": {},
   "outputs": [
    {
     "data": {
      "text/plain": [
       "array(['1', '2', '3', 'four', '5', 'six', '7.0'], dtype='<U32')"
      ]
     },
     "execution_count": 2,
     "metadata": {},
     "output_type": "execute_result"
    }
   ],
   "source": [
    "import numpy as np\n",
    "np.array(nums)"
   ]
  },
  {
   "cell_type": "code",
   "execution_count": 3,
   "id": "c7f9960f-8c70-4998-948d-d10a3ae5e797",
   "metadata": {},
   "outputs": [],
   "source": [
    "import pandas as pd\n",
    "import matplotlib.pyplot as plt\n",
    "%matplotlib inline"
   ]
  },
  {
   "cell_type": "markdown",
   "id": "c8ef85ec-aaca-44e9-a1e0-5420eea916de",
   "metadata": {},
   "source": [
    "The second shortcoming is that NumPy arrays do not support labels in the data. That is, columns cannot have labels describing what they contain like you might see in a well constructed spreadsheet. This burdens the user to keep track of which column contains what information. Finally, while NumPy contains a wealth of basic tools for working with data, there are still many operations that it does not support like grouping data based on the value of a particular column or the ability to merge two data sets with automatic alignment of analogous data.\n",
    "\n",
    "A data scientist named Wes McKinney created the pandas library which provides a wealth of additional tools for working with data, and possibly the most endearing feature, the ability to call data based on labels. Data columns and rows can contain human-readable labels that are used to access the data. Pandas still supports accessing data using indices if the user wishes to go that route, but the user can now access data without knowing which column it is in as long as the user knows the column label.\n",
    "    \n",
    "By popular convention, the pandas library is imported with the `pd alias`, which is used here. This chapter also assumes the following imports."
   ]
  },
  {
   "cell_type": "markdown",
   "id": "9cb2977d-4f05-4723-b798-bf6b92906511",
   "metadata": {},
   "source": [
    "(5.1)=\n",
    "## 5.1 Basic Pandas Objects\n",
    "\n",
    "To support the wealth of features, pandas uses its own objects to hold data called a Series and a DataFrame, which are built on NumPy arrays. Because they are built on NumPy, many of the NumPy functions (e.g., `np.mean()`) work on pandas objects. The key difference between the a Series and DataFrame is that a Series is one-dimensional while a DataFrame is two-dimensional. Unlike a NumPy array, pandas objects have fixed dimensionality. There is a three-dimensional object called a *Panel*, but this will not be covered here as it is not often used.\n",
    "\n",
    "(5.1.1)=\n",
    "### 5.1.1 Series\n",
    "\n",
    "While the pandas *Series* is restricted to being a single dimension, it can be as long as necessary to hold the data. A Series containing the atomic masses of the first five elements on the periodic table is generated below using the `pd.Series()` function. This function is always capitalized."
   ]
  },
  {
   "cell_type": "code",
   "execution_count": 4,
   "id": "e69d3941-868d-499a-ab68-02456de5f64e",
   "metadata": {},
   "outputs": [
    {
     "data": {
      "text/plain": [
       "0     1.01\n",
       "1     4.00\n",
       "2     6.94\n",
       "3     9.01\n",
       "4    10.81\n",
       "dtype: float64"
      ]
     },
     "execution_count": 4,
     "metadata": {},
     "output_type": "execute_result"
    }
   ],
   "source": [
    "mass = pd.Series([1.01,4.00,6.94,9.01,10.81])\n",
    "mass"
   ]
  },
  {
   "cell_type": "markdown",
   "id": "f752c97a-3caf-4574-ae31-a4dcb1a72225",
   "metadata": {},
   "source": [
    "The right column is the actual data in the Series while the values on the left are the assigned indices for each value in the Series. The index column is not part of the dimensionality of the Series; it is metadata (i.e., data about the data). \n",
    "\n",
    "Consistent with list, tuples, and ndarrays, values in a Series can be accessed using indexing with square brackets as demonstrated below."
   ]
  },
  {
   "cell_type": "code",
   "execution_count": 5,
   "id": "728c6312-800b-43b7-8f9f-556df562977b",
   "metadata": {},
   "outputs": [
    {
     "data": {
      "text/plain": [
       "6.94"
      ]
     },
     "execution_count": 5,
     "metadata": {},
     "output_type": "execute_result"
    }
   ],
   "source": [
    "mass[2]"
   ]
  },
  {
   "cell_type": "markdown",
   "id": "0e26a117-3895-441a-9556-5acf239e0810",
   "metadata": {},
   "source": [
    "Unlike other multi-element objects seen so far, data in a Series can be accessed using indices different from the default (i.e., 0, 1, 2, etc…) values. That is, custom indices can be assigned using the index argument shown below."
   ]
  },
  {
   "cell_type": "code",
   "execution_count": 6,
   "id": "6cab7866-1e81-4643-bbc5-aecbb44b912b",
   "metadata": {},
   "outputs": [
    {
     "data": {
      "text/plain": [
       "H      1.01\n",
       "He     4.00\n",
       "Li     6.94\n",
       "Be     9.01\n",
       "B     10.81\n",
       "dtype: float64"
      ]
     },
     "execution_count": 6,
     "metadata": {},
     "output_type": "execute_result"
    }
   ],
   "source": [
    "index=('H', 'He', 'Li', 'Be', 'B')\n",
    "mass2 = pd.Series([1.01,4.00,6.94,9.01,10.81], index)\n",
    "mass2"
   ]
  },
  {
   "cell_type": "markdown",
   "id": "5b3adf8d-a999-476e-8044-2695483845d6",
   "metadata": {},
   "source": [
    "The custom indices can now be used to access an element in a Series. This makes a Series behave something like a dictionary ([section 2.2](2.2))."
   ]
  },
  {
   "cell_type": "code",
   "execution_count": 7,
   "id": "b6ed5bb1-ddbf-4158-99dc-e53473297838",
   "metadata": {
    "tags": []
   },
   "outputs": [
    {
     "data": {
      "text/plain": [
       "4.0"
      ]
     },
     "execution_count": 7,
     "metadata": {},
     "output_type": "execute_result"
    }
   ],
   "source": [
    "mass2['He']"
   ]
  },
  {
   "cell_type": "markdown",
   "id": "954b2159-01ea-494b-ae6f-fa52c23df097",
   "metadata": {},
   "source": [
    "The indices can be accessed by using `mass2.index`. Series indices can also be modified after a Series has been created by using `.index` and assignment as demonstrated below."
   ]
  },
  {
   "cell_type": "code",
   "execution_count": 8,
   "id": "068e1263-5820-4ef9-8ed2-12c76a7b7324",
   "metadata": {},
   "outputs": [
    {
     "data": {
      "text/plain": [
       "H      1.01\n",
       "He     4.00\n",
       "Li     6.94\n",
       "Be     9.01\n",
       "B     10.81\n",
       "dtype: float64"
      ]
     },
     "execution_count": 8,
     "metadata": {},
     "output_type": "execute_result"
    }
   ],
   "source": [
    "mass.index =['H', 'He', 'Li', 'Be', 'B']\n",
    "mass"
   ]
  },
  {
   "cell_type": "markdown",
   "id": "e29d87f1-79df-48da-ac86-d806393f33eb",
   "metadata": {},
   "source": [
    "Even if we create or modify a Series to have custom indices, we can still access the elements using the traditional numerical indices using the `iloc[]` method. This method allows the user to access elements the same way as in a NumPy array regardless of assigned index values."
   ]
  },
  {
   "cell_type": "code",
   "execution_count": 9,
   "id": "7aba45e6-4c1c-46cb-89e4-6b0fbf927b57",
   "metadata": {},
   "outputs": [
    {
     "data": {
      "text/plain": [
       "6.94"
      ]
     },
     "execution_count": 9,
     "metadata": {},
     "output_type": "execute_result"
    }
   ],
   "source": [
    "mass2.iloc[2]"
   ]
  },
  {
   "cell_type": "markdown",
   "id": "83f5b9c5-7feb-4190-9809-204c865afe03",
   "metadata": {},
   "source": [
    "(5.1.2)=\n",
    "### 5.1.2 DataFrame\n",
    "\n",
    "Most data you will find yourself working with will be best placed in a two-dimensional pandas object called a *DataFrame* which is always written with two capital letters. The DataFrame is similar to a Series except that now there are also columns with names. The columns can be accessed by column names and rows can be accesses by indices. You might think of a DataFrame as a collection of Series objects. Below, a DataFrame is constructed to hold the names, atomic numbers, masses, and ionization energies of the first five elements."
   ]
  },
  {
   "cell_type": "code",
   "execution_count": 10,
   "id": "d73ca127-b530-435e-bd7a-7b12adf10ea4",
   "metadata": {},
   "outputs": [],
   "source": [
    "name = ['hydrogen', 'helium', 'lithium', 'beryllium','boron']\n",
    "AN = [1,2,3,4,5]\n",
    "mass = [1.01,4.00,6.94,9.01,10.81]\n",
    "IE = [13.6, 24.6, 5.4, 9.3, 8.3]"
   ]
  },
  {
   "cell_type": "code",
   "execution_count": 11,
   "id": "eb1f7acf-1354-4367-9df0-d7e9d33f8e71",
   "metadata": {},
   "outputs": [
    {
     "data": {
      "text/html": [
       "<div>\n",
       "<style scoped>\n",
       "    .dataframe tbody tr th:only-of-type {\n",
       "        vertical-align: middle;\n",
       "    }\n",
       "\n",
       "    .dataframe tbody tr th {\n",
       "        vertical-align: top;\n",
       "    }\n",
       "\n",
       "    .dataframe thead th {\n",
       "        text-align: right;\n",
       "    }\n",
       "</style>\n",
       "<table border=\"1\" class=\"dataframe\">\n",
       "  <thead>\n",
       "    <tr style=\"text-align: right;\">\n",
       "      <th></th>\n",
       "      <th>H</th>\n",
       "      <th>He</th>\n",
       "      <th>Li</th>\n",
       "      <th>Be</th>\n",
       "      <th>B</th>\n",
       "    </tr>\n",
       "  </thead>\n",
       "  <tbody>\n",
       "    <tr>\n",
       "      <th>name</th>\n",
       "      <td>hydrogen</td>\n",
       "      <td>helium</td>\n",
       "      <td>lithium</td>\n",
       "      <td>beryllium</td>\n",
       "      <td>boron</td>\n",
       "    </tr>\n",
       "    <tr>\n",
       "      <th>AN</th>\n",
       "      <td>1</td>\n",
       "      <td>2</td>\n",
       "      <td>3</td>\n",
       "      <td>4</td>\n",
       "      <td>5</td>\n",
       "    </tr>\n",
       "    <tr>\n",
       "      <th>mass</th>\n",
       "      <td>1.01</td>\n",
       "      <td>4.0</td>\n",
       "      <td>6.94</td>\n",
       "      <td>9.01</td>\n",
       "      <td>10.81</td>\n",
       "    </tr>\n",
       "    <tr>\n",
       "      <th>IE</th>\n",
       "      <td>13.6</td>\n",
       "      <td>24.6</td>\n",
       "      <td>5.4</td>\n",
       "      <td>9.3</td>\n",
       "      <td>8.3</td>\n",
       "    </tr>\n",
       "  </tbody>\n",
       "</table>\n",
       "</div>"
      ],
      "text/plain": [
       "             H      He       Li         Be      B\n",
       "name  hydrogen  helium  lithium  beryllium  boron\n",
       "AN           1       2        3          4      5\n",
       "mass      1.01     4.0     6.94       9.01  10.81\n",
       "IE        13.6    24.6      5.4        9.3    8.3"
      ]
     },
     "execution_count": 11,
     "metadata": {},
     "output_type": "execute_result"
    }
   ],
   "source": [
    "columns = ['H', 'He', 'Li', 'Be','B'] \n",
    "index = ['name', 'AN', 'mass', 'IE']\n",
    "elements = pd.DataFrame([name, AN, mass, IE], columns=columns, index=index)\n",
    "elements"
   ]
  },
  {
   "cell_type": "markdown",
   "id": "6e3c1b48-b378-4864-9550-1a9f7a6c0d00",
   "metadata": {},
   "source": [
    "To access data in a DataFrame, place the column name in square brackets."
   ]
  },
  {
   "cell_type": "code",
   "execution_count": 12,
   "id": "5b39ed3f-4e0d-4bc0-9b59-dc13d08d1623",
   "metadata": {},
   "outputs": [
    {
     "data": {
      "text/plain": [
       "name    lithium\n",
       "AN            3\n",
       "mass       6.94\n",
       "IE          5.4\n",
       "Name: Li, dtype: object"
      ]
     },
     "execution_count": 12,
     "metadata": {},
     "output_type": "execute_result"
    }
   ],
   "source": [
    "elements['Li']"
   ]
  },
  {
   "cell_type": "markdown",
   "id": "2fd8f45e-68c6-4c80-8c29-5999729ebb00",
   "metadata": {},
   "source": [
    "Essentially what we get out of a column is a Series with the indices shown on the lefthand side.\n",
    "\n",
    "To indicate a row, instead use the `loc[]` method. We again get a Series with indices derived from the column names in the source DataFrame. This Series can be placed in a variable and indexed just like in section [5.1.1](5.1.1)."
   ]
  },
  {
   "cell_type": "code",
   "execution_count": 13,
   "id": "b14e20ee-337c-4bb0-bd9e-559a44a4a3d0",
   "metadata": {},
   "outputs": [
    {
     "data": {
      "text/plain": [
       "H     13.6\n",
       "He    24.6\n",
       "Li     5.4\n",
       "Be     9.3\n",
       "B      8.3\n",
       "Name: IE, dtype: object"
      ]
     },
     "execution_count": 13,
     "metadata": {},
     "output_type": "execute_result"
    }
   ],
   "source": [
    "elements.loc['IE']"
   ]
  },
  {
   "cell_type": "code",
   "execution_count": 14,
   "id": "7369b7f2-fa2a-4818-bd73-461c038b7441",
   "metadata": {},
   "outputs": [],
   "source": [
    "atomic_number = elements.loc['AN']"
   ]
  },
  {
   "cell_type": "code",
   "execution_count": 15,
   "id": "044c4798-6522-4d6e-b0f3-b409dc1f331f",
   "metadata": {},
   "outputs": [
    {
     "data": {
      "text/plain": [
       "5"
      ]
     },
     "execution_count": 15,
     "metadata": {},
     "output_type": "execute_result"
    }
   ],
   "source": [
    "atomic_number['B']"
   ]
  },
  {
   "cell_type": "markdown",
   "id": "e7140e95-6c64-4d69-8a85-49d392de5279",
   "metadata": {},
   "source": [
    "Alternatively, we can use the DataFrame directly and index it with the `loc[]` method as `[row, column]`."
   ]
  },
  {
   "cell_type": "code",
   "execution_count": 16,
   "id": "d6252065-b633-4f72-9de2-bccfac52e451",
   "metadata": {},
   "outputs": [
    {
     "data": {
      "text/plain": [
       "5.4"
      ]
     },
     "execution_count": 16,
     "metadata": {},
     "output_type": "execute_result"
    }
   ],
   "source": [
    "elements.loc['IE', 'Li']"
   ]
  },
  {
   "cell_type": "markdown",
   "id": "66815349-3b84-4620-a27b-498016e257cd",
   "metadata": {},
   "source": [
    "Numerical index values can also be used with the `iloc[]` method. This reduces indexing to how NumPy arrays are indexed."
   ]
  },
  {
   "cell_type": "code",
   "execution_count": 17,
   "id": "3fdef851-d9e4-43af-bf03-baed8f5c7f8e",
   "metadata": {},
   "outputs": [
    {
     "data": {
      "text/plain": [
       "mass    6.94\n",
       "IE       5.4\n",
       "Name: Li, dtype: object"
      ]
     },
     "execution_count": 17,
     "metadata": {},
     "output_type": "execute_result"
    }
   ],
   "source": [
    "elements.iloc[2:, 2]"
   ]
  },
  {
   "cell_type": "markdown",
   "id": "5a8a0015-ea31-4b7a-97d4-3e9888f605ca",
   "metadata": {},
   "source": [
    "A summary of the methods of indexing pandas Series and DataFrames is presented below in Table 1.\n",
    "\n",
    "**Table 1** Summary of Pandas Indexing\n",
    "\n",
    "| Index Method | Description |\n",
    "|:-----------: | :---------  |\n",
    "|`s[index]` | Index Series with assigned index values\n",
    "|`s.iloc[index]` | Index Series with default numerical index values |\n",
    "|`df[column]` | Index DataFrame with column name|\n",
    "|`df.loc[row]` | Index DataFrame with row name|\n",
    "|`df.loc[row, column]` | Index DataFrame with row and column names|\n",
    "|`df.iloc[row, column]` | Index DataFrame with row and column default numerical index values|\n"
   ]
  },
  {
   "cell_type": "markdown",
   "id": "f11a704d-e354-4440-90d4-96ea4fd28570",
   "metadata": {},
   "source": [
    "(5.2)=\n",
    "## 5.2 Reading/Writing Data\n",
    "\n",
    "Similar to NumPy, pandas contains multiple, convenient functions for reading/writing data directly to and from its own object types, and each function is suited to a specific file format. This includes CSV, HTML, JSON, SQL, Excel, and HDF5 files [among others](https://pandas.pydata.org/pandas-docs/stable/user_guide/io.html).\n",
    "\n",
    "**Table 2** Import/Export Functions in Pandas\n",
    "\n",
    "| Function | Description |\n",
    "|:-------: | :---------  |\n",
    "|`read_csv()` and `to_csv()` | Imports/Exports data from/to a CSV file |\n",
    "|`read_table()` and `to_table()` | General-purpose importer/exporter |\n",
    "|`read_hdf5()` and `to_hdf5()` | Imports/Exports data from/to an HDF5 file |\n",
    "|`read_clipboard()` and `to_clipboard()` | Transfers data to/from the clipboard\\* to a Series or DataFrame |\n",
    "|`read_excel()` and `to_excel()` | Reads/writes an Excel file|\n",
    "\n",
    "(5.2.1)=\n",
    "### 5.2.1 General-Purpose Delimited File Reader\n",
    "\n",
    "Before we start with more well-defined file formats, pandas provides a general purpose file reader `pd.read_table()`. This function imports text files where lines represent rows and the data in each row is separated by characters or spaces. The user can designate what character(s) separate the data by using the `delimiter` or `sep` arguments (they do the same thing),  or as an easy way of breaking up data based on spaces, set the  `delim_whitespaces` equal to `True`. The function also includes a series of other arguments listed below in Table 3.\n",
    "\n",
    "**Table 3** More `pd.read_table()` Arguments\n",
    "\n",
    "| Argument | Description |\n",
    "|:--------:| :-------    |\n",
    "|`delimiter`| Data separator; default is tab|\n",
    "|`sep` | Data separator; default is tab|\n",
    "|`skiprows` | Number of rows in file to skip before reading data|\n",
    "|`skipfooter` | Number of rows at the bottom of the file to skip|\n",
    "|`skip_blank_lines`| If `True`, skips blank lines in file; default is `False`|\n",
    "|`header` | Row number to use for a data header; also accepts None if no header is provided in the file|\n",
    "|`delim_whitespace` | Boolean argument indicating that data is separated by white space; default is `False`|\n",
    "|`skipinitialspace` | If `True`, skips white space after delimiter|\n",
    "\n",
    "As an example, we can use this function to read a calculated PDB file of benzene and extract the $xyz$ coordinates for each atom. This particular file type, shown below, is [strictly formatted based on the position in a line](http://www.wwpdb.org/documentation/file-format), but being that all the data columns here have spaces between them, we can use space delimitation by setting  `delim_whitespace=True`. Because the data do not start until the third line and we do not need the last thirteen lines of the file, we should exclude these rows. We set `header=None` because we do not want the function to treat the first line of data as a header or data label.\n",
    "\n",
    "    HEADER \n",
    "    REMARK \n",
    "    HETATM    1  H   UNK  0001       0.000   0.000  -0.020 \n",
    "    HETATM    2  C   UNK  0001       0.000   0.000   1.067 \n",
    "    HETATM    3  C   UNK  0001       0.000   0.000   3.857 \n",
    "    HETATM    4  C   UNK  0001       0.000  -1.208   1.764 \n",
    "    HETATM    5  C   UNK  0001       0.000   1.208   1.764 \n",
    "    HETATM    6  C   UNK  0001       0.000   1.208   3.159 \n",
    "    HETATM    7  C   UNK  0001       0.000  -1.208   3.159 \n",
    "    HETATM    8  H   UNK  0001       0.000  -2.149   1.221 \n",
    "    HETATM    9  H   UNK  0001       0.000   2.149   1.221 \n",
    "    HETATM   10  H   UNK  0001       0.000   2.149   3.703 \n",
    "    HETATM   11  H   UNK  0001       0.000  -2.149   3.703 \n",
    "    HETATM   12  H   UNK  0001       0.000   0.000   4.943 \n",
    "    CONECT    1    2 \n",
    "    CONECT    2    1    5    4 \n",
    "    CONECT    3    6    7   12 \n",
    "    CONECT    4    7    2    8 \n",
    "    CONECT    5    2    6    9 \n",
    "    CONECT    6    5    3   10 \n",
    "    CONECT    7    3    4   11 \n",
    "    CONECT    8    4 \n",
    "    CONECT    9    5 \n",
    "    CONECT   10    6 \n",
    "    CONECT   11    7 \n",
    "    CONECT   12    3 \n",
    "    END"
   ]
  },
  {
   "cell_type": "code",
   "execution_count": 50,
   "id": "c0d567b7-dcac-4fc1-b069-c641687dbef4",
   "metadata": {},
   "outputs": [],
   "source": [
    "benz = pd.read_table('data/benzene.pdb', delim_whitespace=True, skiprows=2, \n",
    "                     skipfooter=13, header=None, engine='python')"
   ]
  },
  {
   "cell_type": "code",
   "execution_count": 19,
   "id": "476acb3d-5c2f-4e28-97cf-9d593c825998",
   "metadata": {},
   "outputs": [
    {
     "data": {
      "text/html": [
       "<div>\n",
       "<style scoped>\n",
       "    .dataframe tbody tr th:only-of-type {\n",
       "        vertical-align: middle;\n",
       "    }\n",
       "\n",
       "    .dataframe tbody tr th {\n",
       "        vertical-align: top;\n",
       "    }\n",
       "\n",
       "    .dataframe thead th {\n",
       "        text-align: right;\n",
       "    }\n",
       "</style>\n",
       "<table border=\"1\" class=\"dataframe\">\n",
       "  <thead>\n",
       "    <tr style=\"text-align: right;\">\n",
       "      <th></th>\n",
       "      <th>0</th>\n",
       "      <th>1</th>\n",
       "      <th>2</th>\n",
       "      <th>3</th>\n",
       "      <th>4</th>\n",
       "      <th>5</th>\n",
       "      <th>6</th>\n",
       "      <th>7</th>\n",
       "    </tr>\n",
       "  </thead>\n",
       "  <tbody>\n",
       "    <tr>\n",
       "      <th>0</th>\n",
       "      <td>HETATM</td>\n",
       "      <td>1</td>\n",
       "      <td>H</td>\n",
       "      <td>UNK</td>\n",
       "      <td>1</td>\n",
       "      <td>0.0</td>\n",
       "      <td>0.000</td>\n",
       "      <td>-0.020</td>\n",
       "    </tr>\n",
       "    <tr>\n",
       "      <th>1</th>\n",
       "      <td>HETATM</td>\n",
       "      <td>2</td>\n",
       "      <td>C</td>\n",
       "      <td>UNK</td>\n",
       "      <td>1</td>\n",
       "      <td>0.0</td>\n",
       "      <td>0.000</td>\n",
       "      <td>1.067</td>\n",
       "    </tr>\n",
       "    <tr>\n",
       "      <th>2</th>\n",
       "      <td>HETATM</td>\n",
       "      <td>3</td>\n",
       "      <td>C</td>\n",
       "      <td>UNK</td>\n",
       "      <td>1</td>\n",
       "      <td>0.0</td>\n",
       "      <td>0.000</td>\n",
       "      <td>3.857</td>\n",
       "    </tr>\n",
       "    <tr>\n",
       "      <th>3</th>\n",
       "      <td>HETATM</td>\n",
       "      <td>4</td>\n",
       "      <td>C</td>\n",
       "      <td>UNK</td>\n",
       "      <td>1</td>\n",
       "      <td>0.0</td>\n",
       "      <td>-1.208</td>\n",
       "      <td>1.764</td>\n",
       "    </tr>\n",
       "    <tr>\n",
       "      <th>4</th>\n",
       "      <td>HETATM</td>\n",
       "      <td>5</td>\n",
       "      <td>C</td>\n",
       "      <td>UNK</td>\n",
       "      <td>1</td>\n",
       "      <td>0.0</td>\n",
       "      <td>1.208</td>\n",
       "      <td>1.764</td>\n",
       "    </tr>\n",
       "    <tr>\n",
       "      <th>5</th>\n",
       "      <td>HETATM</td>\n",
       "      <td>6</td>\n",
       "      <td>C</td>\n",
       "      <td>UNK</td>\n",
       "      <td>1</td>\n",
       "      <td>0.0</td>\n",
       "      <td>1.208</td>\n",
       "      <td>3.159</td>\n",
       "    </tr>\n",
       "    <tr>\n",
       "      <th>6</th>\n",
       "      <td>HETATM</td>\n",
       "      <td>7</td>\n",
       "      <td>C</td>\n",
       "      <td>UNK</td>\n",
       "      <td>1</td>\n",
       "      <td>0.0</td>\n",
       "      <td>-1.208</td>\n",
       "      <td>3.159</td>\n",
       "    </tr>\n",
       "    <tr>\n",
       "      <th>7</th>\n",
       "      <td>HETATM</td>\n",
       "      <td>8</td>\n",
       "      <td>H</td>\n",
       "      <td>UNK</td>\n",
       "      <td>1</td>\n",
       "      <td>0.0</td>\n",
       "      <td>-2.149</td>\n",
       "      <td>1.221</td>\n",
       "    </tr>\n",
       "    <tr>\n",
       "      <th>8</th>\n",
       "      <td>HETATM</td>\n",
       "      <td>9</td>\n",
       "      <td>H</td>\n",
       "      <td>UNK</td>\n",
       "      <td>1</td>\n",
       "      <td>0.0</td>\n",
       "      <td>2.149</td>\n",
       "      <td>1.221</td>\n",
       "    </tr>\n",
       "    <tr>\n",
       "      <th>9</th>\n",
       "      <td>HETATM</td>\n",
       "      <td>10</td>\n",
       "      <td>H</td>\n",
       "      <td>UNK</td>\n",
       "      <td>1</td>\n",
       "      <td>0.0</td>\n",
       "      <td>2.149</td>\n",
       "      <td>3.703</td>\n",
       "    </tr>\n",
       "    <tr>\n",
       "      <th>10</th>\n",
       "      <td>HETATM</td>\n",
       "      <td>11</td>\n",
       "      <td>H</td>\n",
       "      <td>UNK</td>\n",
       "      <td>1</td>\n",
       "      <td>0.0</td>\n",
       "      <td>-2.149</td>\n",
       "      <td>3.703</td>\n",
       "    </tr>\n",
       "    <tr>\n",
       "      <th>11</th>\n",
       "      <td>HETATM</td>\n",
       "      <td>12</td>\n",
       "      <td>H</td>\n",
       "      <td>UNK</td>\n",
       "      <td>1</td>\n",
       "      <td>0.0</td>\n",
       "      <td>0.000</td>\n",
       "      <td>4.943</td>\n",
       "    </tr>\n",
       "  </tbody>\n",
       "</table>\n",
       "</div>"
      ],
      "text/plain": [
       "         0   1  2    3  4    5      6      7\n",
       "0   HETATM   1  H  UNK  1  0.0  0.000 -0.020\n",
       "1   HETATM   2  C  UNK  1  0.0  0.000  1.067\n",
       "2   HETATM   3  C  UNK  1  0.0  0.000  3.857\n",
       "3   HETATM   4  C  UNK  1  0.0 -1.208  1.764\n",
       "4   HETATM   5  C  UNK  1  0.0  1.208  1.764\n",
       "5   HETATM   6  C  UNK  1  0.0  1.208  3.159\n",
       "6   HETATM   7  C  UNK  1  0.0 -1.208  3.159\n",
       "7   HETATM   8  H  UNK  1  0.0 -2.149  1.221\n",
       "8   HETATM   9  H  UNK  1  0.0  2.149  1.221\n",
       "9   HETATM  10  H  UNK  1  0.0  2.149  3.703\n",
       "10  HETATM  11  H  UNK  1  0.0 -2.149  3.703\n",
       "11  HETATM  12  H  UNK  1  0.0  0.000  4.943"
      ]
     },
     "execution_count": 19,
     "metadata": {},
     "output_type": "execute_result"
    }
   ],
   "source": [
    "benz"
   ]
  },
  {
   "cell_type": "markdown",
   "id": "66b68ed0-e92e-4531-8bf1-ef49e09226f6",
   "metadata": {},
   "source": [
    " The $x$, $y$, and $z$ data are in columns 5, 6, and 7, respectively and can be extracted by indexing as discussed in [section 5.1.2](5.1.2)."
   ]
  },
  {
   "cell_type": "markdown",
   "id": "a09fd196-fc1e-40fc-ba21-5e0631798515",
   "metadata": {},
   "source": [
    "(5.2.2)=\n",
    "### 5.2.2 Comma Separated Values Files\n",
    "\n",
    "Pandas provides a collection of more format-specific functions for reading/writing files. The most popular is possibly the CSV file because it is simple and many scientific instruments support exporting data in this format. To import a CSV file, we will use the `read_csv()` function. This function is very similar to the `read_table()` function except that a default value for the separator/delimiter is set to a comma. To create a CSV file, use the `to_csv()` method which at a minimum requires the file name and a pandas object with the data.\n",
    "\n",
    "We can write the above chemical element data assembled in [section 5.1](5.1) as shown below. Because we are starting from a pandas object and are using a pandas method, the `df.to_csv()` format is used where df is a DataFrame.\n",
    "\n",
    "~~~python\n",
    "elements.to_csv('elements.csv')\n",
    "~~~\n",
    "\n",
    "If we check the directory containing the Jupyter notebook, the data folder contains a file titled *elements.csv* that looks like the following. Each row in the DataFrame is a different line in the file, and every column is separated by a comma.\n",
    "\n",
    "    ,H,He,Li,Be,B\n",
    "    name,hydrogen,helium,lithium,berylium,boron\n",
    "    AN,1,2,3,4,5\n",
    "    mass,1.01,4.0,6.94,9.01,10.81\n",
    "    IE,13.6,24.6,5.4,9.3,8.3\n",
    "\n",
    "To read the data back in from the file, use `pd.read_csv()`. Because we are not starting with a pandas object, the function is called using the `pd.function()` format."
   ]
  },
  {
   "cell_type": "code",
   "execution_count": 20,
   "id": "1869bdbe-be03-4f6f-b43c-00fc58f482c9",
   "metadata": {},
   "outputs": [
    {
     "data": {
      "text/html": [
       "<div>\n",
       "<style scoped>\n",
       "    .dataframe tbody tr th:only-of-type {\n",
       "        vertical-align: middle;\n",
       "    }\n",
       "\n",
       "    .dataframe tbody tr th {\n",
       "        vertical-align: top;\n",
       "    }\n",
       "\n",
       "    .dataframe thead th {\n",
       "        text-align: right;\n",
       "    }\n",
       "</style>\n",
       "<table border=\"1\" class=\"dataframe\">\n",
       "  <thead>\n",
       "    <tr style=\"text-align: right;\">\n",
       "      <th></th>\n",
       "      <th>Unnamed: 0</th>\n",
       "      <th>H</th>\n",
       "      <th>He</th>\n",
       "      <th>Li</th>\n",
       "      <th>Be</th>\n",
       "      <th>B</th>\n",
       "    </tr>\n",
       "  </thead>\n",
       "  <tbody>\n",
       "    <tr>\n",
       "      <th>0</th>\n",
       "      <td>name</td>\n",
       "      <td>hydrogen</td>\n",
       "      <td>helium</td>\n",
       "      <td>lithium</td>\n",
       "      <td>beryllium</td>\n",
       "      <td>boron</td>\n",
       "    </tr>\n",
       "    <tr>\n",
       "      <th>1</th>\n",
       "      <td>AN</td>\n",
       "      <td>1</td>\n",
       "      <td>2</td>\n",
       "      <td>3</td>\n",
       "      <td>4</td>\n",
       "      <td>5</td>\n",
       "    </tr>\n",
       "    <tr>\n",
       "      <th>2</th>\n",
       "      <td>mass</td>\n",
       "      <td>1.01</td>\n",
       "      <td>4.0</td>\n",
       "      <td>6.94</td>\n",
       "      <td>9.01</td>\n",
       "      <td>10.81</td>\n",
       "    </tr>\n",
       "    <tr>\n",
       "      <th>3</th>\n",
       "      <td>IE</td>\n",
       "      <td>13.6</td>\n",
       "      <td>24.6</td>\n",
       "      <td>5.4</td>\n",
       "      <td>9.3</td>\n",
       "      <td>8.3</td>\n",
       "    </tr>\n",
       "  </tbody>\n",
       "</table>\n",
       "</div>"
      ],
      "text/plain": [
       "  Unnamed: 0         H      He       Li         Be      B\n",
       "0       name  hydrogen  helium  lithium  beryllium  boron\n",
       "1         AN         1       2        3          4      5\n",
       "2       mass      1.01     4.0     6.94       9.01  10.81\n",
       "3         IE      13.6    24.6      5.4        9.3    8.3"
      ]
     },
     "execution_count": 20,
     "metadata": {},
     "output_type": "execute_result"
    }
   ],
   "source": [
    "pd.read_csv('data/elements.csv')"
   ]
  },
  {
   "cell_type": "markdown",
   "id": "f807e273-8abf-4424-9589-28848a7fe5dc",
   "metadata": {},
   "source": [
    "(5.2.3)=\n",
    "### 5.2.3 Excel Notebook Files\n",
    "\n",
    "Pandas provides another useful function for importing Excel notebook files (i.e., *.xls* or *.xlsx*). Because Excel files can contain multiple sheets, this function is a little more complicated to use. The simplest way to import an Excel file is to use `pd.read_excel()` and provide it with the Excel file name."
   ]
  },
  {
   "cell_type": "code",
   "execution_count": 21,
   "id": "a9175f3a-dc8b-4272-98f3-29b8b73cc7c3",
   "metadata": {},
   "outputs": [
    {
     "data": {
      "text/html": [
       "<div>\n",
       "<style scoped>\n",
       "    .dataframe tbody tr th:only-of-type {\n",
       "        vertical-align: middle;\n",
       "    }\n",
       "\n",
       "    .dataframe tbody tr th {\n",
       "        vertical-align: top;\n",
       "    }\n",
       "\n",
       "    .dataframe thead th {\n",
       "        text-align: right;\n",
       "    }\n",
       "</style>\n",
       "<table border=\"1\" class=\"dataframe\">\n",
       "  <thead>\n",
       "    <tr style=\"text-align: right;\">\n",
       "      <th></th>\n",
       "      <th>x</th>\n",
       "      <th>y</th>\n",
       "    </tr>\n",
       "  </thead>\n",
       "  <tbody>\n",
       "    <tr>\n",
       "      <th>0</th>\n",
       "      <td>1</td>\n",
       "      <td>1</td>\n",
       "    </tr>\n",
       "    <tr>\n",
       "      <th>1</th>\n",
       "      <td>2</td>\n",
       "      <td>4</td>\n",
       "    </tr>\n",
       "    <tr>\n",
       "      <th>2</th>\n",
       "      <td>3</td>\n",
       "      <td>9</td>\n",
       "    </tr>\n",
       "    <tr>\n",
       "      <th>3</th>\n",
       "      <td>4</td>\n",
       "      <td>16</td>\n",
       "    </tr>\n",
       "    <tr>\n",
       "      <th>4</th>\n",
       "      <td>5</td>\n",
       "      <td>25</td>\n",
       "    </tr>\n",
       "    <tr>\n",
       "      <th>5</th>\n",
       "      <td>6</td>\n",
       "      <td>36</td>\n",
       "    </tr>\n",
       "    <tr>\n",
       "      <th>6</th>\n",
       "      <td>7</td>\n",
       "      <td>49</td>\n",
       "    </tr>\n",
       "  </tbody>\n",
       "</table>\n",
       "</div>"
      ],
      "text/plain": [
       "   x   y\n",
       "0  1   1\n",
       "1  2   4\n",
       "2  3   9\n",
       "3  4  16\n",
       "4  5  25\n",
       "5  6  36\n",
       "6  7  49"
      ]
     },
     "execution_count": 21,
     "metadata": {},
     "output_type": "execute_result"
    }
   ],
   "source": [
    "pd.read_excel('data/test.xls')"
   ]
  },
  {
   "cell_type": "markdown",
   "id": "b191853c-0ea6-4e02-837c-9c9fcb762473",
   "metadata": {},
   "source": [
    "In the above example, pandas assumes the first sheet in the file. If you want to access a different sheet in the file, you can specify this by using the `sheet_name` keyword argument. If you do not know the sheet name, the `sheet_name` argument also accepts integer index values (i.e., `0` for the first sheet and so on)."
   ]
  },
  {
   "cell_type": "code",
   "execution_count": 22,
   "id": "d2ef9926-4b7a-4235-983c-2e34ba373964",
   "metadata": {},
   "outputs": [
    {
     "data": {
      "text/html": [
       "<div>\n",
       "<style scoped>\n",
       "    .dataframe tbody tr th:only-of-type {\n",
       "        vertical-align: middle;\n",
       "    }\n",
       "\n",
       "    .dataframe tbody tr th {\n",
       "        vertical-align: top;\n",
       "    }\n",
       "\n",
       "    .dataframe thead th {\n",
       "        text-align: right;\n",
       "    }\n",
       "</style>\n",
       "<table border=\"1\" class=\"dataframe\">\n",
       "  <thead>\n",
       "    <tr style=\"text-align: right;\">\n",
       "      <th></th>\n",
       "      <th>a</th>\n",
       "      <th>b</th>\n",
       "      <th>Unnamed: 2</th>\n",
       "      <th>Unnamed: 3</th>\n",
       "      <th>Unnamed: 4</th>\n",
       "      <th>Unnamed: 5</th>\n",
       "      <th>Unnamed: 6</th>\n",
       "      <th>b.1</th>\n",
       "    </tr>\n",
       "  </thead>\n",
       "  <tbody>\n",
       "    <tr>\n",
       "      <th>0</th>\n",
       "      <td>1</td>\n",
       "      <td>0.841471</td>\n",
       "      <td>NaN</td>\n",
       "      <td>NaN</td>\n",
       "      <td>NaN</td>\n",
       "      <td>NaN</td>\n",
       "      <td>NaN</td>\n",
       "      <td>NaN</td>\n",
       "    </tr>\n",
       "    <tr>\n",
       "      <th>1</th>\n",
       "      <td>2</td>\n",
       "      <td>0.909297</td>\n",
       "      <td>NaN</td>\n",
       "      <td>NaN</td>\n",
       "      <td>NaN</td>\n",
       "      <td>NaN</td>\n",
       "      <td>NaN</td>\n",
       "      <td>NaN</td>\n",
       "    </tr>\n",
       "    <tr>\n",
       "      <th>2</th>\n",
       "      <td>3</td>\n",
       "      <td>0.141120</td>\n",
       "      <td>NaN</td>\n",
       "      <td>NaN</td>\n",
       "      <td>NaN</td>\n",
       "      <td>NaN</td>\n",
       "      <td>NaN</td>\n",
       "      <td>NaN</td>\n",
       "    </tr>\n",
       "    <tr>\n",
       "      <th>3</th>\n",
       "      <td>4</td>\n",
       "      <td>-0.756802</td>\n",
       "      <td>NaN</td>\n",
       "      <td>NaN</td>\n",
       "      <td>NaN</td>\n",
       "      <td>NaN</td>\n",
       "      <td>NaN</td>\n",
       "      <td>NaN</td>\n",
       "    </tr>\n",
       "    <tr>\n",
       "      <th>4</th>\n",
       "      <td>5</td>\n",
       "      <td>-0.958924</td>\n",
       "      <td>NaN</td>\n",
       "      <td>NaN</td>\n",
       "      <td>NaN</td>\n",
       "      <td>NaN</td>\n",
       "      <td>NaN</td>\n",
       "      <td>NaN</td>\n",
       "    </tr>\n",
       "    <tr>\n",
       "      <th>5</th>\n",
       "      <td>6</td>\n",
       "      <td>-0.279415</td>\n",
       "      <td>NaN</td>\n",
       "      <td>NaN</td>\n",
       "      <td>NaN</td>\n",
       "      <td>NaN</td>\n",
       "      <td>NaN</td>\n",
       "      <td>NaN</td>\n",
       "    </tr>\n",
       "    <tr>\n",
       "      <th>6</th>\n",
       "      <td>7</td>\n",
       "      <td>0.656987</td>\n",
       "      <td>NaN</td>\n",
       "      <td>NaN</td>\n",
       "      <td>NaN</td>\n",
       "      <td>NaN</td>\n",
       "      <td>NaN</td>\n",
       "      <td>NaN</td>\n",
       "    </tr>\n",
       "    <tr>\n",
       "      <th>7</th>\n",
       "      <td>8</td>\n",
       "      <td>0.989358</td>\n",
       "      <td>NaN</td>\n",
       "      <td>NaN</td>\n",
       "      <td>NaN</td>\n",
       "      <td>NaN</td>\n",
       "      <td>NaN</td>\n",
       "      <td>NaN</td>\n",
       "    </tr>\n",
       "    <tr>\n",
       "      <th>8</th>\n",
       "      <td>9</td>\n",
       "      <td>0.412118</td>\n",
       "      <td>NaN</td>\n",
       "      <td>NaN</td>\n",
       "      <td>NaN</td>\n",
       "      <td>NaN</td>\n",
       "      <td>NaN</td>\n",
       "      <td>NaN</td>\n",
       "    </tr>\n",
       "  </tbody>\n",
       "</table>\n",
       "</div>"
      ],
      "text/plain": [
       "   a         b  Unnamed: 2  Unnamed: 3  Unnamed: 4  Unnamed: 5  Unnamed: 6  \\\n",
       "0  1  0.841471         NaN         NaN         NaN         NaN         NaN   \n",
       "1  2  0.909297         NaN         NaN         NaN         NaN         NaN   \n",
       "2  3  0.141120         NaN         NaN         NaN         NaN         NaN   \n",
       "3  4 -0.756802         NaN         NaN         NaN         NaN         NaN   \n",
       "4  5 -0.958924         NaN         NaN         NaN         NaN         NaN   \n",
       "5  6 -0.279415         NaN         NaN         NaN         NaN         NaN   \n",
       "6  7  0.656987         NaN         NaN         NaN         NaN         NaN   \n",
       "7  8  0.989358         NaN         NaN         NaN         NaN         NaN   \n",
       "8  9  0.412118         NaN         NaN         NaN         NaN         NaN   \n",
       "\n",
       "   b.1  \n",
       "0  NaN  \n",
       "1  NaN  \n",
       "2  NaN  \n",
       "3  NaN  \n",
       "4  NaN  \n",
       "5  NaN  \n",
       "6  NaN  \n",
       "7  NaN  \n",
       "8  NaN  "
      ]
     },
     "execution_count": 22,
     "metadata": {},
     "output_type": "execute_result"
    }
   ],
   "source": [
    "data = pd.read_excel('data/test.xls', sheet_name='Sheet2')\n",
    "data"
   ]
  },
  {
   "cell_type": "markdown",
   "id": "cfc68738-92f8-4000-9802-0089d77afbee",
   "metadata": {},
   "source": [
    "Alternatively, if you want to extract the sheet names, you can use the `sheets_names` method with the `ExcelFile` class as demonstrated below."
   ]
  },
  {
   "cell_type": "code",
   "execution_count": 23,
   "id": "518192c2-05ac-48a5-9685-c8372fd48499",
   "metadata": {},
   "outputs": [
    {
     "data": {
      "text/plain": [
       "['Sheet1', 'Sheet2']"
      ]
     },
     "execution_count": 23,
     "metadata": {},
     "output_type": "execute_result"
    }
   ],
   "source": [
    "xl = pd.ExcelFile('data/test.xls')\n",
    "xl.sheet_names"
   ]
  },
  {
   "cell_type": "markdown",
   "id": "dddb5047-29cc-467c-af69-ceaa616bac93",
   "metadata": {},
   "source": [
    "Writing to an Excel file requires two steps – generate an ExcelWriter engine and then write each sheet. The Excel writer offers more power in generating Excel files including embedding charts, conditional formatting, coloring cells, and other tasks; but we will stick to the basics here."
   ]
  },
  {
   "cell_type": "code",
   "execution_count": 24,
   "id": "6b067bb6-0786-4855-a238-f576cd61ff50",
   "metadata": {},
   "outputs": [],
   "source": [
    "writer = pd.ExcelWriter('new_file.xlsx')\n",
    "data.to_excel(writer, 'First Sheet')\n",
    "writer.save()"
   ]
  },
  {
   "cell_type": "markdown",
   "id": "3e7db82d-2458-43c6-90cc-378a2e60b159",
   "metadata": {},
   "source": [
    "(5.2.4)=\n",
    "### 5.2.4 Computer Clipboard\n",
    "\n",
    "Pandas will also accept data from the computer’s copy and paste clipboard. Start by highlighting some data from a webpage or a spreadsheet, select copy. This is typically located under the Edit menu of most software applications. Alternatively, you can type Command + C on a macOS or Control + C on Windows and Linux. Finally, use the `pd.read_clipboard()` function to convert it to a pandas DataFrame.\n",
    "\n",
    "~~~python\n",
    "pd.read_clipboard()\n",
    "~~~\n",
    "\n",
    "Loading data from the clipboard is not a robust and efficient way to do much of your automated data analysis, but it is a very convenient method to experiment with data or to quickly grab some data off a website to experiment with."
   ]
  },
  {
   "cell_type": "markdown",
   "id": "4fb391da-4a0d-4d8c-9e27-d3ccfe7ad0a6",
   "metadata": {},
   "source": [
    "(5.3)=\n",
    "## 5.3 Examining Data with Pandas\n",
    "\n",
    "Once you load data into pandas, you will likely want to get an idea of what the data look like before you proceed to calculations and in-depth analyses. This section covers a few methods provided in pandas to gain a preliminary understanding of your data.\n",
    "\n",
    "(5.3.1)=\n",
    "### 5.3.1 Descriptive Functions\n",
    "\n",
    "Pandas provides a few simple functions to view and describe new data. The first two are `head()` and `tail()` which allow you to see the top and bottom of the DataFrame, respectively. These are particularly useful when dealing with very large DataFrames. Below, a DataFrame containing random values in an even, normal, and poisson distribution ($\\lambda$ = 3.0) demonstrates these functions."
   ]
  },
  {
   "cell_type": "code",
   "execution_count": 25,
   "id": "dd4ae599-a8b0-4b95-957e-aa71e075a304",
   "metadata": {},
   "outputs": [],
   "source": [
    "random = pd.DataFrame({'even': np.random.rand(1000),\n",
    "                       'normal': np.random.randn(1000),\n",
    "                       'poisson': np.random.poisson(\n",
    "                        lam=3.0, size=1000)})"
   ]
  },
  {
   "cell_type": "code",
   "execution_count": 26,
   "id": "ae940235-09dd-4060-a7bc-8a1307c9f0c2",
   "metadata": {},
   "outputs": [
    {
     "data": {
      "text/html": [
       "<div>\n",
       "<style scoped>\n",
       "    .dataframe tbody tr th:only-of-type {\n",
       "        vertical-align: middle;\n",
       "    }\n",
       "\n",
       "    .dataframe tbody tr th {\n",
       "        vertical-align: top;\n",
       "    }\n",
       "\n",
       "    .dataframe thead th {\n",
       "        text-align: right;\n",
       "    }\n",
       "</style>\n",
       "<table border=\"1\" class=\"dataframe\">\n",
       "  <thead>\n",
       "    <tr style=\"text-align: right;\">\n",
       "      <th></th>\n",
       "      <th>even</th>\n",
       "      <th>normal</th>\n",
       "      <th>poisson</th>\n",
       "    </tr>\n",
       "  </thead>\n",
       "  <tbody>\n",
       "    <tr>\n",
       "      <th>0</th>\n",
       "      <td>0.973293</td>\n",
       "      <td>0.458904</td>\n",
       "      <td>4</td>\n",
       "    </tr>\n",
       "    <tr>\n",
       "      <th>1</th>\n",
       "      <td>0.362824</td>\n",
       "      <td>-0.512958</td>\n",
       "      <td>1</td>\n",
       "    </tr>\n",
       "    <tr>\n",
       "      <th>2</th>\n",
       "      <td>0.862803</td>\n",
       "      <td>-0.981595</td>\n",
       "      <td>1</td>\n",
       "    </tr>\n",
       "    <tr>\n",
       "      <th>3</th>\n",
       "      <td>0.408034</td>\n",
       "      <td>-0.055255</td>\n",
       "      <td>1</td>\n",
       "    </tr>\n",
       "    <tr>\n",
       "      <th>4</th>\n",
       "      <td>0.765765</td>\n",
       "      <td>1.897198</td>\n",
       "      <td>1</td>\n",
       "    </tr>\n",
       "  </tbody>\n",
       "</table>\n",
       "</div>"
      ],
      "text/plain": [
       "       even    normal  poisson\n",
       "0  0.973293  0.458904        4\n",
       "1  0.362824 -0.512958        1\n",
       "2  0.862803 -0.981595        1\n",
       "3  0.408034 -0.055255        1\n",
       "4  0.765765  1.897198        1"
      ]
     },
     "execution_count": 26,
     "metadata": {},
     "output_type": "execute_result"
    }
   ],
   "source": [
    "random.head()"
   ]
  },
  {
   "cell_type": "code",
   "execution_count": 27,
   "id": "db1014b9-9f90-45de-9033-fc6b5f9c8673",
   "metadata": {},
   "outputs": [
    {
     "data": {
      "text/html": [
       "<div>\n",
       "<style scoped>\n",
       "    .dataframe tbody tr th:only-of-type {\n",
       "        vertical-align: middle;\n",
       "    }\n",
       "\n",
       "    .dataframe tbody tr th {\n",
       "        vertical-align: top;\n",
       "    }\n",
       "\n",
       "    .dataframe thead th {\n",
       "        text-align: right;\n",
       "    }\n",
       "</style>\n",
       "<table border=\"1\" class=\"dataframe\">\n",
       "  <thead>\n",
       "    <tr style=\"text-align: right;\">\n",
       "      <th></th>\n",
       "      <th>even</th>\n",
       "      <th>normal</th>\n",
       "      <th>poisson</th>\n",
       "    </tr>\n",
       "  </thead>\n",
       "  <tbody>\n",
       "    <tr>\n",
       "      <th>995</th>\n",
       "      <td>0.574809</td>\n",
       "      <td>0.964274</td>\n",
       "      <td>0</td>\n",
       "    </tr>\n",
       "    <tr>\n",
       "      <th>996</th>\n",
       "      <td>0.123995</td>\n",
       "      <td>-1.117488</td>\n",
       "      <td>2</td>\n",
       "    </tr>\n",
       "    <tr>\n",
       "      <th>997</th>\n",
       "      <td>0.647504</td>\n",
       "      <td>-1.321317</td>\n",
       "      <td>2</td>\n",
       "    </tr>\n",
       "    <tr>\n",
       "      <th>998</th>\n",
       "      <td>0.456841</td>\n",
       "      <td>-2.032169</td>\n",
       "      <td>4</td>\n",
       "    </tr>\n",
       "    <tr>\n",
       "      <th>999</th>\n",
       "      <td>0.931587</td>\n",
       "      <td>0.947999</td>\n",
       "      <td>0</td>\n",
       "    </tr>\n",
       "  </tbody>\n",
       "</table>\n",
       "</div>"
      ],
      "text/plain": [
       "         even    normal  poisson\n",
       "995  0.574809  0.964274        0\n",
       "996  0.123995 -1.117488        2\n",
       "997  0.647504 -1.321317        2\n",
       "998  0.456841 -2.032169        4\n",
       "999  0.931587  0.947999        0"
      ]
     },
     "execution_count": 27,
     "metadata": {},
     "output_type": "execute_result"
    }
   ],
   "source": [
    "random.tail()"
   ]
  },
  {
   "cell_type": "markdown",
   "id": "53731447-51f1-44e6-a0cf-e6693d88c39f",
   "metadata": {},
   "source": [
    "Pandas also contains a `describe()` function that returns a variety of statistics on each column. For example, the mean is provided which are approximately 0.5, 0.0, and 3.0 for the even, normal, and poisson distributions, respectively. This is not surprising being that the even distribution is centered around 0.5, the normal around 0.0, and the poisson distribution is generated for an average of 3.0. The user is also provided with the minimum, maximum, standard deviation, and the quartile boundaries."
   ]
  },
  {
   "cell_type": "code",
   "execution_count": 28,
   "id": "3bc58822-787f-405f-8fda-30a68dea60bc",
   "metadata": {},
   "outputs": [
    {
     "data": {
      "text/html": [
       "<div>\n",
       "<style scoped>\n",
       "    .dataframe tbody tr th:only-of-type {\n",
       "        vertical-align: middle;\n",
       "    }\n",
       "\n",
       "    .dataframe tbody tr th {\n",
       "        vertical-align: top;\n",
       "    }\n",
       "\n",
       "    .dataframe thead th {\n",
       "        text-align: right;\n",
       "    }\n",
       "</style>\n",
       "<table border=\"1\" class=\"dataframe\">\n",
       "  <thead>\n",
       "    <tr style=\"text-align: right;\">\n",
       "      <th></th>\n",
       "      <th>even</th>\n",
       "      <th>normal</th>\n",
       "      <th>poisson</th>\n",
       "    </tr>\n",
       "  </thead>\n",
       "  <tbody>\n",
       "    <tr>\n",
       "      <th>count</th>\n",
       "      <td>1000.000000</td>\n",
       "      <td>1000.000000</td>\n",
       "      <td>1000.000000</td>\n",
       "    </tr>\n",
       "    <tr>\n",
       "      <th>mean</th>\n",
       "      <td>0.504012</td>\n",
       "      <td>0.055443</td>\n",
       "      <td>3.027000</td>\n",
       "    </tr>\n",
       "    <tr>\n",
       "      <th>std</th>\n",
       "      <td>0.289654</td>\n",
       "      <td>0.963645</td>\n",
       "      <td>1.735305</td>\n",
       "    </tr>\n",
       "    <tr>\n",
       "      <th>min</th>\n",
       "      <td>0.002011</td>\n",
       "      <td>-2.476270</td>\n",
       "      <td>0.000000</td>\n",
       "    </tr>\n",
       "    <tr>\n",
       "      <th>25%</th>\n",
       "      <td>0.250756</td>\n",
       "      <td>-0.590452</td>\n",
       "      <td>2.000000</td>\n",
       "    </tr>\n",
       "    <tr>\n",
       "      <th>50%</th>\n",
       "      <td>0.498668</td>\n",
       "      <td>0.041344</td>\n",
       "      <td>3.000000</td>\n",
       "    </tr>\n",
       "    <tr>\n",
       "      <th>75%</th>\n",
       "      <td>0.758127</td>\n",
       "      <td>0.727824</td>\n",
       "      <td>4.000000</td>\n",
       "    </tr>\n",
       "    <tr>\n",
       "      <th>max</th>\n",
       "      <td>0.997987</td>\n",
       "      <td>3.157387</td>\n",
       "      <td>10.000000</td>\n",
       "    </tr>\n",
       "  </tbody>\n",
       "</table>\n",
       "</div>"
      ],
      "text/plain": [
       "              even       normal      poisson\n",
       "count  1000.000000  1000.000000  1000.000000\n",
       "mean      0.504012     0.055443     3.027000\n",
       "std       0.289654     0.963645     1.735305\n",
       "min       0.002011    -2.476270     0.000000\n",
       "25%       0.250756    -0.590452     2.000000\n",
       "50%       0.498668     0.041344     3.000000\n",
       "75%       0.758127     0.727824     4.000000\n",
       "max       0.997987     3.157387    10.000000"
      ]
     },
     "execution_count": 28,
     "metadata": {},
     "output_type": "execute_result"
    }
   ],
   "source": [
    "random.describe()"
   ]
  },
  {
   "cell_type": "markdown",
   "id": "53a06711-1356-4416-b1f9-62ca6f75aebc",
   "metadata": {},
   "source": [
    "Another useful function is the `value_counts()` method which returns all unique values in a Series (or DataFrame column or row). Below, it is demonstrated on the poisson column being that the other two columns will have a relatively large number of unique values."
   ]
  },
  {
   "cell_type": "code",
   "execution_count": 29,
   "id": "87b3d2b7-9b7c-4646-8a42-b8c8f0c37daa",
   "metadata": {},
   "outputs": [
    {
     "data": {
      "text/plain": [
       "3     222\n",
       "2     221\n",
       "4     163\n",
       "1     154\n",
       "5     105\n",
       "6      56\n",
       "0      45\n",
       "7      24\n",
       "8       7\n",
       "9       2\n",
       "10      1\n",
       "Name: poisson, dtype: int64"
      ]
     },
     "execution_count": 29,
     "metadata": {},
     "output_type": "execute_result"
    }
   ],
   "source": [
    "counts = random['poisson'].value_counts()\n",
    "counts"
   ]
  },
  {
   "cell_type": "markdown",
   "id": "5267bab5-f8cc-4c60-b981-27b10d514385",
   "metadata": {},
   "source": [
    "Data in DataFrames can be plotting by calling the desired columns of data and feeding them into plotting functions like `plt.scatter()`. The data can also be visualized by using the `df.plot(kind=)` format where `df` is the DataFrame and `kind` is the plot type (e.g., `'bar'`, `'hist'`, `'scatter'`, `'line'`, `'pie'`, etc...). However, this is just matplotlib doing the plotting and is largely redundant with other methods already covered. Below is a quick example of the counts data generated above."
   ]
  },
  {
   "cell_type": "code",
   "execution_count": 30,
   "id": "035f75a3-a7b9-49fc-abbb-f97967c9b8e3",
   "metadata": {},
   "outputs": [
    {
     "data": {
      "text/plain": [
       "<AxesSubplot:>"
      ]
     },
     "execution_count": 30,
     "metadata": {},
     "output_type": "execute_result"
    },
    {
     "data": {
      "image/png": "[encoded data removed]",
      "text/plain": [
       "<Figure size 432x288 with 1 Axes>"
      ]
     },
     "metadata": {
      "needs_background": "light"
     },
     "output_type": "display_data"
    }
   ],
   "source": [
    "counts.plot(kind='bar')"
   ]
  },
  {
   "cell_type": "markdown",
   "id": "f186434e-2afd-4509-b310-7dcdcba7db60",
   "metadata": {},
   "source": [
    "(5.3.2)=\n",
    "### 5.3.2 Broadcasted Mathematical Operations\n",
    "\n",
    "Because pandas is built upon NumPy arrays, mathematical operations are propagated through Series and DataFrames. The user is able to use NumPy methods on pandas objects, and there are a number of other mathematical operations to chose from such as those listed below.\n",
    "\n",
    "**Table 4** Broadcasted Pandas Methods\n",
    "\n",
    "| Function | Description |\n",
    "|:-------: | :---------  |\n",
    "|`abs()` | Absolute value |\n",
    "|`count()` | Counts items |\n",
    "|`cumsum()` | Cumulative sum |\n",
    "|`cumprod()` | Cumulative product |\n",
    "|`mad()` | Mean absolute deviation |\n",
    "|`max()` | Maximum |\n",
    "|`min()` | Minimum |\n",
    "|`mean()` | Mean |\n",
    "|`median()` | Median |\n",
    "|`mode()` | Mode |\n",
    "|`std()` | Standard deviation\\* |\n",
    "\\* Here the default delta degree of freedom (`ddof`) equals one unlike NumPy where the default is zero."
   ]
  },
  {
   "cell_type": "markdown",
   "id": "215893fa-48a7-44a6-8ae5-0b5338d5e0ae",
   "metadata": {},
   "source": [
    "(5.4)=\n",
    "## 5.4 Modifying DataFrames\n",
    "\n",
    "Now that you are able to generate DataFrames, it is useful to be able to modify them as you clean your data or perform calculations. This can be done through methods such as assignment, dropping rows and columns, and combining DataFrames or Series.\n",
    "\n",
    "(5.4.1)=\n",
    "### 5.4.1 Insert Columns via Assignment\n",
    "\n",
    "Possibly the easiest method of adding a new column is through assignment. If a nonexistent column is called and assigned values, instead of returning an error, pandas creates a new column with the given name and populates it with the data. For example, the `elements` DataFrame below does not contain a carbon column, so the column is added when assigned to a Series with the data. "
   ]
  },
  {
   "cell_type": "code",
   "execution_count": 31,
   "id": "20ad5471-516a-461c-be25-931dd1f71418",
   "metadata": {},
   "outputs": [
    {
     "data": {
      "text/html": [
       "<div>\n",
       "<style scoped>\n",
       "    .dataframe tbody tr th:only-of-type {\n",
       "        vertical-align: middle;\n",
       "    }\n",
       "\n",
       "    .dataframe tbody tr th {\n",
       "        vertical-align: top;\n",
       "    }\n",
       "\n",
       "    .dataframe thead th {\n",
       "        text-align: right;\n",
       "    }\n",
       "</style>\n",
       "<table border=\"1\" class=\"dataframe\">\n",
       "  <thead>\n",
       "    <tr style=\"text-align: right;\">\n",
       "      <th></th>\n",
       "      <th>H</th>\n",
       "      <th>He</th>\n",
       "      <th>Li</th>\n",
       "      <th>Be</th>\n",
       "      <th>B</th>\n",
       "    </tr>\n",
       "  </thead>\n",
       "  <tbody>\n",
       "    <tr>\n",
       "      <th>name</th>\n",
       "      <td>hydrogen</td>\n",
       "      <td>helium</td>\n",
       "      <td>lithium</td>\n",
       "      <td>beryllium</td>\n",
       "      <td>boron</td>\n",
       "    </tr>\n",
       "    <tr>\n",
       "      <th>AN</th>\n",
       "      <td>1</td>\n",
       "      <td>2</td>\n",
       "      <td>3</td>\n",
       "      <td>4</td>\n",
       "      <td>5</td>\n",
       "    </tr>\n",
       "    <tr>\n",
       "      <th>mass</th>\n",
       "      <td>1.01</td>\n",
       "      <td>4.0</td>\n",
       "      <td>6.94</td>\n",
       "      <td>9.01</td>\n",
       "      <td>10.81</td>\n",
       "    </tr>\n",
       "    <tr>\n",
       "      <th>IE</th>\n",
       "      <td>13.6</td>\n",
       "      <td>24.6</td>\n",
       "      <td>5.4</td>\n",
       "      <td>9.3</td>\n",
       "      <td>8.3</td>\n",
       "    </tr>\n",
       "  </tbody>\n",
       "</table>\n",
       "</div>"
      ],
      "text/plain": [
       "             H      He       Li         Be      B\n",
       "name  hydrogen  helium  lithium  beryllium  boron\n",
       "AN           1       2        3          4      5\n",
       "mass      1.01     4.0     6.94       9.01  10.81\n",
       "IE        13.6    24.6      5.4        9.3    8.3"
      ]
     },
     "execution_count": 31,
     "metadata": {},
     "output_type": "execute_result"
    }
   ],
   "source": [
    "elements"
   ]
  },
  {
   "cell_type": "code",
   "execution_count": 32,
   "id": "a9679e58-46d2-4adf-9e38-a32fb47a4f9b",
   "metadata": {},
   "outputs": [
    {
     "data": {
      "text/html": [
       "<div>\n",
       "<style scoped>\n",
       "    .dataframe tbody tr th:only-of-type {\n",
       "        vertical-align: middle;\n",
       "    }\n",
       "\n",
       "    .dataframe tbody tr th {\n",
       "        vertical-align: top;\n",
       "    }\n",
       "\n",
       "    .dataframe thead th {\n",
       "        text-align: right;\n",
       "    }\n",
       "</style>\n",
       "<table border=\"1\" class=\"dataframe\">\n",
       "  <thead>\n",
       "    <tr style=\"text-align: right;\">\n",
       "      <th></th>\n",
       "      <th>H</th>\n",
       "      <th>He</th>\n",
       "      <th>Li</th>\n",
       "      <th>Be</th>\n",
       "      <th>B</th>\n",
       "      <th>C</th>\n",
       "    </tr>\n",
       "  </thead>\n",
       "  <tbody>\n",
       "    <tr>\n",
       "      <th>name</th>\n",
       "      <td>hydrogen</td>\n",
       "      <td>helium</td>\n",
       "      <td>lithium</td>\n",
       "      <td>beryllium</td>\n",
       "      <td>boron</td>\n",
       "      <td>carbon</td>\n",
       "    </tr>\n",
       "    <tr>\n",
       "      <th>AN</th>\n",
       "      <td>1</td>\n",
       "      <td>2</td>\n",
       "      <td>3</td>\n",
       "      <td>4</td>\n",
       "      <td>5</td>\n",
       "      <td>6</td>\n",
       "    </tr>\n",
       "    <tr>\n",
       "      <th>mass</th>\n",
       "      <td>1.01</td>\n",
       "      <td>4.0</td>\n",
       "      <td>6.94</td>\n",
       "      <td>9.01</td>\n",
       "      <td>10.81</td>\n",
       "      <td>12.01</td>\n",
       "    </tr>\n",
       "    <tr>\n",
       "      <th>IE</th>\n",
       "      <td>13.6</td>\n",
       "      <td>24.6</td>\n",
       "      <td>5.4</td>\n",
       "      <td>9.3</td>\n",
       "      <td>8.3</td>\n",
       "      <td>11.3</td>\n",
       "    </tr>\n",
       "  </tbody>\n",
       "</table>\n",
       "</div>"
      ],
      "text/plain": [
       "             H      He       Li         Be      B       C\n",
       "name  hydrogen  helium  lithium  beryllium  boron  carbon\n",
       "AN           1       2        3          4      5       6\n",
       "mass      1.01     4.0     6.94       9.01  10.81   12.01\n",
       "IE        13.6    24.6      5.4        9.3    8.3    11.3"
      ]
     },
     "execution_count": 32,
     "metadata": {},
     "output_type": "execute_result"
    }
   ],
   "source": [
    "elements['C'] = ['carbon', 6, 12.01, 11.3]\n",
    "elements"
   ]
  },
  {
   "cell_type": "markdown",
   "id": "2fc3ab46-b5bb-47b3-8a2f-ef551601099f",
   "metadata": {},
   "source": [
    "(5.4.2)=\n",
    "### 5.4.2 Automatic Alignment\n",
    "\n",
    "Another important feature of pandas is the ability to automatically align data based on labels. In the above example, carbon is added to the DataFrame with the name, atomic number, atomic mass, and ionization energy in the same order as in the DataFrame. What happens if the new data is not in the correct order? If we are using NumPy, this would require additional effort on the part of the user to reorder the data. However, if each value is labeled, pandas will see to it that they are placed in the correct location."
   ]
  },
  {
   "cell_type": "code",
   "execution_count": 33,
   "id": "240bc5a6-6b68-4cc2-8c97-7b8557b558f2",
   "metadata": {},
   "outputs": [
    {
     "data": {
      "text/plain": [
       "AN             7\n",
       "mass       14.01\n",
       "name    nitrogen\n",
       "IE          14.5\n",
       "dtype: object"
      ]
     },
     "execution_count": 33,
     "metadata": {},
     "output_type": "execute_result"
    }
   ],
   "source": [
    "nitrogen = pd.Series([7, 14.01, 'nitrogen', 14.5], index=['AN', 'mass', 'name', 'IE'])\n",
    "nitrogen"
   ]
  },
  {
   "cell_type": "markdown",
   "id": "cdad4371-7e44-44e3-b3d0-cfb2810f75e4",
   "metadata": {},
   "source": [
    "Data for nitrogen is placed in a Series above. Notice that the values are out of order with respect to the data in `elements`. There are index labels (i.e., row labels) that tell pandas what each piece of data is, and pandas will use them to determine where to place the new information."
   ]
  },
  {
   "cell_type": "code",
   "execution_count": 34,
   "id": "a3ed4e58-dde9-47b9-acae-99f627c47d1f",
   "metadata": {
    "collapsed": true,
    "jupyter": {
     "outputs_hidden": true
    },
    "tags": []
   },
   "outputs": [
    {
     "data": {
      "text/html": [
       "<div>\n",
       "<style scoped>\n",
       "    .dataframe tbody tr th:only-of-type {\n",
       "        vertical-align: middle;\n",
       "    }\n",
       "\n",
       "    .dataframe tbody tr th {\n",
       "        vertical-align: top;\n",
       "    }\n",
       "\n",
       "    .dataframe thead th {\n",
       "        text-align: right;\n",
       "    }\n",
       "</style>\n",
       "<table border=\"1\" class=\"dataframe\">\n",
       "  <thead>\n",
       "    <tr style=\"text-align: right;\">\n",
       "      <th></th>\n",
       "      <th>H</th>\n",
       "      <th>He</th>\n",
       "      <th>Li</th>\n",
       "      <th>Be</th>\n",
       "      <th>B</th>\n",
       "      <th>C</th>\n",
       "      <th>N</th>\n",
       "    </tr>\n",
       "  </thead>\n",
       "  <tbody>\n",
       "    <tr>\n",
       "      <th>name</th>\n",
       "      <td>hydrogen</td>\n",
       "      <td>helium</td>\n",
       "      <td>lithium</td>\n",
       "      <td>beryllium</td>\n",
       "      <td>boron</td>\n",
       "      <td>carbon</td>\n",
       "      <td>nitrogen</td>\n",
       "    </tr>\n",
       "    <tr>\n",
       "      <th>AN</th>\n",
       "      <td>1</td>\n",
       "      <td>2</td>\n",
       "      <td>3</td>\n",
       "      <td>4</td>\n",
       "      <td>5</td>\n",
       "      <td>6</td>\n",
       "      <td>7</td>\n",
       "    </tr>\n",
       "    <tr>\n",
       "      <th>mass</th>\n",
       "      <td>1.01</td>\n",
       "      <td>4.0</td>\n",
       "      <td>6.94</td>\n",
       "      <td>9.01</td>\n",
       "      <td>10.81</td>\n",
       "      <td>12.01</td>\n",
       "      <td>14.01</td>\n",
       "    </tr>\n",
       "    <tr>\n",
       "      <th>IE</th>\n",
       "      <td>13.6</td>\n",
       "      <td>24.6</td>\n",
       "      <td>5.4</td>\n",
       "      <td>9.3</td>\n",
       "      <td>8.3</td>\n",
       "      <td>11.3</td>\n",
       "      <td>14.5</td>\n",
       "    </tr>\n",
       "  </tbody>\n",
       "</table>\n",
       "</div>"
      ],
      "text/plain": [
       "             H      He       Li         Be      B       C         N\n",
       "name  hydrogen  helium  lithium  beryllium  boron  carbon  nitrogen\n",
       "AN           1       2        3          4      5       6         7\n",
       "mass      1.01     4.0     6.94       9.01  10.81   12.01     14.01\n",
       "IE        13.6    24.6      5.4        9.3    8.3    11.3      14.5"
      ]
     },
     "execution_count": 34,
     "metadata": {},
     "output_type": "execute_result"
    }
   ],
   "source": [
    "elements['N'] = nitrogen\n",
    "elements"
   ]
  },
  {
   "cell_type": "markdown",
   "id": "6655c619-d888-4e0c-bccb-cfc288b75086",
   "metadata": {},
   "source": [
    "The new column of nitrogen data has been added to `elements` with all pieces of data residing in the correct row."
   ]
  },
  {
   "cell_type": "markdown",
   "id": "5f7bad29-a763-46a6-873d-8b771bbdf16a",
   "metadata": {
    "tags": []
   },
   "source": [
    "(5.4.3)=\n",
    "### 5.4.3 Dropping Columns\n",
    "\n",
    "When cleaning up data, you may wish to drop a column or row. Pandas provides the `drop()` method for this purpose. It requires the name of the column or row to be dropped, and by default, it assumes a row, `axis=0`, is to be dropped. If you want to drop a column, change the axis using the `axis=1` argument. Below, the hydrogen column is dropped from the elements DataFrame."
   ]
  },
  {
   "cell_type": "code",
   "execution_count": 35,
   "id": "037a69fe-ceba-4f45-9a11-4a1e6294e486",
   "metadata": {},
   "outputs": [
    {
     "data": {
      "text/html": [
       "<div>\n",
       "<style scoped>\n",
       "    .dataframe tbody tr th:only-of-type {\n",
       "        vertical-align: middle;\n",
       "    }\n",
       "\n",
       "    .dataframe tbody tr th {\n",
       "        vertical-align: top;\n",
       "    }\n",
       "\n",
       "    .dataframe thead th {\n",
       "        text-align: right;\n",
       "    }\n",
       "</style>\n",
       "<table border=\"1\" class=\"dataframe\">\n",
       "  <thead>\n",
       "    <tr style=\"text-align: right;\">\n",
       "      <th></th>\n",
       "      <th>He</th>\n",
       "      <th>Li</th>\n",
       "      <th>Be</th>\n",
       "      <th>B</th>\n",
       "      <th>C</th>\n",
       "      <th>N</th>\n",
       "    </tr>\n",
       "  </thead>\n",
       "  <tbody>\n",
       "    <tr>\n",
       "      <th>name</th>\n",
       "      <td>helium</td>\n",
       "      <td>lithium</td>\n",
       "      <td>beryllium</td>\n",
       "      <td>boron</td>\n",
       "      <td>carbon</td>\n",
       "      <td>nitrogen</td>\n",
       "    </tr>\n",
       "    <tr>\n",
       "      <th>AN</th>\n",
       "      <td>2</td>\n",
       "      <td>3</td>\n",
       "      <td>4</td>\n",
       "      <td>5</td>\n",
       "      <td>6</td>\n",
       "      <td>7</td>\n",
       "    </tr>\n",
       "    <tr>\n",
       "      <th>mass</th>\n",
       "      <td>4.0</td>\n",
       "      <td>6.94</td>\n",
       "      <td>9.01</td>\n",
       "      <td>10.81</td>\n",
       "      <td>12.01</td>\n",
       "      <td>14.01</td>\n",
       "    </tr>\n",
       "    <tr>\n",
       "      <th>IE</th>\n",
       "      <td>24.6</td>\n",
       "      <td>5.4</td>\n",
       "      <td>9.3</td>\n",
       "      <td>8.3</td>\n",
       "      <td>11.3</td>\n",
       "      <td>14.5</td>\n",
       "    </tr>\n",
       "  </tbody>\n",
       "</table>\n",
       "</div>"
      ],
      "text/plain": [
       "          He       Li         Be      B       C         N\n",
       "name  helium  lithium  beryllium  boron  carbon  nitrogen\n",
       "AN         2        3          4      5       6         7\n",
       "mass     4.0     6.94       9.01  10.81   12.01     14.01\n",
       "IE      24.6      5.4        9.3    8.3    11.3      14.5"
      ]
     },
     "execution_count": 35,
     "metadata": {},
     "output_type": "execute_result"
    }
   ],
   "source": [
    "elements.drop('H', axis=1)"
   ]
  },
  {
   "cell_type": "code",
   "execution_count": 36,
   "id": "b87a2c00-d9b0-4923-9c14-ead239b17e6d",
   "metadata": {},
   "outputs": [
    {
     "data": {
      "text/html": [
       "<div>\n",
       "<style scoped>\n",
       "    .dataframe tbody tr th:only-of-type {\n",
       "        vertical-align: middle;\n",
       "    }\n",
       "\n",
       "    .dataframe tbody tr th {\n",
       "        vertical-align: top;\n",
       "    }\n",
       "\n",
       "    .dataframe thead th {\n",
       "        text-align: right;\n",
       "    }\n",
       "</style>\n",
       "<table border=\"1\" class=\"dataframe\">\n",
       "  <thead>\n",
       "    <tr style=\"text-align: right;\">\n",
       "      <th></th>\n",
       "      <th>H</th>\n",
       "      <th>He</th>\n",
       "      <th>Li</th>\n",
       "      <th>Be</th>\n",
       "      <th>B</th>\n",
       "      <th>C</th>\n",
       "      <th>N</th>\n",
       "    </tr>\n",
       "  </thead>\n",
       "  <tbody>\n",
       "    <tr>\n",
       "      <th>name</th>\n",
       "      <td>hydrogen</td>\n",
       "      <td>helium</td>\n",
       "      <td>lithium</td>\n",
       "      <td>beryllium</td>\n",
       "      <td>boron</td>\n",
       "      <td>carbon</td>\n",
       "      <td>nitrogen</td>\n",
       "    </tr>\n",
       "    <tr>\n",
       "      <th>AN</th>\n",
       "      <td>1</td>\n",
       "      <td>2</td>\n",
       "      <td>3</td>\n",
       "      <td>4</td>\n",
       "      <td>5</td>\n",
       "      <td>6</td>\n",
       "      <td>7</td>\n",
       "    </tr>\n",
       "    <tr>\n",
       "      <th>mass</th>\n",
       "      <td>1.01</td>\n",
       "      <td>4.0</td>\n",
       "      <td>6.94</td>\n",
       "      <td>9.01</td>\n",
       "      <td>10.81</td>\n",
       "      <td>12.01</td>\n",
       "      <td>14.01</td>\n",
       "    </tr>\n",
       "  </tbody>\n",
       "</table>\n",
       "</div>"
      ],
      "text/plain": [
       "             H      He       Li         Be      B       C         N\n",
       "name  hydrogen  helium  lithium  beryllium  boron  carbon  nitrogen\n",
       "AN           1       2        3          4      5       6         7\n",
       "mass      1.01     4.0     6.94       9.01  10.81   12.01     14.01"
      ]
     },
     "execution_count": 36,
     "metadata": {},
     "output_type": "execute_result"
    }
   ],
   "source": [
    "elements.drop('IE', axis=0)"
   ]
  },
  {
   "cell_type": "markdown",
   "id": "bb8f8569-5814-40f9-b1a7-10f099de69c5",
   "metadata": {},
   "source": [
    "In the second example above, the hydrogen is back despite being previously dropped. This is because the `drop()` method does not by default modify the origional DataFrame. To make the changes perminent, either assigned the new DataFrame to a new variable or add the `inplace=True` keyword argument to the above `drop()` function."
   ]
  },
  {
   "cell_type": "markdown",
   "id": "3f237427-2414-45db-8b88-529b88220504",
   "metadata": {},
   "source": [
    "(5.4.4)=\n",
    "### 5.4.4 Merge\n",
    "\n",
    "To merge multiple DataFrames, pandas provides a `merge()` method. Similar to above, the `merge()` function will properly align data, but because DataFrames have multiple columns and index values to choose from, the `merge()` function can align data based on any of these values. The default behavior for `merge()` is to check for common columns between the two DataFrames and align the data based on those columns. As an example, below are two DataFrames containing data from various chemical compounds."
   ]
  },
  {
   "cell_type": "code",
   "execution_count": 37,
   "id": "a7186aeb-b501-40e8-99ba-c8a32120a57e",
   "metadata": {},
   "outputs": [],
   "source": [
    "chemdata1 = [['MW', 58.08, 32.04], ['dipole', 2.91, 1.69], ['formula', 'C3H6O', 'CH3OH']] \n",
    "columns=['property','acetone', 'methanol']\n",
    "chmdf1 = pd.DataFrame(chemdata1, columns=columns)"
   ]
  },
  {
   "cell_type": "code",
   "execution_count": 38,
   "id": "c801763d-0031-48bf-a820-7c9f7b9979c6",
   "metadata": {},
   "outputs": [
    {
     "data": {
      "text/html": [
       "<div>\n",
       "<style scoped>\n",
       "    .dataframe tbody tr th:only-of-type {\n",
       "        vertical-align: middle;\n",
       "    }\n",
       "\n",
       "    .dataframe tbody tr th {\n",
       "        vertical-align: top;\n",
       "    }\n",
       "\n",
       "    .dataframe thead th {\n",
       "        text-align: right;\n",
       "    }\n",
       "</style>\n",
       "<table border=\"1\" class=\"dataframe\">\n",
       "  <thead>\n",
       "    <tr style=\"text-align: right;\">\n",
       "      <th></th>\n",
       "      <th>property</th>\n",
       "      <th>acetone</th>\n",
       "      <th>methanol</th>\n",
       "    </tr>\n",
       "  </thead>\n",
       "  <tbody>\n",
       "    <tr>\n",
       "      <th>0</th>\n",
       "      <td>MW</td>\n",
       "      <td>58.08</td>\n",
       "      <td>32.04</td>\n",
       "    </tr>\n",
       "    <tr>\n",
       "      <th>1</th>\n",
       "      <td>dipole</td>\n",
       "      <td>2.91</td>\n",
       "      <td>1.69</td>\n",
       "    </tr>\n",
       "    <tr>\n",
       "      <th>2</th>\n",
       "      <td>formula</td>\n",
       "      <td>C3H6O</td>\n",
       "      <td>CH3OH</td>\n",
       "    </tr>\n",
       "  </tbody>\n",
       "</table>\n",
       "</div>"
      ],
      "text/plain": [
       "  property acetone methanol\n",
       "0       MW   58.08    32.04\n",
       "1   dipole    2.91     1.69\n",
       "2  formula   C3H6O    CH3OH"
      ]
     },
     "execution_count": 38,
     "metadata": {},
     "output_type": "execute_result"
    }
   ],
   "source": [
    "chmdf1"
   ]
  },
  {
   "cell_type": "code",
   "execution_count": 39,
   "id": "22e8ccc7-5237-4184-a6f8-d4c9a6930cce",
   "metadata": {},
   "outputs": [],
   "source": [
    "chmdata2 = [['formula', 'C6H6', 'H2O'], ['dipole', 0.00, 1.85], ['MW', 78.11, 18.02]]\n",
    "chmdf2 = pd.DataFrame(chmdata2 , columns=['property', 'benzene', 'water'])"
   ]
  },
  {
   "cell_type": "code",
   "execution_count": 40,
   "id": "00287786-e1da-48d4-ab5d-fd5d852f954e",
   "metadata": {},
   "outputs": [
    {
     "data": {
      "text/html": [
       "<div>\n",
       "<style scoped>\n",
       "    .dataframe tbody tr th:only-of-type {\n",
       "        vertical-align: middle;\n",
       "    }\n",
       "\n",
       "    .dataframe tbody tr th {\n",
       "        vertical-align: top;\n",
       "    }\n",
       "\n",
       "    .dataframe thead th {\n",
       "        text-align: right;\n",
       "    }\n",
       "</style>\n",
       "<table border=\"1\" class=\"dataframe\">\n",
       "  <thead>\n",
       "    <tr style=\"text-align: right;\">\n",
       "      <th></th>\n",
       "      <th>property</th>\n",
       "      <th>benzene</th>\n",
       "      <th>water</th>\n",
       "    </tr>\n",
       "  </thead>\n",
       "  <tbody>\n",
       "    <tr>\n",
       "      <th>0</th>\n",
       "      <td>formula</td>\n",
       "      <td>C6H6</td>\n",
       "      <td>H2O</td>\n",
       "    </tr>\n",
       "    <tr>\n",
       "      <th>1</th>\n",
       "      <td>dipole</td>\n",
       "      <td>0.0</td>\n",
       "      <td>1.85</td>\n",
       "    </tr>\n",
       "    <tr>\n",
       "      <th>2</th>\n",
       "      <td>MW</td>\n",
       "      <td>78.11</td>\n",
       "      <td>18.02</td>\n",
       "    </tr>\n",
       "  </tbody>\n",
       "</table>\n",
       "</div>"
      ],
      "text/plain": [
       "  property benzene  water\n",
       "0  formula    C6H6    H2O\n",
       "1   dipole     0.0   1.85\n",
       "2       MW   78.11  18.02"
      ]
     },
     "execution_count": 40,
     "metadata": {},
     "output_type": "execute_result"
    }
   ],
   "source": [
    "chmdf2"
   ]
  },
  {
   "cell_type": "markdown",
   "id": "b822c783-fc2e-400e-80ca-c1a173d004d9",
   "metadata": {},
   "source": [
    "Both DataFrames above have a `property` column, so the `merge()` function uses this common column to align all the data into a new DataFrame."
   ]
  },
  {
   "cell_type": "code",
   "execution_count": 41,
   "id": "41a143a9-81f9-44ad-b8f6-e0ae913a1e2e",
   "metadata": {},
   "outputs": [
    {
     "data": {
      "text/html": [
       "<div>\n",
       "<style scoped>\n",
       "    .dataframe tbody tr th:only-of-type {\n",
       "        vertical-align: middle;\n",
       "    }\n",
       "\n",
       "    .dataframe tbody tr th {\n",
       "        vertical-align: top;\n",
       "    }\n",
       "\n",
       "    .dataframe thead th {\n",
       "        text-align: right;\n",
       "    }\n",
       "</style>\n",
       "<table border=\"1\" class=\"dataframe\">\n",
       "  <thead>\n",
       "    <tr style=\"text-align: right;\">\n",
       "      <th></th>\n",
       "      <th>property</th>\n",
       "      <th>acetone</th>\n",
       "      <th>methanol</th>\n",
       "      <th>benzene</th>\n",
       "      <th>water</th>\n",
       "    </tr>\n",
       "  </thead>\n",
       "  <tbody>\n",
       "    <tr>\n",
       "      <th>0</th>\n",
       "      <td>MW</td>\n",
       "      <td>58.08</td>\n",
       "      <td>32.04</td>\n",
       "      <td>78.11</td>\n",
       "      <td>18.02</td>\n",
       "    </tr>\n",
       "    <tr>\n",
       "      <th>1</th>\n",
       "      <td>dipole</td>\n",
       "      <td>2.91</td>\n",
       "      <td>1.69</td>\n",
       "      <td>0.0</td>\n",
       "      <td>1.85</td>\n",
       "    </tr>\n",
       "    <tr>\n",
       "      <th>2</th>\n",
       "      <td>formula</td>\n",
       "      <td>C3H6O</td>\n",
       "      <td>CH3OH</td>\n",
       "      <td>C6H6</td>\n",
       "      <td>H2O</td>\n",
       "    </tr>\n",
       "  </tbody>\n",
       "</table>\n",
       "</div>"
      ],
      "text/plain": [
       "  property acetone methanol benzene  water\n",
       "0       MW   58.08    32.04   78.11  18.02\n",
       "1   dipole    2.91     1.69     0.0   1.85\n",
       "2  formula   C3H6O    CH3OH    C6H6    H2O"
      ]
     },
     "execution_count": 41,
     "metadata": {},
     "output_type": "execute_result"
    }
   ],
   "source": [
    "chmdf1.merge(chmdf2)"
   ]
  },
  {
   "cell_type": "markdown",
   "id": "5a548922-ed9e-4495-a70e-e426c399248a",
   "metadata": {},
   "source": [
    "If there are multiple columns with the same name, the user can specify which to use with the `on` keyword argument (e.g., `on='property'`). Alternatively, if the two DataFrames contain columns with different names that the user wants used for alignment, the user can specify which columns to use with the `left_on` and `right_on` keyword arguments."
   ]
  },
  {
   "cell_type": "code",
   "execution_count": 42,
   "id": "ef02eae7-15ba-4977-a69c-2ccb440abd85",
   "metadata": {},
   "outputs": [],
   "source": [
    "comps1 = pd.DataFrame({'element':['Co', 'Fe', 'Cr','Ni'], 'protons': [27, 26, 24, 28]})\n",
    "comps2 = pd.DataFrame({'metal':['Fe', 'Co', 'Cr', 'Ni'], 'IE': [7.90, 7.88, 6.79, 7.64]})"
   ]
  },
  {
   "cell_type": "markdown",
   "id": "dd45cdab-4404-49af-8a22-02ecb0e33910",
   "metadata": {},
   "source": [
    "In the two DataFrames generated above, each contains data on on cobalt, iron, chromium, and nickel; but the first DataFrame labels metals as `element` while the second labels the metals as `metal`. The following merges the two DataFrames based on values in these two columns."
   ]
  },
  {
   "cell_type": "code",
   "execution_count": 43,
   "id": "396a6f7e-4949-4312-9e5f-b933b87bd536",
   "metadata": {},
   "outputs": [
    {
     "data": {
      "text/html": [
       "<div>\n",
       "<style scoped>\n",
       "    .dataframe tbody tr th:only-of-type {\n",
       "        vertical-align: middle;\n",
       "    }\n",
       "\n",
       "    .dataframe tbody tr th {\n",
       "        vertical-align: top;\n",
       "    }\n",
       "\n",
       "    .dataframe thead th {\n",
       "        text-align: right;\n",
       "    }\n",
       "</style>\n",
       "<table border=\"1\" class=\"dataframe\">\n",
       "  <thead>\n",
       "    <tr style=\"text-align: right;\">\n",
       "      <th></th>\n",
       "      <th>element</th>\n",
       "      <th>protons</th>\n",
       "      <th>metal</th>\n",
       "      <th>IE</th>\n",
       "    </tr>\n",
       "  </thead>\n",
       "  <tbody>\n",
       "    <tr>\n",
       "      <th>0</th>\n",
       "      <td>Co</td>\n",
       "      <td>27</td>\n",
       "      <td>Co</td>\n",
       "      <td>7.88</td>\n",
       "    </tr>\n",
       "    <tr>\n",
       "      <th>1</th>\n",
       "      <td>Fe</td>\n",
       "      <td>26</td>\n",
       "      <td>Fe</td>\n",
       "      <td>7.90</td>\n",
       "    </tr>\n",
       "    <tr>\n",
       "      <th>2</th>\n",
       "      <td>Cr</td>\n",
       "      <td>24</td>\n",
       "      <td>Cr</td>\n",
       "      <td>6.79</td>\n",
       "    </tr>\n",
       "    <tr>\n",
       "      <th>3</th>\n",
       "      <td>Ni</td>\n",
       "      <td>28</td>\n",
       "      <td>Ni</td>\n",
       "      <td>7.64</td>\n",
       "    </tr>\n",
       "  </tbody>\n",
       "</table>\n",
       "</div>"
      ],
      "text/plain": [
       "  element  protons metal    IE\n",
       "0      Co       27    Co  7.88\n",
       "1      Fe       26    Fe  7.90\n",
       "2      Cr       24    Cr  6.79\n",
       "3      Ni       28    Ni  7.64"
      ]
     },
     "execution_count": 43,
     "metadata": {},
     "output_type": "execute_result"
    }
   ],
   "source": [
    "comps1.merge(comps2, left_on='element',right_on='metal')"
   ]
  },
  {
   "cell_type": "markdown",
   "id": "1230094b-84cd-414c-a941-94b478ea5cf6",
   "metadata": {},
   "source": [
    "Notice that the values in the `element` and `metal` columns were aligned in the resulting DataFrame. To get rid of one of the redundant columns, just use the `drop()` method described in [section 5.4.3](5.4.3)."
   ]
  },
  {
   "cell_type": "code",
   "execution_count": 55,
   "id": "81af77cf-eba8-4fcb-aefd-ac09b7e84e56",
   "metadata": {},
   "outputs": [
    {
     "data": {
      "text/html": [
       "<div>\n",
       "<style scoped>\n",
       "    .dataframe tbody tr th:only-of-type {\n",
       "        vertical-align: middle;\n",
       "    }\n",
       "\n",
       "    .dataframe tbody tr th {\n",
       "        vertical-align: top;\n",
       "    }\n",
       "\n",
       "    .dataframe thead th {\n",
       "        text-align: right;\n",
       "    }\n",
       "</style>\n",
       "<table border=\"1\" class=\"dataframe\">\n",
       "  <thead>\n",
       "    <tr style=\"text-align: right;\">\n",
       "      <th></th>\n",
       "      <th>element</th>\n",
       "      <th>protons</th>\n",
       "      <th>IE</th>\n",
       "    </tr>\n",
       "  </thead>\n",
       "  <tbody>\n",
       "    <tr>\n",
       "      <th>0</th>\n",
       "      <td>Co</td>\n",
       "      <td>27</td>\n",
       "      <td>7.88</td>\n",
       "    </tr>\n",
       "    <tr>\n",
       "      <th>1</th>\n",
       "      <td>Fe</td>\n",
       "      <td>26</td>\n",
       "      <td>7.90</td>\n",
       "    </tr>\n",
       "    <tr>\n",
       "      <th>2</th>\n",
       "      <td>Cr</td>\n",
       "      <td>24</td>\n",
       "      <td>6.79</td>\n",
       "    </tr>\n",
       "    <tr>\n",
       "      <th>3</th>\n",
       "      <td>Ni</td>\n",
       "      <td>28</td>\n",
       "      <td>7.64</td>\n",
       "    </tr>\n",
       "  </tbody>\n",
       "</table>\n",
       "</div>"
      ],
      "text/plain": [
       "  element  protons    IE\n",
       "0      Co       27  7.88\n",
       "1      Fe       26  7.90\n",
       "2      Cr       24  6.79\n",
       "3      Ni       28  7.64"
      ]
     },
     "execution_count": 55,
     "metadata": {},
     "output_type": "execute_result"
    }
   ],
   "source": [
    "comps3 = comps1.merge(comps2, left_on='element',right_on='metal')\n",
    "comps3.drop('metal', axis=1, inplace=True)\n",
    "comps3"
   ]
  },
  {
   "cell_type": "markdown",
   "id": "db88e80f-67f2-4b5a-820f-a71cb5cb9126",
   "metadata": {},
   "source": [
    "(5.4.5)=\n",
    "### 5.4.5 Concatenation\n",
    "\n",
    "Concatenation is the process of splicing two DataFrames along a given axis. This is different from the `merge()` method above in that `merge()` merges and aligns common data between the two DataFrames while `pd.concat()` blindly appends one DataFrame to another. As an example, imagine two lab groups measure the densities of magnesium, aluminum, titanium, and iron and load their results into DataFrames below. "
   ]
  },
  {
   "cell_type": "code",
   "execution_count": 44,
   "id": "9ec72107-6d86-4131-ac8c-5e244b7e9f03",
   "metadata": {},
   "outputs": [],
   "source": [
    "group1 = pd.DataFrame({'metal':['Mg', 'Al', 'Ti', 'Fe'], 'density': [1.77, 2.73, 4.55, 7.88]})\n",
    "group2 = pd.DataFrame({'metal':['Al', 'Mg', 'Ti', 'Fe'], 'density': [2.90, 1.54, 4.12, 8.10]})"
   ]
  },
  {
   "cell_type": "code",
   "execution_count": 45,
   "id": "c6e2db3b-6952-4f19-93ac-8b5ea6f76a3d",
   "metadata": {},
   "outputs": [
    {
     "data": {
      "text/html": [
       "<div>\n",
       "<style scoped>\n",
       "    .dataframe tbody tr th:only-of-type {\n",
       "        vertical-align: middle;\n",
       "    }\n",
       "\n",
       "    .dataframe tbody tr th {\n",
       "        vertical-align: top;\n",
       "    }\n",
       "\n",
       "    .dataframe thead th {\n",
       "        text-align: right;\n",
       "    }\n",
       "</style>\n",
       "<table border=\"1\" class=\"dataframe\">\n",
       "  <thead>\n",
       "    <tr style=\"text-align: right;\">\n",
       "      <th></th>\n",
       "      <th>metal</th>\n",
       "      <th>density</th>\n",
       "    </tr>\n",
       "  </thead>\n",
       "  <tbody>\n",
       "    <tr>\n",
       "      <th>0</th>\n",
       "      <td>Mg</td>\n",
       "      <td>1.77</td>\n",
       "    </tr>\n",
       "    <tr>\n",
       "      <th>1</th>\n",
       "      <td>Al</td>\n",
       "      <td>2.73</td>\n",
       "    </tr>\n",
       "    <tr>\n",
       "      <th>2</th>\n",
       "      <td>Ti</td>\n",
       "      <td>4.55</td>\n",
       "    </tr>\n",
       "    <tr>\n",
       "      <th>3</th>\n",
       "      <td>Fe</td>\n",
       "      <td>7.88</td>\n",
       "    </tr>\n",
       "  </tbody>\n",
       "</table>\n",
       "</div>"
      ],
      "text/plain": [
       "  metal  density\n",
       "0    Mg     1.77\n",
       "1    Al     2.73\n",
       "2    Ti     4.55\n",
       "3    Fe     7.88"
      ]
     },
     "execution_count": 45,
     "metadata": {},
     "output_type": "execute_result"
    }
   ],
   "source": [
    "group1"
   ]
  },
  {
   "cell_type": "markdown",
   "id": "8c2fbfc2-a4b1-4cca-8edb-1394fc2646d8",
   "metadata": {},
   "source": [
    "See what happens when these two DataFrames are concatenated."
   ]
  },
  {
   "cell_type": "code",
   "execution_count": 46,
   "id": "d5317a99-fe12-4e42-ad0c-22a1003a424e",
   "metadata": {},
   "outputs": [
    {
     "data": {
      "text/html": [
       "<div>\n",
       "<style scoped>\n",
       "    .dataframe tbody tr th:only-of-type {\n",
       "        vertical-align: middle;\n",
       "    }\n",
       "\n",
       "    .dataframe tbody tr th {\n",
       "        vertical-align: top;\n",
       "    }\n",
       "\n",
       "    .dataframe thead th {\n",
       "        text-align: right;\n",
       "    }\n",
       "</style>\n",
       "<table border=\"1\" class=\"dataframe\">\n",
       "  <thead>\n",
       "    <tr style=\"text-align: right;\">\n",
       "      <th></th>\n",
       "      <th>metal</th>\n",
       "      <th>density</th>\n",
       "    </tr>\n",
       "  </thead>\n",
       "  <tbody>\n",
       "    <tr>\n",
       "      <th>0</th>\n",
       "      <td>Mg</td>\n",
       "      <td>1.77</td>\n",
       "    </tr>\n",
       "    <tr>\n",
       "      <th>1</th>\n",
       "      <td>Al</td>\n",
       "      <td>2.73</td>\n",
       "    </tr>\n",
       "    <tr>\n",
       "      <th>2</th>\n",
       "      <td>Ti</td>\n",
       "      <td>4.55</td>\n",
       "    </tr>\n",
       "    <tr>\n",
       "      <th>3</th>\n",
       "      <td>Fe</td>\n",
       "      <td>7.88</td>\n",
       "    </tr>\n",
       "    <tr>\n",
       "      <th>0</th>\n",
       "      <td>Al</td>\n",
       "      <td>2.90</td>\n",
       "    </tr>\n",
       "    <tr>\n",
       "      <th>1</th>\n",
       "      <td>Mg</td>\n",
       "      <td>1.54</td>\n",
       "    </tr>\n",
       "    <tr>\n",
       "      <th>2</th>\n",
       "      <td>Ti</td>\n",
       "      <td>4.12</td>\n",
       "    </tr>\n",
       "    <tr>\n",
       "      <th>3</th>\n",
       "      <td>Fe</td>\n",
       "      <td>8.10</td>\n",
       "    </tr>\n",
       "  </tbody>\n",
       "</table>\n",
       "</div>"
      ],
      "text/plain": [
       "  metal  density\n",
       "0    Mg     1.77\n",
       "1    Al     2.73\n",
       "2    Ti     4.55\n",
       "3    Fe     7.88\n",
       "0    Al     2.90\n",
       "1    Mg     1.54\n",
       "2    Ti     4.12\n",
       "3    Fe     8.10"
      ]
     },
     "execution_count": 46,
     "metadata": {},
     "output_type": "execute_result"
    }
   ],
   "source": [
    "pd.concat((group1, group2))"
   ]
  },
  {
   "cell_type": "markdown",
   "id": "29254e9c-b3de-4504-8b7e-e721a2cb1b71",
   "metadata": {},
   "source": [
    "Notice how the two DataFrames are appended with no consideration for common values in the `metal` column. The default behavior is to concatenate along the first axis (`axis=0`), but this behavior can be modified with the `axis=` keyword argument. Again, the metals are not all aligned below because they were not in the same order in the original DataFrames."
   ]
  },
  {
   "cell_type": "code",
   "execution_count": 47,
   "id": "7d0eeeb1-02fd-4540-897e-880b6c1e159f",
   "metadata": {},
   "outputs": [
    {
     "data": {
      "text/html": [
       "<div>\n",
       "<style scoped>\n",
       "    .dataframe tbody tr th:only-of-type {\n",
       "        vertical-align: middle;\n",
       "    }\n",
       "\n",
       "    .dataframe tbody tr th {\n",
       "        vertical-align: top;\n",
       "    }\n",
       "\n",
       "    .dataframe thead th {\n",
       "        text-align: right;\n",
       "    }\n",
       "</style>\n",
       "<table border=\"1\" class=\"dataframe\">\n",
       "  <thead>\n",
       "    <tr style=\"text-align: right;\">\n",
       "      <th></th>\n",
       "      <th>metal</th>\n",
       "      <th>density</th>\n",
       "      <th>metal</th>\n",
       "      <th>density</th>\n",
       "    </tr>\n",
       "  </thead>\n",
       "  <tbody>\n",
       "    <tr>\n",
       "      <th>0</th>\n",
       "      <td>Mg</td>\n",
       "      <td>1.77</td>\n",
       "      <td>Al</td>\n",
       "      <td>2.90</td>\n",
       "    </tr>\n",
       "    <tr>\n",
       "      <th>1</th>\n",
       "      <td>Al</td>\n",
       "      <td>2.73</td>\n",
       "      <td>Mg</td>\n",
       "      <td>1.54</td>\n",
       "    </tr>\n",
       "    <tr>\n",
       "      <th>2</th>\n",
       "      <td>Ti</td>\n",
       "      <td>4.55</td>\n",
       "      <td>Ti</td>\n",
       "      <td>4.12</td>\n",
       "    </tr>\n",
       "    <tr>\n",
       "      <th>3</th>\n",
       "      <td>Fe</td>\n",
       "      <td>7.88</td>\n",
       "      <td>Fe</td>\n",
       "      <td>8.10</td>\n",
       "    </tr>\n",
       "  </tbody>\n",
       "</table>\n",
       "</div>"
      ],
      "text/plain": [
       "  metal  density metal  density\n",
       "0    Mg     1.77    Al     2.90\n",
       "1    Al     2.73    Mg     1.54\n",
       "2    Ti     4.55    Ti     4.12\n",
       "3    Fe     7.88    Fe     8.10"
      ]
     },
     "execution_count": 47,
     "metadata": {},
     "output_type": "execute_result"
    }
   ],
   "source": [
    "pd.concat((group1, group2), axis=1)"
   ]
  },
  {
   "cell_type": "markdown",
   "id": "3bebe3f4-4e71-4c1e-bc45-db9ea4bdbd9a",
   "metadata": {},
   "source": [
    "For comparison, if the two DataFrames are merged instead of concatenating them, pandas will align the data based on the `metal` as demonstrated below. Because `density` appears twice as a column header, pandas deals with this by adding a suffix to differentiate between the two data sets."
   ]
  },
  {
   "cell_type": "code",
   "execution_count": 48,
   "id": "86511232-16e8-4983-bd6c-a290f10232b6",
   "metadata": {},
   "outputs": [
    {
     "data": {
      "text/html": [
       "<div>\n",
       "<style scoped>\n",
       "    .dataframe tbody tr th:only-of-type {\n",
       "        vertical-align: middle;\n",
       "    }\n",
       "\n",
       "    .dataframe tbody tr th {\n",
       "        vertical-align: top;\n",
       "    }\n",
       "\n",
       "    .dataframe thead th {\n",
       "        text-align: right;\n",
       "    }\n",
       "</style>\n",
       "<table border=\"1\" class=\"dataframe\">\n",
       "  <thead>\n",
       "    <tr style=\"text-align: right;\">\n",
       "      <th></th>\n",
       "      <th>metal</th>\n",
       "      <th>density_x</th>\n",
       "      <th>density_y</th>\n",
       "    </tr>\n",
       "  </thead>\n",
       "  <tbody>\n",
       "    <tr>\n",
       "      <th>0</th>\n",
       "      <td>Mg</td>\n",
       "      <td>1.77</td>\n",
       "      <td>1.54</td>\n",
       "    </tr>\n",
       "    <tr>\n",
       "      <th>1</th>\n",
       "      <td>Al</td>\n",
       "      <td>2.73</td>\n",
       "      <td>2.90</td>\n",
       "    </tr>\n",
       "    <tr>\n",
       "      <th>2</th>\n",
       "      <td>Ti</td>\n",
       "      <td>4.55</td>\n",
       "      <td>4.12</td>\n",
       "    </tr>\n",
       "    <tr>\n",
       "      <th>3</th>\n",
       "      <td>Fe</td>\n",
       "      <td>7.88</td>\n",
       "      <td>8.10</td>\n",
       "    </tr>\n",
       "  </tbody>\n",
       "</table>\n",
       "</div>"
      ],
      "text/plain": [
       "  metal  density_x  density_y\n",
       "0    Mg       1.77       1.54\n",
       "1    Al       2.73       2.90\n",
       "2    Ti       4.55       4.12\n",
       "3    Fe       7.88       8.10"
      ]
     },
     "execution_count": 48,
     "metadata": {},
     "output_type": "execute_result"
    }
   ],
   "source": [
    "pd.merge(group1, group2, on='metal')"
   ]
  },
  {
   "cell_type": "markdown",
   "id": "f61d745b-714e-47d3-bb87-8ed3af7c4fac",
   "metadata": {
    "jp-MarkdownHeadingCollapsed": true,
    "tags": []
   },
   "source": [
    "## Further Reading\n",
    "\n",
    "For further resources on the pandas library, see the following. The value of the pandas website cannot be emphasized enough as it contains a large quantity of high quality documentation and illustrative examples on using pandas for data analysis and processing.\n",
    "\n",
    "1. Pandas Website. [http://pandas.pydata.org/](http://pandas.pydata.org/) (free resource)\n",
    "\n",
    "2. VanderPlas, J. Python data Science Handbook: Essential Tools for Working with Data, 1st ed.; O’Reilly: Sebastopol, CA, 2017, chapter 3. A free, online version is available by the author at [https://github.com/jakevdp/PythonDataScienceHandbook](https://github.com/jakevdp/PythonDataScienceHandbook) (free resource)\n",
    "\n",
    "3. McKinney, W. Python for Data Analysis: Data Wrangling with Pandas, NumPy, and Ipython, 2nd ed.; O’Reilly: Sebastopol, CA, 2018."
   ]
  },
  {
   "cell_type": "markdown",
   "id": "88a14e8d-9917-4418-bfad-956328edf650",
   "metadata": {},
   "source": [
    "## Exercises\n",
    "\n",
    "Complete the following using the pandas library. Avoid using `for` loops unless absolutely necessary."
   ]
  },
  {
   "cell_type": "markdown",
   "id": "931217ad-9781-4037-b7eb-0369d747d142",
   "metadata": {},
   "source": [
    "1. Below is a table containing the melting points and boiling points of multiple common chemical solvents.\n",
    "\n",
    "    |  Solvent  |  bp  |  mp  |\n",
    "    |  :------: | :--: | :--: |\n",
    "    | benzene  | 80 | 6 |\n",
    "    | acetone | 56 | -95 |\n",
    "    | toluene | 111 | -95 |\n",
    "    | pentane |  36 | -130 |\n",
    "    | ether | 35 | -116 |\n",
    "    | ethanol | 78 | -114 |\n",
    "    | methanol | 65 | -98 |\n",
    "\n",
    "\n",
    "    \n",
    "    a) Create a Series containing the boiling points of the above solvents with the solvent names as the indices. Call the Series to look up the boiling point of ethanol.\n",
    "    \n",
    "    b) Create a DataFrame that contains both the boiling points and melting points with the solvent names as the indices. Call the DataFrame to look up the melting point of benzene.\n",
    "      \n",
    "    c) Access the boiling point of pentane in the DataFrame from part b using numerical indices.\n",
    "    \n",
    "2. Import the attached file **blue1.csv** containing the absorption spectrum of Blue 1 food dye using pandas.\n",
    "\n",
    "    a) Set the wavelengths as the index values.\n",
    "             \n",
    "    b) Plot the absorption versus wavelength.\n",
    "             \n",
    "    c) Determine the absorbance of Blue 1 at 620 nm.\n",
    "\n",
    "3. Chemical Kinetics: Import the file **kinetics.csv** containing time series data for the conversion of A $\\rightarrow$ Product using pandas IO tools. Generate new columns for $ln[A]$, $[A]^{-1}$, and $[A]^{0.5}$ and determine the order of the reaction\n",
    "\n",
    "4. Import the **ROH_data.csv** file containing data on various simple alcohols to a DataFrame. Notice that this data is missing densities for some of the compounds. \n",
    "\n",
    "    a) Use pandas to remove any rows with incomplete information in the density column using the `pd.dropna()`           function. Check the DataFrame to see if it has changed.\n",
    "\n",
    "    b) Again using the `pd.dropna()` function, drop incomplete row with the parameter `inplace=True`. Check to see if the     DataFrame has changed.\n",
    "\n",
    "5. Import the following four files containing UV-vis spectra of four food dyes with the first column listing the wavelengths (nm) and the second column containing the absorbances. Each file contains data in from 400-850 nm in 1 nm increments.\n",
    "\n",
    "    $$ red40.csv \\quad green3.csv \\quad  blue1.csv \\quad yellow6.csv $$\n",
    "\n",
    "    a) Concatenation the files into a single DataFrame with the first column as the wavelength (nm) and the other         four columns as the absorbances for each dye.\n",
    "\n",
    "    b) Replace the column headers with meaningful labels.\n",
    "\n",
    "6. Import the two files **alcohols.csv** and **alkanes.csv** containing the boiling points of the two classes of organic compounds with respect to the number of carbons in each compound.\n",
    "\n",
    "    a) Drop the columns containing the names of the compounds.\n",
    "\n",
    "    b) Merge the two DataFrames allowing pandas to align the two DataFrames based on carbon number.\n"
   ]
  },
  {
   "cell_type": "code",
   "execution_count": null,
   "id": "78135651-8348-4a78-9fad-6067db1b3082",
   "metadata": {},
   "outputs": [],
   "source": []
  }
 ],
 "metadata": {
  "kernelspec": {
   "display_name": "Python 3 (ipykernel)",
   "language": "python",
   "name": "python3"
  },
  "language_info": {
   "codemirror_mode": {
    "name": "ipython",
    "version": 3
   },
   "file_extension": ".py",
   "mimetype": "text/x-python",
   "name": "python",
   "nbconvert_exporter": "python",
   "pygments_lexer": "ipython3",
   "version": "3.9.7"
  }
 },
 "nbformat": 4,
 "nbformat_minor": 5
}
