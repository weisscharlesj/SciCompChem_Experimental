{
 "cells": [
  {
   "cell_type": "markdown",
   "id": "6c23942b-751f-4405-92b8-129c4a0ff7a7",
   "metadata": {},
   "source": [
    "(14)=\n",
    "\n",
    "# Chapter 14: Bioinformatics\n",
    "\n",
    "Bioinformatics is the field of working with biological and biochemical data, and while the data is fundamentally no different than the data seen so far, this field is large and significant enough to warrant its own chapter. More importantly, bioinformatics contains a multitude of different file formats making this a significant hurdle in working with the data. The good news is that these file formats are usually text files like seen in the previous chapters, and a multiple libraries exist to facilitate the loading and working with these file formats and data. This chapter will start by looking at a couple common file formats, PDB and fasta, parsing them with our own code followed by introducing the biopython library to perform the heavy lifting."
   ]
  },
  {
   "cell_type": "markdown",
   "id": "4244cb2a-b3cb-428b-8bfc-1970e7d9eff7",
   "metadata": {},
   "source": [
    "(14.1)=\n",
    "\n",
    "## 14.1 PDB and Fasta Files\n",
    "\n",
    "In this first section, we will look at PDB and fasta file formats and parse them with our own code as they are both simply text files. PDB files are designed to hold protein sequence and structural information while the fasta file format holds sequence data for proteins and nucleic acids. The fasta file format is simpler than the PDB file format, but there is significant amounts of structural data contained in the PDB file format not provided with just the sequence "
   ]
  },
  {
   "cell_type": "markdown",
   "id": "6cd17104-1af8-4d8d-93fa-c5cd3092ed7c",
   "metadata": {},
   "source": [
    "(14.1.1)=\n",
    "### 14.1.1 Parsting PDB Files\n",
    "\n",
    "1. Native Python code\n",
    "2. With Biopython"
   ]
  },
  {
   "cell_type": "markdown",
   "id": "3eae4658-7428-4782-a2d0-2a78df7cdcfe",
   "metadata": {},
   "source": [
    "(14.1.2)\n",
    "### 14.1.2 Parsting Fasta Files\n",
    "\n",
    "1. Native Python code\n",
    "2. With BioPython"
   ]
  },
  {
   "cell_type": "markdown",
   "id": "7b806481-8ff2-4836-98ce-a63e94cb6a0b",
   "metadata": {},
   "source": [
    "(14.2)=\n",
    "## Ramachandran Plots\n",
    "\n",
    "Create Ramachandran plots"
   ]
  },
  {
   "cell_type": "code",
   "execution_count": null,
   "id": "0dac569b-938b-45cf-bc3a-d46e8692a92a",
   "metadata": {},
   "outputs": [],
   "source": []
  },
  {
   "cell_type": "markdown",
   "id": "c72700a6-3ca2-479b-be91-9915b76ef269",
   "metadata": {},
   "source": [
    "## Visualizing Proteins with "
   ]
  },
  {
   "cell_type": "markdown",
   "id": "6655ffe6-4ba0-4291-98c6-300572b7024e",
   "metadata": {},
   "source": [
    "## Further Reading\n",
    "\n",
    "1. PDB format documentation. https://www.wwpdb.org/documentation/file-format (free resource)\n",
    "2. Biopython Website. https://biopython.org (free resource)\n",
    "3. Scikit-bio Website. http://scikit-bio.org (free resource)"
   ]
  },
  {
   "cell_type": "code",
   "execution_count": null,
   "id": "ead08746-cb09-4bbb-a5e2-9328f39e4526",
   "metadata": {},
   "outputs": [],
   "source": []
  }
 ],
 "metadata": {
  "kernelspec": {
   "display_name": "Python 3 (ipykernel)",
   "language": "python",
   "name": "python3"
  },
  "language_info": {
   "codemirror_mode": {
    "name": "ipython",
    "version": 3
   },
   "file_extension": ".py",
   "mimetype": "text/x-python",
   "name": "python",
   "nbconvert_exporter": "python",
   "pygments_lexer": "ipython3",
   "version": "3.9.7"
  }
 },
 "nbformat": 4,
 "nbformat_minor": 5
}
