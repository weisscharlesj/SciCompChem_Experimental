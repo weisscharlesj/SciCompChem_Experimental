{
 "cells": [
  {
   "cell_type": "markdown",
   "id": "7f7efea5-6cf8-4a9e-be0b-8f347387b0ac",
   "metadata": {},
   "source": [
    "(8)=\n",
    "# Chapter 8: Mathematics"
   ]
  },
  {
   "cell_type": "markdown",
   "id": "65209ac5-1ad0-4923-8dc3-1d4bbe87d50d",
   "metadata": {},
   "source": [
    "We have already been doing math throughout this book as Python is fundamentally performing mathematical operations through arithmetic, calculus, algebra, and Boolean logic among others, but this chapter will dive deeper into symbolic mathematics, matrix operations, and integration. Some of this chapter will rely on SciPy and NumPy, but for the symbolic mathematics, we will use the popular [SymPy  library](http://www.sympy.org/en/index.html).\n",
    "\n",
    "SymPy is the main library in the SciPy ecosystem for performing symbolic mathematics, and it is suitable for a wide audience from high school school students to scientific researchers. It is something like a free, open source Mathematica substitute that is built on Python and is arguably more accessible in terms of cost and ease of acquisition. All of the following SymPy code relies on the following import which makes all of the SymPy modules available."
   ]
  },
  {
   "cell_type": "code",
   "execution_count": 1,
   "id": "f35b07ce-ba6b-41a5-a760-e33be1457e5a",
   "metadata": {},
   "outputs": [],
   "source": [
    "import sympy"
   ]
  },
  {
   "cell_type": "markdown",
   "id": "330529e4-512e-4422-b03d-a9fb0c0c12fd",
   "metadata": {},
   "source": [
    "(8.1)=\n",
    "## 8.1 Symbolic Mathematics\n",
    "\n",
    "SymPy differentiates itself from the rest of Python and SciPy stack in that it returns exact or symbolic results whereas Python, SciPy, and NumPy will generate numerical answers which may not be exact. That is to say, not only does SymPy perform symbolic mathematical operations, but even if the result of an operation has a numerical answer, SymPy will return the value in exact form. For example, if we take the square root of 2 using the `math` module, we get a numerical value."
   ]
  },
  {
   "cell_type": "code",
   "execution_count": 2,
   "id": "06ad3ae0-f488-407f-80bc-cd390b8f485d",
   "metadata": {},
   "outputs": [
    {
     "data": {
      "text/plain": [
       "1.4142135623730951"
      ]
     },
     "execution_count": 2,
     "metadata": {},
     "output_type": "execute_result"
    }
   ],
   "source": [
    "import math\n",
    "math.sqrt(2)"
   ]
  },
  {
   "cell_type": "markdown",
   "id": "ec27d1f8-7a2e-4455-b96c-6c1140001c67",
   "metadata": {},
   "source": [
    "The value returned is a rounded approximation of the true answer. In contrast, if the same operation is performed using SymPy, we get a different result."
   ]
  },
  {
   "cell_type": "code",
   "execution_count": 3,
   "id": "2a96f238-0702-4c76-8779-55d58dc17f96",
   "metadata": {},
   "outputs": [
    {
     "data": {
      "text/latex": [
       "$\\displaystyle \\sqrt{2}$"
      ],
      "text/plain": [
       "sqrt(2)"
      ]
     },
     "execution_count": 3,
     "metadata": {},
     "output_type": "execute_result"
    }
   ],
   "source": [
    "sympy.sqrt(2)"
   ]
  },
  {
   "cell_type": "markdown",
   "id": "a9a9965c-f6c6-41d0-b96f-232b0e4ff970",
   "metadata": {},
   "source": [
    "Because the square root of two is an irrational number, it cannot be represented exactly by a decimal, so SymPy leaves it in the exact form of `sqrt(2)`. If we absolutely need a numerical value, SymPy can be instructed to evaluate an imprecise, numerical value using the `evalf()` method."
   ]
  },
  {
   "cell_type": "code",
   "execution_count": 4,
   "id": "329b886f-db05-4337-8b0d-d2b729d7acff",
   "metadata": {},
   "outputs": [
    {
     "data": {
      "text/latex": [
       "$\\displaystyle 1.4142135623731$"
      ],
      "text/plain": [
       "1.41421356237310"
      ]
     },
     "execution_count": 4,
     "metadata": {},
     "output_type": "execute_result"
    }
   ],
   "source": [
    "sympy.sqrt(2).evalf()"
   ]
  },
  {
   "cell_type": "markdown",
   "id": "2ec05058-1a3b-4793-a9ce-8412de5293a1",
   "metadata": {},
   "source": [
    "One of the advantages of `evalf()` is that it also accepts a significant figures argument."
   ]
  },
  {
   "cell_type": "code",
   "execution_count": 5,
   "id": "b4a09281-1ed0-4735-ba33-56420ea2c672",
   "metadata": {},
   "outputs": [
    {
     "data": {
      "text/latex": [
       "$\\displaystyle 1.41421356237309504880168872421$"
      ],
      "text/plain": [
       "1.41421356237309504880168872421"
      ]
     },
     "execution_count": 5,
     "metadata": {},
     "output_type": "execute_result"
    }
   ],
   "source": [
    "sympy.sqrt(2).evalf(30)"
   ]
  },
  {
   "cell_type": "code",
   "execution_count": 6,
   "id": "549bf71a-717d-4771-866c-3a1f7eaec615",
   "metadata": {},
   "outputs": [
    {
     "data": {
      "text/latex": [
       "$\\displaystyle 3.141592653589793238462643383279502884197$"
      ],
      "text/plain": [
       "3.141592653589793238462643383279502884197"
      ]
     },
     "execution_count": 6,
     "metadata": {},
     "output_type": "execute_result"
    }
   ],
   "source": [
    "sympy.pi.evalf(40)"
   ]
  },
  {
   "cell_type": "markdown",
   "id": "2baddaa1-f382-4883-9609-bb9304dd4a48",
   "metadata": {},
   "source": [
    "(8.1.1)=\n",
    "### 8.1.1 Symbols\n",
    "\n",
    "Before SymPy will accept a variable as a symbol, the variable must first be defined as a SymPy symbol using the `symbols()` function. It takes one or more symbols at a time and attaches them to variables."
   ]
  },
  {
   "cell_type": "code",
   "execution_count": 7,
   "id": "be78b3a6-81cc-4aab-9b3f-527419df6000",
   "metadata": {},
   "outputs": [],
   "source": [
    "x, c, m = sympy.symbols('x c m')"
   ]
  },
  {
   "cell_type": "code",
   "execution_count": 8,
   "id": "968ba45a-534c-4a0a-8755-f4f526570662",
   "metadata": {},
   "outputs": [
    {
     "data": {
      "text/latex": [
       "$\\displaystyle x$"
      ],
      "text/plain": [
       "x"
      ]
     },
     "execution_count": 8,
     "metadata": {},
     "output_type": "execute_result"
    }
   ],
   "source": [
    "x"
   ]
  },
  {
   "cell_type": "markdown",
   "id": "84a5e1f0-9472-49db-a57c-01ebd2a6250b",
   "metadata": {},
   "source": [
    "There is no value attached to `x` as it is a symbol, so now it can be used to generate symbolic mathematical expressions."
   ]
  },
  {
   "cell_type": "code",
   "execution_count": 9,
   "id": "6f3e0697-2c99-4233-a7a3-e9bbe7a2802a",
   "metadata": {},
   "outputs": [],
   "source": [
    "E = m*c**2"
   ]
  },
  {
   "cell_type": "code",
   "execution_count": 10,
   "id": "9af6366e-4eaa-450b-abfd-08519becdb68",
   "metadata": {},
   "outputs": [
    {
     "data": {
      "text/latex": [
       "$\\displaystyle c^{2} m$"
      ],
      "text/plain": [
       "c**2*m"
      ]
     },
     "execution_count": 10,
     "metadata": {},
     "output_type": "execute_result"
    }
   ],
   "source": [
    "E"
   ]
  },
  {
   "cell_type": "code",
   "execution_count": 11,
   "id": "a8125cf7-feb2-4cd2-8d94-d164e210d48a",
   "metadata": {},
   "outputs": [
    {
     "data": {
      "text/latex": [
       "$\\displaystyle c^{4} m^{2}$"
      ],
      "text/plain": [
       "c**4*m**2"
      ]
     },
     "execution_count": 11,
     "metadata": {},
     "output_type": "execute_result"
    }
   ],
   "source": [
    "E**2"
   ]
  },
  {
   "cell_type": "markdown",
   "id": "0ff57f98-7c1c-42a5-9897-2dedb1a1561b",
   "metadata": {},
   "source": [
    "(8.1.2)=\n",
    "### 8.1.2 Pretty Printing\n",
    "\n",
    "Depending upon settings and version of SymPy, the output may look like Python equations which are not always the easiest to read. If so, you can turn on *pretty printing*, shown below, which will instruct SymPy to render the expressions in more traditional mathematical representations that you might see in a math textbook.\n",
    "\n",
    "~~~python\n",
    "from sympy import init_printing\n",
    "sympy.init_printing()\n",
    "~~~"
   ]
  },
  {
   "cell_type": "markdown",
   "id": "fd057fac-2736-4026-97f8-ad739cc91ff0",
   "metadata": {},
   "source": [
    "(8.1.3)=\n",
    "### 8.1.3 SymPy Mathematical Functions\n",
    "\n",
    "Similar to the `math` Python module, SymPy contains an assortment of standard mathematical operators such as square root and trigonometric functions. A table of common functions is below. Some of the functions start with a capital letter such as `Abs()`. This is important so that they do not collide with native Python functions if SymPy is imported into the global namespace.\n",
    "\n",
    "**Table 1** Common SymPy Functions\n",
    "\n",
    "|      |       |        |        |        |\n",
    "| :--: | :---: | :---:  | :---:  | :----: |   \n",
    "|`Abs()`| `sin()` | `cos()` | `tan()`| `cot()` |\n",
    "|`sec()` | `csc()` | `asin()` | `acos()` | `atan()` |\n",
    "|`ceiling()` | `floor()` | `Min()` | `Max()` | `sqrt()` |\n",
    "\n",
    "It is important to note that any mathematical function operating on a symbol needs to be from the SymPy library. For example, using a `math.cos()` function from the `math` Python modeule will result in an error."
   ]
  },
  {
   "cell_type": "markdown",
   "id": "f517c58f-60ec-47ab-abf5-1c1ea28599fb",
   "metadata": {},
   "source": [
    "(8.2)=\n",
    "## 8.2 Algebra in SymPy\n",
    "\n",
    "SymPy is quite capable at algebraic operations and is knowledgeable of common identities such as $sin(x)^2 + cos(x)^2 = 1$, but before we proceed with doing algebra in SymPy, we need to cover some basic algebraic methods. These are provided in Table 2 which includes polynomial expansion and factoring, expression simplification, and solving equations. The subsequent sections demonstrate each of these.\n",
    "\n",
    "**Table 2** Common Algebraic Methods\n",
    "\n",
    "| Method | Description |\n",
    "|:------:|:----------  |\n",
    "|`sympy.expand()` | Expand polynomials |\n",
    "|`sympy.factor()` | Factors polynomials |\n",
    "|`sympy.simplify()` | Simplifies the expression |\n",
    "|`sympy.solve()` | Equates the expression to zero and solves for the requested variable |\n",
    "\n",
    "(8.2.1)=    \n",
    "### 8.2.1 Polynomial Expansion and Factoring\n",
    "\n",
    "When dealing with polynomials, expansion and factoring are common operations that can be tedious and time-consuming by hand. SymPy makes these quick and easy. For example, we can expand the expression $(x - 1)(3x + 2)$ as demonstrated below."
   ]
  },
  {
   "cell_type": "code",
   "execution_count": 12,
   "id": "9b86fd84-1d20-4218-b5e8-27dd0364c0e8",
   "metadata": {},
   "outputs": [],
   "source": [
    "expr = (x - 1)*(3*x + 2)"
   ]
  },
  {
   "cell_type": "code",
   "execution_count": 13,
   "id": "a65e4839-a25c-44b6-b3a9-32847a7c296f",
   "metadata": {},
   "outputs": [
    {
     "data": {
      "text/latex": [
       "$\\displaystyle 3 x^{2} - x - 2$"
      ],
      "text/plain": [
       "3*x**2 - x - 2"
      ]
     },
     "execution_count": 13,
     "metadata": {},
     "output_type": "execute_result"
    }
   ],
   "source": [
    "sympy.expand(expr)"
   ]
  },
  {
   "cell_type": "markdown",
   "id": "c839327f-466a-45be-8fbc-999ce59843f9",
   "metadata": {},
   "source": [
    "The process can be reversed by factoring the polynomial."
   ]
  },
  {
   "cell_type": "code",
   "execution_count": 14,
   "id": "91de1ffe-14f5-4313-adef-11d1dd57483e",
   "metadata": {},
   "outputs": [
    {
     "data": {
      "text/latex": [
       "$\\displaystyle \\left(x - 1\\right) \\left(3 x + 2\\right)$"
      ],
      "text/plain": [
       "(x - 1)*(3*x + 2)"
      ]
     },
     "execution_count": 14,
     "metadata": {},
     "output_type": "execute_result"
    }
   ],
   "source": [
    "sympy.factor(3*x**2 - x - 2)"
   ]
  },
  {
   "cell_type": "markdown",
   "id": "6b1838bb-e25f-4537-af47-d4394c3f8913",
   "metadata": {},
   "source": [
    "(8.2.2)=\n",
    "### 8.2.2 Simplification\n",
    "\n",
    "SymPy may not always return a mathematical expression in the simplest form. Below is an expression with a simpler form, and if we feed this into SymPy, it is not automatically simplified."
   ]
  },
  {
   "cell_type": "code",
   "execution_count": 15,
   "id": "d773d2f7-6e6e-41e8-b95e-9444e80eaf11",
   "metadata": {},
   "outputs": [
    {
     "data": {
      "text/latex": [
       "$\\displaystyle 3 x^{2} - 4 x - \\frac{15}{x - 3}$"
      ],
      "text/plain": [
       "3*x**2 - 4*x - 15/(x - 3)"
      ]
     },
     "execution_count": 15,
     "metadata": {},
     "output_type": "execute_result"
    }
   ],
   "source": [
    "3*x**2 - 4*x - 15 / (x - 3)"
   ]
  },
  {
   "cell_type": "markdown",
   "id": "bfe12cb8-71e2-4503-8c2e-3e0d4ac92d50",
   "metadata": {},
   "source": [
    "However, if we instruct SymPy to simplify the expression using the `simplify()` method, it will make a best attempt at finding a simpler form."
   ]
  },
  {
   "cell_type": "code",
   "execution_count": 16,
   "id": "8ec2cce5-5afc-4bbb-853d-c7e4966c0c3f",
   "metadata": {},
   "outputs": [
    {
     "data": {
      "text/latex": [
       "$\\displaystyle 3 x + 5$"
      ],
      "text/plain": [
       "3*x + 5"
      ]
     },
     "execution_count": 16,
     "metadata": {},
     "output_type": "execute_result"
    }
   ],
   "source": [
    "sympy.simplify((3*x**2 - 4*x - 15) / (x - 3))"
   ]
  },
  {
   "cell_type": "markdown",
   "id": "03badc7c-4e3d-4808-b888-4386a3d2802a",
   "metadata": {},
   "source": [
    "(8.2.3)=\n",
    "### 8.2.3 Solving Equations\n",
    "\n",
    "SymPy can also solve equations for an unknown variable using the `solve()` function. The function requires a single expression that is equal to zero. For example, the following solves for $x$ in $x^2 + 1.4x – 5.76 = 0$."
   ]
  },
  {
   "cell_type": "code",
   "execution_count": 17,
   "id": "71ea2981-51f9-46fe-82ff-eed07c75dc75",
   "metadata": {},
   "outputs": [
    {
     "data": {
      "text/plain": [
       "[-3.20000000000000, 1.80000000000000]"
      ]
     },
     "execution_count": 17,
     "metadata": {},
     "output_type": "execute_result"
    }
   ],
   "source": [
    "sympy.solve(x**2 + 1.4*x - 5.76)"
   ]
  },
  {
   "cell_type": "markdown",
   "id": "64217538-bc74-4880-bb91-957bed79cfee",
   "metadata": {},
   "source": [
    "(8.2.4)=\n",
    "### 8.2.4 Equilibrium ICE Table\n",
    "\n",
    "A common chemical application of the above algebraic operations is solving equilibrium problems using the ICE (Initial, Change, and Equilibrium) method. As a penultimate step, the mathematical expressions are inserted into the equilibrium expression and often result in a polynomial equation. Below is an example problem with completed ICE table and equilibrium expression.\n",
    "\n",
    "\n",
    "|     | 2 NH3 | $\\rightleftharpoons$ | 3 H2 (g) | + | N2 (g) | \n",
    "|:--: | :--:  |:-:|:-------: |:--:|:-----|\n",
    "|Initial | 0.60 M |  | 0.60 M |  | 0.80 M |\n",
    "| Change, $\\Delta$| -2x |  |  +3x   |  |  +x    |\n",
    "|Equilibrium | 0.60 - 2x | | 0.60 + 3x |  | 0.80 + x |\n",
    "\n",
    "\n",
    "\n",
    "$$ K_c = 3.44 = \\frac{[N_2][H_2]^3}{[NH_3]^2} = \\frac{(0.80 + x)(0.60 + 3x)^3}{(0.60 - 2x)^2}  $$\n",
    "\n",
    "To expand the right portion of the equation, we can use the `expand()` method."
   ]
  },
  {
   "cell_type": "code",
   "execution_count": 18,
   "id": "ca474941-db53-47c3-815c-58843f3c4bf6",
   "metadata": {},
   "outputs": [],
   "source": [
    "expr = (0.80 + x) * (0.60 + 3*x)**3 / (0.60 - 2*x)**2"
   ]
  },
  {
   "cell_type": "code",
   "execution_count": 19,
   "id": "73db9c59-a363-4db1-8bc3-03ffdf006a00",
   "metadata": {},
   "outputs": [
    {
     "data": {
      "text/latex": [
       "$\\displaystyle \\frac{27 x^{4}}{4 x^{2} - 2.4 x + 0.36} + \\frac{37.8 x^{3}}{4 x^{2} - 2.4 x + 0.36} + \\frac{16.2 x^{2}}{4 x^{2} - 2.4 x + 0.36} + \\frac{2.808 x}{4 x^{2} - 2.4 x + 0.36} + \\frac{0.1728}{4 x^{2} - 2.4 x + 0.36}$"
      ],
      "text/plain": [
       "27*x**4/(4*x**2 - 2.4*x + 0.36) + 37.8*x**3/(4*x**2 - 2.4*x + 0.36) + 16.2*x**2/(4*x**2 - 2.4*x + 0.36) + 2.808*x/(4*x**2 - 2.4*x + 0.36) + 0.1728/(4*x**2 - 2.4*x + 0.36)"
      ]
     },
     "execution_count": 19,
     "metadata": {},
     "output_type": "execute_result"
    }
   ],
   "source": [
    "sympy.expand(expr)"
   ]
  },
  {
   "cell_type": "markdown",
   "id": "32d7f785-0660-4d57-910e-1e3a2ef235cf",
   "metadata": {},
   "source": [
    "This is probably not what you were expecting or hoping for. The polynomial has been expanded for the numerator and denominator, but the result is still a fraction. We can instruct SymPy to simplify the results."
   ]
  },
  {
   "cell_type": "code",
   "execution_count": 20,
   "id": "8d8b7bc2-a0e5-47e4-9cfc-b7bd8f389223",
   "metadata": {},
   "outputs": [
    {
     "data": {
      "text/latex": [
       "$\\displaystyle \\frac{27 x^{4} + 37.8 x^{3} + 16.2 x^{2} + 2.808 x + 0.1728}{4 x^{2} - 2.4 x + 0.36}$"
      ],
      "text/plain": [
       "(27*x**4 + 37.8*x**3 + 16.2*x**2 + 2.808*x + 0.1728)/(4*x**2 - 2.4*x + 0.36)"
      ]
     },
     "execution_count": 20,
     "metadata": {},
     "output_type": "execute_result"
    }
   ],
   "source": [
    "sympy.simplify(sympy.expand(expr))"
   ]
  },
  {
   "cell_type": "markdown",
   "id": "feefb2a4-acc3-443b-8368-3517e0e81951",
   "metadata": {},
   "source": [
    "This is much better. Ultimately, we want to solve for $x$, but the `solve()` function requires an expression that equals zero. We can achieve this by subtracting 3.44."
   ]
  },
  {
   "cell_type": "code",
   "execution_count": 21,
   "id": "440df806-9a32-473f-b070-505bfd31ddfc",
   "metadata": {},
   "outputs": [
    {
     "data": {
      "text/plain": [
       "[-1.52752978294276,\n",
       " 0.0916567216237442,\n",
       " 0.0179365306595075 - 0.530628104891225*I,\n",
       " 0.0179365306595075 + 0.530628104891225*I]"
      ]
     },
     "execution_count": 21,
     "metadata": {},
     "output_type": "execute_result"
    }
   ],
   "source": [
    "sympy.solve(expr - 3.44)"
   ]
  },
  {
   "cell_type": "markdown",
   "id": "ea9b4e49-8f09-4612-afa1-f389f1b56678",
   "metadata": {},
   "source": [
    "The fourth-order polynomial returns four solutions, but only one will make physical sense for our application. The second value, 0.09166,  is the only non-imaginary value that does not generate negative concentrations, so this is the solution for $x$."
   ]
  },
  {
   "cell_type": "markdown",
   "id": "7f09e872-304c-4219-855b-0c8716f48a1d",
   "metadata": {},
   "source": [
    "(8.3)=\n",
    "## 8.3 Matrices\n",
    "\n",
    "Matrices are an efficient method of working with larger amounts of data. When done by hand, as is the case in many classroom environments, it is likely slow and painful. The beauty and power of matrices is when they are used with computers because they simplify bulk calculations. SymPy, SciPy, and NumPy all support matrix operations. If you need to do symbolic math, SymPy should be your go-to, but for the numerical calculations that we will do here, we will use NumPy's `linalg` module.\n",
    "\n",
    "SciPy and NumPy both offer a matrix object, but the SciPy official documentation discourages their use as they offer little advantage over a standard NumPy array. We will stick with NumPy arrays here, but below demonstrates creating a matrix object if you feel that you absolutely must use them. See the NumPy documentation page for further details on attributes and methods for this class of object as they will not be covered here."
   ]
  },
  {
   "cell_type": "code",
   "execution_count": 22,
   "id": "1d3c477c-18e8-45eb-9a46-01c072abdd95",
   "metadata": {},
   "outputs": [],
   "source": [
    "import numpy as np\n",
    "mat = np.matrix([[1, 8], [3, 2]])"
   ]
  },
  {
   "cell_type": "code",
   "execution_count": 23,
   "id": "8beeeddb-4ccd-46cc-becc-fb8fcd5cdb4e",
   "metadata": {},
   "outputs": [
    {
     "data": {
      "text/plain": [
       "matrix([[1, 8],\n",
       "        [3, 2]])"
      ]
     },
     "execution_count": 23,
     "metadata": {},
     "output_type": "execute_result"
    }
   ],
   "source": [
    "mat"
   ]
  },
  {
   "cell_type": "markdown",
   "id": "bedebbda-2b43-427f-b35e-cff3968f49de",
   "metadata": {},
   "source": [
    "(8.3.1)=\n",
    "### 8.3.1 Mathematical Operations with Arrays\n",
    "\n",
    "Being that we are using NumPy arrays, the standard mathematical operations use the `+`, `‒`, `*`, `/`, and `**` operators as demonstrated in chapter 4. There are a few other operations and methods, however, that are important for matrices such as calculating the inverse, determinant, transpose, and dot product. For these operations, we have the following methods provided by NumPy's `linalg` module, Table 3, which are demonstrated in the following sections.\n",
    "\n",
    "**Table 3** Common `np.linalg` Methods\n",
    "\n",
    "| Method | Description |\n",
    "|:----:  | :---------  |\n",
    "|`np.linalg.dot()` | Calculates the dot product|\n",
    "|`np.linalg.inv()` | Returns the inverse of an array|\n",
    "|`np.linalg.det()` | Returns the determinant of an array|\n",
    "|`np.linalg.solve()`| Solves a system of linear equations|\n",
    "\n",
    "\n",
    "In addition, it is worth reiterating that there is a general NumPy array method `transpose()` that will transpose or rotate the array around the diagonal. There is a convenient `array.T` shortcut that is often used. See [section 4.2.3](4.2.3) for details."
   ]
  },
  {
   "cell_type": "markdown",
   "id": "3207f108-3383-403f-b1af-bc92233b4cac",
   "metadata": {},
   "source": [
    "(8.3.2)=\n",
    "### 8.3.2 Solving Systems of Equations\n",
    "\n",
    "Solving systems of equations can be a tedious process by hand, but solving them using matrices can save time and effort. Let us say we want to solve the following system of equations for $x$, $y$, and $z$.\n",
    "\n",
    "$$ 6x + 10y + −5z = 21 $$\n",
    "$$ 2x + 7y + z = 13 $$\n",
    "$$ −10x + −11y + 11z = −21 $$\n",
    "\n",
    "These equations can be rewritten in matrix or array form as follows with the left matrix holding the coefficients.\n",
    "\n",
    "$$ \\left[ \\begin{array}{ccc} 6 & 10 & -5 \\\\ 2 & 7 & 1 \\\\ -10 & -11 & 11 \\end{array} \\right]\n",
    "\\cdot\n",
    "\\left[ \\begin{array}{c} x \\\\ y \\\\ z \\end{array} \\right]\n",
    "=\n",
    "\\left[ \\begin{array}{c} 21 \\\\ 13 \\\\ -21 \\end{array} \\right] $$\n",
    "\n",
    "We will call the first array `M`, the second `X`, and the third `y`, so we get\n",
    "\n",
    "$$ M \\cdot X = y $$\n",
    "\n",
    "We can solve for X by multiplying (*dot product*) both sides by the inverse of M (i.e., $M^{-1}$). Anything multiplied by its inverse is the identity, so $M^{-1} \\cdot M$ equals the matrix version of 1.\n",
    "\n",
    "$$ M^{-1} \\cdot M \\cdot X = M^{-1} \\cdot y $$\n",
    "\n",
    "$$ X = M^{-1} \\cdot y $$\n",
    "\n",
    "To get the inverse of a matrix or array, we can use the `np.linalg.inv()` function provided by NumPy's linear algebra module and use the `dot()` method to take the dot product."
   ]
  },
  {
   "cell_type": "code",
   "execution_count": 24,
   "id": "b6d31c87-fa5d-4a79-890e-81b69f366625",
   "metadata": {},
   "outputs": [],
   "source": [
    "M  = np.array([[6, 10, -5],\n",
    "               [-2, 7, 1],\n",
    "               [-10, -11, 11]])\n",
    "y = np.array([21, 13, -21])"
   ]
  },
  {
   "cell_type": "code",
   "execution_count": 25,
   "id": "5981b0ab-d3b8-4450-8248-d809a9c3ebec",
   "metadata": {},
   "outputs": [
    {
     "data": {
      "text/plain": [
       "array([1., 2., 1.])"
      ]
     },
     "execution_count": 25,
     "metadata": {},
     "output_type": "execute_result"
    }
   ],
   "source": [
    "np.linalg.inv(M).dot(y)"
   ]
  },
  {
   "cell_type": "markdown",
   "id": "f03b2c7c-dd42-4ed0-b8d9-47027200f83d",
   "metadata": {},
   "source": [
    "This means that $x$ = 1, $y$ = 2, and $z$ = 1.\n",
    "\n",
    "As a chemical example, we can use the above mathematics and Beer’s law to determine the concentration of three light absorbing analytes in a solution. The mathematical representation of the law is written below where $A$ is absorbance (unitless), $b$ is path length (cm), $C$ is concentration (M), and $\\epsilon$ is the molar absorptivity (cm$^{-1}$M$^{-1}$). The latter value is analyte dependent. \n",
    "\n",
    "$$ A = \\epsilon bC $$\n",
    "\n",
    "For a path length of 1.0 cm, which is quite common, the equation simplifies down to:\n",
    "\n",
    "$$ A = \\epsilon C $$\n",
    "\n",
    "When there are three analytes, $x$, $y$, and $z$, the absorption of light at a given wavelength equals the sum of the individual absorptions.\n",
    "\n",
    "$$ A = \\epsilon_x C_x +  \\epsilon_y C_y +  \\epsilon_z C_z $$\n",
    "\n",
    "If we measure the absorbance of a three analyte solution at three different wavelengths ($\\lambda$), we get the following three equations. \n",
    "\n",
    "$$ A_{\\lambda 1} = \\epsilon_{x \\lambda 1} C_x +  \\epsilon_{y \\lambda 1} C_y +  \\epsilon_{z \\lambda 1} C_z $$\n",
    "$$ A_{\\lambda 2} = \\epsilon_{x \\lambda 2} C_x +  \\epsilon_{y \\lambda 2} C_y +  \\epsilon_{z \\lambda 2} C_z $$\n",
    "$$ A_{\\lambda 3} = \\epsilon_{x \\lambda 3} C_x +  \\epsilon_{y \\lambda 3} C_y +  \\epsilon_{z \\lambda 3} C_z $$\n",
    "\n",
    "As long as we know the molar absorptivity of each analyte at each wavelength collected from pure samples, we have three unknowns and three equations, so we can calculate the concentration of each component. The above equations can be represented as matrices shown below.\n",
    "\n",
    "$$ \\left[ \\begin{array}{ccc} \\epsilon_{x \\lambda 1} & \\epsilon_{y \\lambda 1} & \\epsilon_{z \\lambda 1} \\\\ \\epsilon_{x \\lambda 2} & \\epsilon_{y \\lambda 2} & \\epsilon_{z \\lambda 2} \\\\ \\epsilon_{x \\lambda 3} & \\epsilon_{y \\lambda 3} & \\epsilon_{z \\lambda 3} \\end{array} \\right]\n",
    "\\cdot\n",
    "\\left[ \\begin{array}{c} C_x \\\\ C_y \\\\ C_z \\end{array} \\right]\n",
    "=\n",
    "\\left[ \\begin{array}{c} A_{\\lambda 1} \\\\ A_{\\lambda 2} \\\\ A_{\\lambda 3} \\end{array} \\right] $$\n",
    "\n",
    "If the absorbances at the three wavelengths are 0.6469, 0.2823, and 0.2221, respectively, and we know the molar absorptivities, we get the following matrices.\n",
    "\n",
    "$$ \\left[ \\begin{array}{ccc} 7.8 & 1.1 & 2.0 \\\\ 2.6 & 3.2 & 0.89 \\\\ 1.8 & 1.0 & 8.9 \\end{array} \\right]\n",
    "\\cdot\n",
    "\\left[ \\begin{array}{c} C_x \\\\ C_y \\\\ C_z \\end{array} \\right]\n",
    "=\n",
    "\\left[ \\begin{array}{c} 0.6469 \\\\ 0.2823 \\\\ 0.2221 \\end{array} \\right] $$\n",
    "\n",
    "We simply solve for the concentration matrix as was done earlier. Again, this is solvable using NumPy as shown below."
   ]
  },
  {
   "cell_type": "code",
   "execution_count": 26,
   "id": "8040fb89-1a2e-43ec-95fe-c4206bd83e96",
   "metadata": {},
   "outputs": [
    {
     "data": {
      "text/plain": [
       "array([0.078 , 0.023 , 0.0066])"
      ]
     },
     "execution_count": 26,
     "metadata": {},
     "output_type": "execute_result"
    }
   ],
   "source": [
    "E  = np.array([[7.8, 1.1, 2.0],\n",
    "               [2.6, 3.2, 0.89],\n",
    "               [1.8, 1.0, 8.9]])\n",
    "A = np.array([0.6469, 0.282274, 0.22214])\n",
    "np.linalg.inv(E).dot(A)"
   ]
  },
  {
   "cell_type": "markdown",
   "id": "8f25f458-9a4f-4c26-bffa-54ca7f2ee873",
   "metadata": {},
   "source": [
    "The concentrations are $C_x$ = 0.078 M, $C_y$ = 0.023 M, and $C_z$ = 0.0066 M."
   ]
  },
  {
   "cell_type": "markdown",
   "id": "d1d01922-e842-4876-9f19-c55ce64db807",
   "metadata": {
    "tags": []
   },
   "source": [
    "(8.3.3)=\n",
    "### 8.3.3 Least-Square Minimization by the Normal Equation\n",
    "\n",
    "Finding the line of best fit through data points can be accomplished by least-square minimization. What we are essentially looking for is an equation of the form $y = mx + b$ that is as close as possible to the data points, and the mean square error determines what qualifies as “close.” If we rewrite this problem in matrix or array form, it will look like the following for a series of four point ($x_n$, $y_n$) on a two-dimensional plane. The first array contains a columns of ones to multiply with b, so for the first row, we get $mx_0 + b = y_0$.\n",
    "\n",
    "$$ \\left[ \\begin{array}{cc} x_0 & 1 \\\\ x_1 & 1 \\\\ x_2 & 1 \\\\ x_3 & 1 \\end{array} \\right]\n",
    "\\cdot\n",
    "\\left[ \\begin{array}{c} m \\\\ b \\end{array} \\right]\n",
    "=\n",
    "\\left[ \\begin{array}{c} y_0 \\\\ y_1 \\\\ y_2 \\\\ y_3 \\end{array} \\right] $$\n",
    "\n",
    "We will call the leftmost matrix $X$, the center matrix $\\theta$, and the rightmost matrix $y$.\n",
    "\n",
    "$$ X \\cdot \\theta = y $$\n",
    "\n",
    "Ultimately, we are looking for the values of $m$ and $b$, so we need to find matrix $\\theta$. This can be accomplished through optimization algorithms, or in the case of linear regression, there is a direct solution known as the *normal equation* shown below where $X^T$ is the transpose of $X$.\n",
    "\n",
    "$$ (X^T X)^{-1} X^T y = \\theta $$\n",
    "\n",
    "As an example, below is a table of synthetic data for copper cuprizone absorbances at various concentrations at 591 nm. We can use a linear fit to create a calibration curve from this data.\n",
    "\n",
    "**Table 4** Beer-Lambert Law Data for Copper Cuprizone\n",
    "\n",
    "|Concentration (10$^{-6}$ M) | Absorbance |\n",
    "|:-------------------------: | :-------: |\n",
    "|1.0 | 0.0154 |\n",
    "| 3.0 | 0.0467 |\n",
    "| 6.0 | 0.0930 |\n",
    "| 15  | 0.2311 |\n",
    "| 25  | 0.3925 |\n",
    "| 35  | 0.5413 |\n"
   ]
  },
  {
   "cell_type": "code",
   "execution_count": 27,
   "id": "10e8fac0-9340-4b3d-86ef-9bf26708c821",
   "metadata": {},
   "outputs": [],
   "source": [
    "C = np.array([1.0e-06, 3.0e-06, 6.0e-06, 1.5e-05, 2.5e-05, 3.5e-05])\n",
    "A = np.array([0.0154, 0.0467, 0.0930 , 0.2311, 0.3975, 0.5413])"
   ]
  },
  {
   "cell_type": "code",
   "execution_count": 28,
   "id": "37c33419-d377-47f2-a23d-fb7260181940",
   "metadata": {},
   "outputs": [
    {
     "data": {
      "text/plain": [
       "array([[1.0e-06, 1.0e+00],\n",
       "       [3.0e-06, 1.0e+00],\n",
       "       [6.0e-06, 1.0e+00],\n",
       "       [1.5e-05, 1.0e+00],\n",
       "       [2.5e-05, 1.0e+00],\n",
       "       [3.5e-05, 1.0e+00]])"
      ]
     },
     "execution_count": 28,
     "metadata": {},
     "output_type": "execute_result"
    }
   ],
   "source": [
    "y = A\n",
    "X = np.vstack((C, np.ones(6))).T\n",
    "X"
   ]
  },
  {
   "cell_type": "markdown",
   "id": "bacf813c-45ff-4e61-a4c4-c5120d102ed1",
   "metadata": {},
   "source": [
    "For the sake of readability, the calculation using the normal equation has been split in half as shown below.\n",
    "\n",
    "$$ u = (X^T X)^{-1} $$\n",
    "$$ v = X^T y $$\n",
    "$$ u\\cdot v = \\theta $$"
   ]
  },
  {
   "cell_type": "code",
   "execution_count": 29,
   "id": "b255918d-20a0-4b10-ad58-4d1463d577cc",
   "metadata": {},
   "outputs": [],
   "source": [
    "u = np.linalg.inv(X.T.dot(X))\n",
    "v = X.T.dot(y)\n",
    "theta = u.dot(v)"
   ]
  },
  {
   "cell_type": "code",
   "execution_count": 30,
   "id": "a5c15f7c-5120-4f0c-bd35-0f1c168f411c",
   "metadata": {},
   "outputs": [
    {
     "data": {
      "text/plain": [
       "array([ 1.55886203e+04, -5.45355390e-06])"
      ]
     },
     "execution_count": 30,
     "metadata": {},
     "output_type": "execute_result"
    }
   ],
   "source": [
    "theta"
   ]
  },
  {
   "cell_type": "markdown",
   "id": "17fe2e54-a441-4494-922e-aca6d49eba42",
   "metadata": {},
   "source": [
    "A plot of the linear regression and the data points is shown below, and the linear regression returned a molar absorptivity of 1.55 $\\times$ 10$^4$ cm$^{-1}$M$^{-1}$.The regression also returned a $y$-intercept value of -5.45 $\\times$ 10$^{-6}$, which is below the detection limits making it practically zero. This makes sense because the $y$-intercept should always be approximately zero if the background is subtracted. "
   ]
  },
  {
   "cell_type": "code",
   "execution_count": 31,
   "id": "5bdd8c8d-a1f7-4b57-af8c-ad2f0c881ea6",
   "metadata": {},
   "outputs": [],
   "source": [
    "import matplotlib.pyplot as plt\n",
    "%matplotlib inline"
   ]
  },
  {
   "cell_type": "code",
   "execution_count": 32,
   "id": "3d49ff54-f327-4d7f-8181-dcf045f4d7b1",
   "metadata": {},
   "outputs": [
    {
     "data": {
      "text/plain": [
       "Text(0, 0.5, 'Absorbance, au')"
      ]
     },
     "execution_count": 32,
     "metadata": {},
     "output_type": "execute_result"
    },
    {
     "data": {
      "image/png": "[encoded data removed]",
      "text/plain": [
       "<Figure size 432x288 with 1 Axes>"
      ]
     },
     "metadata": {
      "needs_background": "light"
     },
     "output_type": "display_data"
    }
   ],
   "source": [
    "x = np.linspace(0, 4e-5, 10)\n",
    "plt.plot(x, 1.55886e4 * x - 5.45355e-6, '-', label='Linear Regression')\n",
    "plt.plot(C, A, 'o', label='Data Points')\n",
    "\n",
    "plt.legend()\n",
    "plt.ticklabel_format(style='sci', axis='x', scilimits=(0,0))\n",
    "plt.xlabel('Concentration, M')\n",
    "plt.ylabel('Absorbance, au')"
   ]
  },
  {
   "cell_type": "markdown",
   "id": "379d1fda-5000-4674-ac83-85a1cccc8d1e",
   "metadata": {},
   "source": [
    "(8.4)=\n",
    "## 8.4 Calculus\n",
    "\n",
    "SymPy and SciPy both contain functionality for performing calculus operations. We will start with SymPy for the symbolic math and switch over to SciPy for the strictly numerical work in [section 8.4.3](8.4.3). In this section, we will be working with the radial density functions ($\\psi$) for hydrogen atomic orbitals. The squares of these functions ($\\psi ^2$) provide the probability of finding an electron with respect to distance from the nucleus. While these equations are available in various textbooks, SymPy provides a `physics` module with a `R_nl()` function for generating these equations based on the principle (*n*) quantum number, angular (*l*) quantum number, and the atomic number (*Z*). For example, to generate the function for the 2p orbital of hydrogen, *n* = 2, *l* = 1, and *Z* = 1."
   ]
  },
  {
   "cell_type": "code",
   "execution_count": 33,
   "id": "6510788b-b716-4431-a253-25c3e13e317a",
   "metadata": {},
   "outputs": [],
   "source": [
    "from sympy.physics.hydrogen import R_nl"
   ]
  },
  {
   "cell_type": "code",
   "execution_count": 34,
   "id": "34a15656-1e4a-492b-a542-5ca7a7fc9f51",
   "metadata": {},
   "outputs": [],
   "source": [
    "r = sympy.symbols('r')\n",
    "R_21 = R_nl(2, 1, r, Z=1)"
   ]
  },
  {
   "cell_type": "code",
   "execution_count": 35,
   "id": "3e2705ea-f482-41b9-9731-97bdafdc3682",
   "metadata": {},
   "outputs": [
    {
     "data": {
      "text/latex": [
       "$\\displaystyle \\frac{\\sqrt{6} r e^{- \\frac{r}{2}}}{12}$"
      ],
      "text/plain": [
       "sqrt(6)*r*exp(-r/2)/12"
      ]
     },
     "execution_count": 35,
     "metadata": {},
     "output_type": "execute_result"
    }
   ],
   "source": [
    "R_21"
   ]
  },
  {
   "cell_type": "markdown",
   "id": "cd16d908-6f20-4762-8be4-2fde427ec31c",
   "metadata": {},
   "source": [
    "This provides the wavefunction equation with respect to the radius, *r*. We can also convert it to a Python function using the `sympy.lambdify()` method."
   ]
  },
  {
   "cell_type": "code",
   "execution_count": 36,
   "id": "c992a402-b884-4825-b5ab-15470ba8cc32",
   "metadata": {},
   "outputs": [],
   "source": [
    "f = sympy.lambdify(r, R_21, modules='numpy')"
   ]
  },
  {
   "cell_type": "markdown",
   "id": "a00e3322-c00a-49bb-8509-678fcfb4aa6d",
   "metadata": {},
   "source": [
    "This function is now callable by providing a value for *r*."
   ]
  },
  {
   "cell_type": "code",
   "execution_count": 37,
   "id": "f6ffbb76-4432-485f-a380-fcfbae783079",
   "metadata": {},
   "outputs": [
    {
     "data": {
      "text/plain": [
       "0.07948602207520471"
      ]
     },
     "execution_count": 37,
     "metadata": {},
     "output_type": "execute_result"
    }
   ],
   "source": [
    "f(0.5)"
   ]
  },
  {
   "cell_type": "markdown",
   "id": "698f5631-a2f8-445a-bbae-fa7d2533ee13",
   "metadata": {},
   "source": [
    "(8.4.1)=\n",
    "### 8.4.1 Differentiation\n",
    "\n",
    "SymPy can take the derivative of mathematical expression using the `sympy.diff()` function.  This function requires a mathematical expression, the variable with respect the derivative is taken from, and the degree. The default behavior is to take the first derivative if a degree is not specified.\n",
    "\n",
    "~~~python\n",
    "sympy.diff(expr, r, deg)\n",
    "~~~\n",
    "\n",
    "As an example problem, the radius of maximum density can be found by taking the first derivative of the radial equation and solving for zero slope."
   ]
  },
  {
   "cell_type": "code",
   "execution_count": 38,
   "id": "4bec5f0b-b094-4ed4-8fa2-a324add853c0",
   "metadata": {},
   "outputs": [
    {
     "data": {
      "text/latex": [
       "$\\displaystyle - \\frac{\\sqrt{6} r e^{- \\frac{r}{2}}}{24} + \\frac{\\sqrt{6} e^{- \\frac{r}{2}}}{12}$"
      ],
      "text/plain": [
       "-sqrt(6)*r*exp(-r/2)/24 + sqrt(6)*exp(-r/2)/12"
      ]
     },
     "execution_count": 38,
     "metadata": {},
     "output_type": "execute_result"
    }
   ],
   "source": [
    "dR_21 = sympy.diff(R_21, r, 1)\n",
    "dR_21"
   ]
  },
  {
   "cell_type": "code",
   "execution_count": 39,
   "id": "49b5e691-35cd-4ce6-a9c7-fc5e4d9424e6",
   "metadata": {},
   "outputs": [],
   "source": [
    "mx = float(sympy.solve(dR_21)[0])"
   ]
  },
  {
   "cell_type": "markdown",
   "id": "8de9e24e-9fac-4591-8c5e-fffad4fb0ba5",
   "metadata": {},
   "source": [
    "The `solve()` function returns an array, so we need to index it to get the single value out. We can plot the radial density and the maximum density point to see if it worked."
   ]
  },
  {
   "cell_type": "code",
   "execution_count": 40,
   "id": "d9a39af3-6e76-46c8-93a7-24c4b0f10d13",
   "metadata": {},
   "outputs": [
    {
     "data": {
      "text/plain": [
       "Text(0, 0.5, 'Probability Density')"
      ]
     },
     "execution_count": 40,
     "metadata": {},
     "output_type": "execute_result"
    },
    {
     "data": {
      "image/png": "[encoded data removed]",
      "text/plain": [
       "<Figure size 432x288 with 1 Axes>"
      ]
     },
     "metadata": {
      "needs_background": "light"
     },
     "output_type": "display_data"
    }
   ],
   "source": [
    "R = np.linspace(0,20,100)\n",
    "plt.plot(R, f(R))\n",
    "plt.plot(mx, f(mx), 'o')\n",
    "plt.xlabel('Radius, $a_0$')\n",
    "plt.ylabel('Probability Density')"
   ]
  },
  {
   "cell_type": "markdown",
   "id": "6d8b439f-5d26-476a-b0f4-aac1f57de28d",
   "metadata": {},
   "source": [
    "The radius is in Bohrs ($a_0$) which is equal to approximately 0.53 angstroms."
   ]
  },
  {
   "cell_type": "markdown",
   "id": "56f33781-af3e-4f06-83dc-cd26ed6a7839",
   "metadata": {},
   "source": [
    "(8.4.2)=\n",
    "### 8.4.2 Integration of Functions\n",
    "\n",
    "SymPy can also integrate expressions using the `sympy.integrate()` function which takes the mathematical expression and the variable plus integration range in the form of a tuple. If the integration range is omitted, then SymPy will return a symbolic expression.\n",
    "\n",
    "The normalized (i.e., totals to one) density function is the squared wave function times $r^2$ (i.e, $\\psi ^2 r^2$). We can use this to determine the probability of finding an electron in a particular range of distances from the radius. Below, we integrate from the nucleus to the radius of maximum density."
   ]
  },
  {
   "cell_type": "code",
   "execution_count": 41,
   "id": "263bdbfe-eba2-4efd-9893-8e012485f5aa",
   "metadata": {},
   "outputs": [
    {
     "data": {
      "text/latex": [
       "$\\displaystyle 0.0526530173437111$"
      ],
      "text/plain": [
       "0.0526530173437111"
      ]
     },
     "execution_count": 41,
     "metadata": {},
     "output_type": "execute_result"
    }
   ],
   "source": [
    "sympy.integrate(R_21**2 * r**2, (r,0, mx)).evalf()"
   ]
  },
  {
   "cell_type": "markdown",
   "id": "a1f348f6-4de2-44cd-8087-634decc19327",
   "metadata": {},
   "source": [
    "There is a 5.27% probability finding an electron between the nucleus and the radius of maximum probability. This is probably may be a bit surprising, but examination of the radial density plot reveals that the radius of maximum probabily is quite close to the nucleus with a significant amount of density beyond the maximum radius. Let's see the probability of finding an electron between 0 and 10 Bohrs from the nucleus."
   ]
  },
  {
   "cell_type": "code",
   "execution_count": 42,
   "id": "78036562-8e78-4535-96b2-108efafc3aeb",
   "metadata": {},
   "outputs": [
    {
     "data": {
      "text/latex": [
       "$\\displaystyle 0.970747311923039$"
      ],
      "text/plain": [
       "0.970747311923039"
      ]
     },
     "execution_count": 42,
     "metadata": {},
     "output_type": "execute_result"
    }
   ],
   "source": [
    "sympy.integrate(R_21**2 * r**2, (r,0,10)).evalf()"
   ]
  },
  {
   "cell_type": "markdown",
   "id": "258c7db6-99a5-4ba6-8814-812e9e1925ac",
   "metadata": {},
   "source": [
    "There is a 97.1% chance of finding the electron between 0 and 10 angstroms.\n",
    "\n",
    "The SciPy library also includes functions in the `integrate` module for integrating mathematical functions. Information can be found on the SciPy documentation page listed at the end of this chapter under [Further Reading](further_reading08)."
   ]
  },
  {
   "cell_type": "markdown",
   "id": "086ca416-e44a-4f26-b292-ad555602b12a",
   "metadata": {},
   "source": [
    "(8.4.3)=\n",
    "### 8.4.3 Integrating Sampled Data\n",
    "\n",
    "The above integration assumes a mathematical function is known. There are times when there is no known function to describe the data such as spectra. This is common in NMR spectroscopy and gas chromatography (GC) among many other applications where integrations of peak areas are used to quantify different components of a spectrum.\n",
    "\n",
    "In the following example, we will use a section of a $^1$H NMR spectrum where we want to determine the ratio of the three triplet peaks via integration. NMR spectra are typically stored in binary files that require a special library to read, which is covered in chapter 11. For simplicity in this example, the data for a section of the NMR spectrum has been converted to a CSV file titled *Ar_NMR.csv*. "
   ]
  },
  {
   "cell_type": "code",
   "execution_count": 43,
   "id": "4a6f3003-d78d-4dd4-b195-93b58f5523b2",
   "metadata": {},
   "outputs": [
    {
     "data": {
      "text/plain": [
       "array([[0.00000000e+00, 3.42490660e-03],\n",
       "       [1.00000000e+00, 4.52560300e-03],\n",
       "       [2.00000000e+00, 6.67372160e-03],\n",
       "       [3.00000000e+00, 8.58410100e-03],\n",
       "       [4.00000000e+00, 1.23892580e-02],\n",
       "       [5.00000000e+00, 2.12517060e-02],\n",
       "       [6.00000000e+00, 5.18062560e-02],\n",
       "       [7.00000000e+00, 1.23403220e-01],\n",
       "       [8.00000000e+00, 7.49717060e-02],\n",
       "       [9.00000000e+00, 1.12987520e-01],\n",
       "       [1.00000000e+01, 2.47482900e-01],\n",
       "       [1.10000000e+01, 1.04401566e-01],\n",
       "       [1.20000000e+01, 8.17907750e-02],\n",
       "       [1.30000000e+01, 1.38453960e-01],\n",
       "       [1.40000000e+01, 5.04080100e-02],\n",
       "       [1.50000000e+01, 2.00982630e-02],\n",
       "       [1.60000000e+01, 1.38752850e-02],\n",
       "       [1.70000000e+01, 1.28241135e-02],\n",
       "       [1.80000000e+01, 1.54948140e-02],\n",
       "       [1.90000000e+01, 1.70803180e-02],\n",
       "       [2.00000000e+01, 2.34651420e-02],\n",
       "       [2.10000000e+01, 4.76330930e-02],\n",
       "       [2.20000000e+01, 1.10299855e-01],\n",
       "       [2.30000000e+01, 7.56612400e-02],\n",
       "       [2.40000000e+01, 1.15097150e-01],\n",
       "       [2.50000000e+01, 1.85112450e-01],\n",
       "       [2.60000000e+01, 3.18055840e-01],\n",
       "       [2.70000000e+01, 2.44278220e-01],\n",
       "       [2.80000000e+01, 1.44489410e-01],\n",
       "       [2.90000000e+01, 6.10540140e-02],\n",
       "       [3.00000000e+01, 7.93569160e-02],\n",
       "       [3.10000000e+01, 7.98874400e-02],\n",
       "       [3.20000000e+01, 2.85217260e-02],\n",
       "       [3.30000000e+01, 1.68548040e-02],\n",
       "       [3.40000000e+01, 1.48743290e-02],\n",
       "       [3.50000000e+01, 1.39662160e-02],\n",
       "       [3.60000000e+01, 1.28568120e-02],\n",
       "       [3.70000000e+01, 1.59042850e-02],\n",
       "       [3.80000000e+01, 2.24487820e-02],\n",
       "       [3.90000000e+01, 5.66768200e-02],\n",
       "       [4.00000000e+01, 6.38733950e-02],\n",
       "       [4.10000000e+01, 4.39581830e-02],\n",
       "       [4.20000000e+01, 1.09901360e-01],\n",
       "       [4.30000000e+01, 9.82578100e-02],\n",
       "       [4.40000000e+01, 3.91401280e-02],\n",
       "       [4.50000000e+01, 6.37550060e-02],\n",
       "       [4.60000000e+01, 4.55453170e-02],\n",
       "       [4.70000000e+01, 1.38955860e-02],\n",
       "       [4.80000000e+01, 7.40419900e-03],\n",
       "       [4.90000000e+01, 4.81957300e-03]])"
      ]
     },
     "execution_count": 43,
     "metadata": {},
     "output_type": "execute_result"
    }
   ],
   "source": [
    "nmr = np.genfromtxt('data/Ar_NMR.csv', delimiter=',')\n",
    "nmr"
   ]
  },
  {
   "cell_type": "markdown",
   "id": "a6a87c74-3507-4fa2-b835-e8e0abfb39df",
   "metadata": {},
   "source": [
    "The imported data are stored in an array where the first column contains the index values and the second column contains the amplitudes."
   ]
  },
  {
   "cell_type": "code",
   "execution_count": 44,
   "id": "2f2d8605-b9c7-4c7b-9298-17738da25c6c",
   "metadata": {},
   "outputs": [
    {
     "data": {
      "text/plain": [
       "[<matplotlib.lines.Line2D at 0x7ff6e23a1610>]"
      ]
     },
     "execution_count": 44,
     "metadata": {},
     "output_type": "execute_result"
    },
    {
     "data": {
      "image/png": "[encoded data removed]",
      "text/plain": [
       "<Figure size 432x288 with 1 Axes>"
      ]
     },
     "metadata": {
      "needs_background": "light"
     },
     "output_type": "display_data"
    }
   ],
   "source": [
    "plt.plot(nmr[:,0],nmr[:,1], '.-')"
   ]
  },
  {
   "cell_type": "markdown",
   "id": "ce3b3b76-a02e-4ca4-a6fc-3819beaf1756",
   "metadata": {},
   "source": [
    "Above is a plot of the peaks with respect to the index values (not ppm). To integrate under each of the triplet peaks, first we need the index values for the edges of each peak. Below is a list, `i`, that provides reasonable boundaries, and a plot is below with these edges marked in orange squares."
   ]
  },
  {
   "cell_type": "code",
   "execution_count": 45,
   "id": "8aa6b1ab-e077-4e39-a08b-851cb2b9b1b9",
   "metadata": {},
   "outputs": [
    {
     "data": {
      "image/png": "[encoded data removed]",
      "text/plain": [
       "<Figure size 432x288 with 1 Axes>"
      ]
     },
     "metadata": {
      "needs_background": "light"
     },
     "output_type": "display_data"
    }
   ],
   "source": [
    "i = [(4, 17), (19, 34), (36, 49)]\n",
    "plt.plot(nmr[:,1], '.-')\n",
    "for pair in i:\n",
    "    for point in pair:\n",
    "        plt.plot(point, nmr[point,1], 'C1s')"
   ]
  },
  {
   "cell_type": "markdown",
   "id": "09e96f52-3cec-4e56-ba40-e873d100e60c",
   "metadata": {},
   "source": [
    "Integrations under sampled data do not include the values between data points, so these regions are estimated based on assumptions. The `trapz()` function assumes that any data point between known points lies directly between the known data points (i.e., linear interpolation) as shown below by the blue lines."
   ]
  },
  {
   "cell_type": "code",
   "execution_count": 46,
   "id": "fee427cf-30a3-47b3-9a5e-4cacf048f9b7",
   "metadata": {},
   "outputs": [],
   "source": [
    "from scipy.interpolate import interp1d"
   ]
  },
  {
   "cell_type": "code",
   "execution_count": 47,
   "id": "634f99eb-7022-4927-b9f2-6d581c3d4a02",
   "metadata": {},
   "outputs": [
    {
     "data": {
      "image/png": "[encoded data removed]",
      "text/plain": [
       "<Figure size 432x288 with 1 Axes>"
      ]
     },
     "metadata": {
      "needs_background": "light"
     },
     "output_type": "display_data"
    }
   ],
   "source": [
    "t = interp1d(nmr[:,0],nmr[:,1], kind='linear')\n",
    "xnew = np.linspace(0,49, 50)\n",
    "\n",
    "plt.plot(xnew, t(xnew), 'C0-')\n",
    "plt.plot(nmr[:,0],nmr[:,1], 'C1.')\n",
    "plt.title('Trapezoidal Integration')\n",
    "plt.show()"
   ]
  },
  {
   "cell_type": "markdown",
   "id": "940ce77a-6fa6-4e15-9af5-51b369741928",
   "metadata": {},
   "source": [
    "Alternatively, the `simps()` function uses the *Simpson's rule* which estimates the data between known points using quadratic interpolation shown below."
   ]
  },
  {
   "cell_type": "code",
   "execution_count": 48,
   "id": "34d3b66d-22ca-4b6d-9284-d89ddeadab98",
   "metadata": {},
   "outputs": [
    {
     "data": {
      "image/png": "[encoded data removed]",
      "text/plain": [
       "<Figure size 432x288 with 1 Axes>"
      ]
     },
     "metadata": {
      "needs_background": "light"
     },
     "output_type": "display_data"
    }
   ],
   "source": [
    "s = interp1d(nmr[:,0],nmr[:,1], kind='quadratic')\n",
    "xnew = np.linspace(0,49, 300)\n",
    "\n",
    "plt.plot(xnew, s(xnew), 'C0-')\n",
    "plt.plot(nmr[:,0],nmr[:,1], 'C1.')\n",
    "plt.title('Simppson\\'s Integration')\n",
    "plt.show()"
   ]
  },
  {
   "cell_type": "markdown",
   "id": "7061419d-abda-4995-8e1c-7ec66ec15028",
   "metadata": {},
   "source": [
    "Both functions take the `y` and `x` values in this order. Below, the trapezoidal method is employed."
   ]
  },
  {
   "cell_type": "code",
   "execution_count": 49,
   "id": "7e9b49f0-aaa8-425d-83ca-95f2da3b6fd2",
   "metadata": {},
   "outputs": [
    {
     "name": "stdout",
     "output_type": "stream",
     "text": [
      "1.0401881535\n",
      "1.529880057\n",
      "0.5834871775\n"
     ]
    }
   ],
   "source": [
    "from scipy.integrate import trapz\n",
    "\n",
    "for peak in i:\n",
    "    x = nmr[peak[0]:peak[1], 0]\n",
    "    y = nmr[peak[0]:peak[1], 1]\n",
    "    print(trapz(y, x))"
   ]
  },
  {
   "cell_type": "markdown",
   "id": "e9c36601-296f-4528-8128-9b482e683c0a",
   "metadata": {},
   "source": [
    "The three peaks have areas of approximately 2:3:1 ratio. Using Simpson's rule here gives approximately the same result."
   ]
  },
  {
   "cell_type": "markdown",
   "id": "ce73e58f-9f81-4b0f-88c4-eef3f42675ed",
   "metadata": {},
   "source": [
    "(8.4.4)=\n",
    "### 8.4.4 Integrating Ordinary Differential Equations\n",
    "\n",
    "*Ordinary differential equations (ODE)* mathematically describe the change of one or more dependent variables with respect to an independent variable. Common chemical applications include chemical kinetics, diffusion, electric current, among others. The SciPy `integrate` module provides an ODE integrator called `odeint()` which can integrate ordinary differential equations. This is useful for, among other things, integrating under kinetic differential equations to determine the concentration of reactants and products over the course of a chemical reaction. \n",
    "\n",
    "For example, the following is a first-order chemical reaction with starting material, A, and product, P.\n",
    "\n",
    "$$ A \\rightarrow P $$\n",
    "\n",
    "The decay of a radioactive isotope is an example of a first-order reaction because the rate of decay is proportional to the amount of A. First-order reaction rates are described by \n",
    "\n",
    "$$ Rate = \\frac{d[A]}{dt} = -k[A] $$\n",
    " \n",
    "where [A] is the concentration (M) of A, $k$ is the rate constant (1/s), and rate is the change in [A] versus time (M/s). The `odeint()` function below takes a differential equation in the form of a Python function, `func`, the initial values for A, `A0`, and a list or array of the times,`t`, to calculate the [A] . \n",
    "\n",
    "~~~python\n",
    "scipy.integrate.odeint(func, A0, t)\n",
    "~~~\n",
    "\n",
    "The Python function can be defined by a `def` statement or a lambda expression. The former is used below."
   ]
  },
  {
   "cell_type": "code",
   "execution_count": 50,
   "id": "2f8586fa-145b-4987-93e5-abcdbd40d71a",
   "metadata": {},
   "outputs": [],
   "source": [
    "def rate_1st(A, t):\n",
    "    return -k * A"
   ]
  },
  {
   "cell_type": "markdown",
   "id": "b074c35c-57e6-4774-96e8-8c3327df3cd3",
   "metadata": {},
   "source": [
    "The function should take the dependent variable(s) as the first positional argument and the independent variable as the second positional argument. In this example, `A` is the dependent variable and time, `t`, is the independent variable. If there are multiple dependent variables, they need to be provided inside a composite object like a list or tuple which can be unpacked through indexing or tuple unpacking once inside the function. You may also notice that t is an unused argument in our Python function. It is included and required to signal to `odeint()` that the independent variable is `t`. The function is integrated below at times defined by `t`, and the initial concentration of A and rate constant are `A0` and `k`, respectively."
   ]
  },
  {
   "cell_type": "code",
   "execution_count": 51,
   "id": "a6348e21-9c4b-49de-a898-7c2a9e6272bc",
   "metadata": {},
   "outputs": [],
   "source": [
    "from scipy.integrate import odeint\n",
    "t = np.arange(0,50,4)  # time(seconds)\n",
    "A0 = 1  # starting concentration (molarity)\n",
    "k = 0.1  # rate constant in 1/s\n",
    "A_t = odeint(rate_1st, A0, t)\n",
    "P_t = A0 - A_t    # concentration of product"
   ]
  },
  {
   "cell_type": "markdown",
   "id": "b3ce71ce-b82e-4aa2-a50e-3dc44e4120fd",
   "metadata": {},
   "source": [
    "The concentration of product (`P_t`) is calculated through the difference between the initial concentration of starting material and the current concentration. That is, we assume that whatever starting material was consumed has become product. The results of the simulation have been visualized below."
   ]
  },
  {
   "cell_type": "code",
   "execution_count": 52,
   "id": "e7d5f69a-3a20-4d83-a9ba-f7c06a35ac6d",
   "metadata": {},
   "outputs": [
    {
     "data": {
      "text/plain": [
       "<matplotlib.legend.Legend at 0x7ff6e3240ca0>"
      ]
     },
     "execution_count": 52,
     "metadata": {},
     "output_type": "execute_result"
    },
    {
     "data": {
      "image/png": "[encoded data removed]",
      "text/plain": [
       "<Figure size 432x288 with 1 Axes>"
      ]
     },
     "metadata": {
      "needs_background": "light"
     },
     "output_type": "display_data"
    }
   ],
   "source": [
    "plt.plot(t, A_t, 'o-', label='A')\n",
    "plt.plot(t, P_t, 'p-', label='P')\n",
    "plt.xlabel('Time, s')\n",
    "plt.ylabel('[X], M')\n",
    "plt.legend()"
   ]
  },
  {
   "cell_type": "markdown",
   "id": "3771fd5c-9056-412f-b105-71d00d8f4d95",
   "metadata": {},
   "source": [
    "This approach to kinetic simulations can be adapted to even more complex reactions which are demonstrated in chapter 9."
   ]
  },
  {
   "cell_type": "markdown",
   "id": "021bb6dd-475b-48eb-a139-40fc6fc28ae2",
   "metadata": {},
   "source": [
    "(8.5)=\n",
    "## 8.5 Mathematics in Python\n",
    "\n",
    "Between SymPy, NumPy, SciPy, and Python's built-in functionality, there is often more than one way to carry out calculations in Python. For example, finding roots and derivatives of polynomials can be, along with the approaches demonstrated in this chapter, calculated by creating a NumPy `Polynomial` object and using NumPy's `roots()` and `deriv()` methods, respectively. How you carry out a calculation can often come down to matter of person preference, though there are differences in terms of speed and the output format. Find what works for you and do not necessarily worry if others are doing the same calculations through a different library or set of functions."
   ]
  },
  {
   "cell_type": "markdown",
   "id": "99098788-7888-46eb-8998-0f6d23bb05cd",
   "metadata": {},
   "source": [
    "(further_reading08)=\n",
    "\n",
    "## Further Reading\n",
    "    \n",
    "1. SymPy Website. [http://www.sympy.org/en/index.html](http://www.sympy.org/en/index.html) (free resource)\n",
    "\n",
    "2. SciPy and NumPy Documentation Pages. [https://docs.scipy.org/doc/](http://www.sympy.org/en/index.html) (free resource)"
   ]
  },
  {
   "cell_type": "markdown",
   "id": "58e0ceb4-3d00-4f88-9f33-76bb5222ff29",
   "metadata": {},
   "source": [
    "## Exercises\n",
    "### Symbolic Mathematics"
   ]
  },
  {
   "cell_type": "markdown",
   "id": "62ba9bb9-afe7-435b-a938-4dcc03bb3f69",
   "metadata": {},
   "source": [
    "1. Factor the following polynomial using SymPy: $x^2 + x – 6$\n",
    "\n",
    "2.  Simplify the following mathematical expression using SymPy: $ z = 3x + x^2 + 2xy $\n",
    "\n",
    "3. Expand the following expression using SymPy: $(x – 2)(x + 5)(x)$\n",
    "\n",
    "4. A 53.2 g block of lead (Cp = 0.128 J/g·°C) at 128 °C is dropped into a 238.1 g water (Cp = 4.18 J/g·°C) at 25.0 °C. What is the final temperature of both the lead and water?\n",
    "Hint: Assume this is an isolated system, so q$_{lead}$ + q$_{water}$ = 0. We also know that $q = mCp \\Delta T$.\n",
    "\n",
    "5. The following equation relates the $\\Delta$G with respect to the equilibrium constant K. \n",
    "\n",
    "    $$ \\Delta G = \\Delta G^o - RT ln(K) $$\n",
    "\n",
    "    If $\\Delta G^o$ = -1.22 kJ/mol for a chemical reaction, what is the value for K for this reaction at 298 K? Use     the sympy.solve() function to solve this problem. Remember that equilibrium is when $\\Delta$G = 0 kJ/mol, and       watch your energy units. (R = 8.314 J/mol·K)\n",
    "\n",
    "6. A matrix or array of x,y coordinates can be rotated on a two-dimensional plane around the origion by multiplying by the following rotation matrix (M$_R$). The angle ($\\theta$) is in radians, and the coordinates are rotated clockwise around the origin.\n",
    "\n",
    "    $$ M_R = \\left[ \\begin{array}{cc} cos(\\theta) & -sin(\\theta) \\\\ sin(\\theta) & cos(\\theta) \\end{array} \\right] $$\n",
    "\n",
    "    Below is an example using three generic points on the x,y plane.\n",
    "\n",
    "    $$ \\left[ \\begin{array}{cc} x_0 & y_0 \\\\ x_1 & y_1 \\\\ x_2 & y_2 \\end{array} \\right] \n",
    "    \\cdot  \n",
    "    \\left[ \\begin{array}{cc} cos(\\theta) & -sin(\\theta) \\\\ sin(\\theta) & cos(\\theta) \\end{array} \\right]  \n",
    "    =\n",
    "    \\left[ \\begin{array}{cc} x'_0 & y'_0 \\\\ x'_1 & y'_1 \\\\ x'_2 & y'_2 \\end{array} \\right]\n",
    "    $$\n",
    "    \n",
    "    a) Given the following coordinates for the four atoms in carbonate (CO$_3^{2-}$) measured in angstroms, rotate them       90$^o$ clockwise. Plot the initial and rotated points in different colors to show that it worked.\n",
    "    \n",
    "    $$ C: (2.00, 2.00) \\quad O1: (2.00, 3.28) \\quad O2: (0.27, 1.50) \\quad O3: (3.73, 1.50) $$\n",
    "    \n",
    "    b) Package the above code into a function that takes an array of points and an angle and performs the above         rotation.\n",
    "    \n",
    "7. Using the rotation matrix described in the above problem, write a function that rotates the carbonate anion around its own center of mass. The suggested steps to complete this task are listed below.\n",
    "\n",
    "    a) Calculate the center of mass\n",
    "    \n",
    "    b)  Subtract the center of mass from all points to shift the cluster to the origin. \n",
    "    \n",
    "    c) Rotate the cluster of points.\n",
    "    \n",
    "    d) Add the center of mass back the cluster the shift the points back.\n",
    "\n",
    "8. The following is the equation for the work performed by a reversible, isothermal (i.e., constant T) expansion of a piston by a fixed quantity of gas.\n",
    "\n",
    "    $$ w = \\int_{v_i}^{v_f} -nRT \\frac{1}{V}dV $$\n",
    "\n",
    "    a) Using SymPy, integrate this expression symbolically for V$_i$ $\\rightarrow$ V$_f$. Try having SymPy simplify the answer to see     if there is a simpler form.\n",
    "\n",
    "    b) Integrate the same express above for the expansion of 2.44 mol of He gas from 0.552 L to 1.32 L at 298 K.         Feel free to use either SymPy or SciPy.\n",
    "\n",
    "9. Using `odeint()`, simulate the concentration of starting material for the second-order reaction below and overlay it with the second-order integrated rate law to show that they agree.\n",
    "\n",
    "    $$ 2A \\rightarrow P $$"
   ]
  },
  {
   "cell_type": "code",
   "execution_count": null,
   "id": "1d68e802-1641-4dbc-bc6e-f8760eda33e6",
   "metadata": {},
   "outputs": [],
   "source": []
  }
 ],
 "metadata": {
  "kernelspec": {
   "display_name": "Python 3 (ipykernel)",
   "language": "python",
   "name": "python3"
  },
  "language_info": {
   "codemirror_mode": {
    "name": "ipython",
    "version": 3
   },
   "file_extension": ".py",
   "mimetype": "text/x-python",
   "name": "python",
   "nbconvert_exporter": "python",
   "pygments_lexer": "ipython3",
   "version": "3.9.7"
  }
 },
 "nbformat": 4,
 "nbformat_minor": 5
}
